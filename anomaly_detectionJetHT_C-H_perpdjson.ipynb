{
 "cells": [
  {
   "cell_type": "code",
   "execution_count": 1,
   "metadata": {
    "collapsed": false
   },
   "outputs": [
    {
     "name": "stdout",
     "output_type": "stream",
     "text": [
      "setGPU: Setting GPU to: 1\n"
     ]
    },
    {
     "name": "stderr",
     "output_type": "stream",
     "text": [
      "Using TensorFlow backend.\n"
     ]
    }
   ],
   "source": [
    "import setGPU\n",
    "import pandas as pd\n",
    "import numpy as np\n",
    "import pickle\n",
    "import matplotlib.pyplot as plt\n",
    "import matplotlib.patches as mpatches\n",
    "from scipy import stats\n",
    "import tensorflow as tf\n",
    "import seaborn as sns\n",
    "from pylab import rcParams\n",
    "from sklearn.model_selection import train_test_split\n",
    "from keras.models import Model, load_model\n",
    "from keras.layers import Input, Dense\n",
    "from keras.callbacks import ModelCheckpoint, TensorBoard\n",
    "from keras import regularizers\n",
    "\n",
    "from sklearn.utils import shuffle\n",
    "import h5py\n",
    "%matplotlib inline\n",
    "\n",
    "sns.set(style='whitegrid', palette='muted', font_scale=1.5)\n",
    "\n",
    "rcParams['figure.figsize'] = 14, 8\n",
    "\n",
    "RANDOM_SEED = 42\n",
    "LABELS = [\"Normal\", \"Anomalous\"]"
   ]
  },
  {
   "cell_type": "code",
   "execution_count": 2,
   "metadata": {
    "collapsed": false
   },
   "outputs": [],
   "source": [
    "\n",
    "#Choose where to load the files from\n",
    "# b_h5 = '/eos/cms/store/user/fsiroky/hdf5_data/'\n",
    "b_h5       = '/eos/cms/store/user/fsiroky/lumih5/'\n",
    "# b_h5   = '/afs/cern.ch/user/f/fsiroky/public/'\n",
    "# b_h5 = '/mnt/hdf5test/'\n",
    "# b_h5   = '/home/test_local/'\n",
    "\n",
    "pds  = {1: 'BTagCSV', 2: 'BTagMu', 3: 'Charmonium', 4:'DisplacedJet', 5: 'DoubleEG',\n",
    "        6: 'DoubleMuon', 7: 'DoubleMuonLowMass',\n",
    "       # 8: 'FSQJets', 9: 'HighMultiplicityEOF', #NOT ENOUGH DATA, NOTEBOOK FAILES\n",
    "        10: 'HTMHT', 11: 'JetHT', 12: 'MET',\n",
    "       # 13: 'MinimumBias', #NOT ENOUGH DATA\n",
    "        14: 'MuonEG', 15: 'MuOnia',\n",
    "       # 16: 'NoBPTX',\n",
    "        17: 'SingleElectron', 18: 'SingleMuon', 19: 'SinglePhoton', 20: 'Tau', 21: 'ZeroBias'\n",
    "}\n",
    "\n",
    "      \n",
    "def get_jets(bg_files, bg_jets, sig_files, sig_jets):\n",
    "    #Use np.empty([0,2802]) for both good and bad jets, if you use b_h5 = '/eos/cms/store/user/fsiroky/hdf5_data/'\n",
    "    good_jets = np.empty([0,2806])\n",
    "    bad_jets  = np.empty([0,2806])\n",
    "                   # Control which time intervals files per PD to load with range in the for loop\n",
    "    for i in range(5,len(bg_files)):\n",
    "        try:\n",
    "            bg_jetfile  = h5py.File(bg_files[i],'r')\n",
    "            bg_jet      = bg_jetfile[bg_jets[i]][:]\n",
    "            sig_jetfile = h5py.File(sig_files[i],'r')\n",
    "            sig_jet     = sig_jetfile[sig_jets[i]][:]\n",
    "\n",
    "            bad_jets    = np.concatenate((bad_jets, bg_jet), axis=0)\n",
    "            good_jets = np.concatenate((good_jets, sig_jet), axis=0)\n",
    "            print( \"Number of good lumis: \", len(sig_jet), \" Number of bad lumis: \", len(bg_jet)) \n",
    "\n",
    "        except OSError as error:\n",
    "            print(\"This Primary Dataset doesn't have \", bg_jets[i], error )\n",
    "            continue\n",
    "    return good_jets, bad_jets"
   ]
  },
  {
   "cell_type": "code",
   "execution_count": null,
   "metadata": {
    "collapsed": false
   },
   "outputs": [],
   "source": [
    "#Choose which PD to load\n",
    "nbr = 11 #JetHT\n",
    "\n",
    "bg_files  = [b_h5+pds[nbr]+'_C_background.h5',b_h5+pds[nbr]+'_D_background.h5', b_h5+pds[nbr]+'_E_background.h5',\n",
    "             b_h5+pds[nbr]+'_F_background.h5', b_h5+pds[nbr]+'_G_background.h5', b_h5+pds[nbr]+'_H_background.h5']\n",
    "\n",
    "bg_jets   = [pds[nbr]+\"_C_background\", pds[nbr]+\"_D_background\", pds[nbr]+\"_E_background\",\n",
    "             pds[nbr]+\"_F_background\", pds[nbr]+\"_G_background\", pds[nbr]+\"_H_background\"]\n",
    "\n",
    "sig_files = [b_h5+pds[nbr]+'_C_signal.h5',b_h5+pds[nbr]+'_D_signal.h5', b_h5+pds[nbr]+'_E_signal.h5',\n",
    "             b_h5+pds[nbr]+'_F_signal.h5', b_h5+pds[nbr]+'_G_signal.h5', b_h5+pds[nbr]+'_H_signal.h5']\n",
    "\n",
    "sig_jets  = [pds[nbr]+\"_C_signal\", pds[nbr]+\"_D_signal\", pds[nbr]+\"_E_signal\",\n",
    "             pds[nbr]+\"_F_signal\", pds[nbr]+\"_G_signal\", pds[nbr]+\"_H_signal\"]\n",
    "\n",
    "#Load good and bad jets\n",
    "good_jets, bad_jets = get_jets(bg_files, bg_jets, sig_files, sig_jets)"
   ]
  },
  {
   "cell_type": "code",
   "execution_count": null,
   "metadata": {
    "collapsed": false
   },
   "outputs": [],
   "source": [
    "#Choose which PD to load\n",
    "nbr = 11 #JetHT\n",
    "\n",
    "bg_files  = [b_h5+pds[nbr]+'_C_background.h5',b_h5+pds[nbr]+'_D_background.h5', b_h5+pds[nbr]+'_E_background.h5',\n",
    "             b_h5+pds[nbr]+'_F_background.h5', b_h5+pds[nbr]+'_G_background.h5', b_h5+pds[nbr]+'_H_background.h5']\n",
    "\n",
    "bg_jets   = [pds[nbr]+\"_C_background\", pds[nbr]+\"_D_background\", pds[nbr]+\"_E_background\",\n",
    "             pds[nbr]+\"_F_background\", pds[nbr]+\"_G_background\", pds[nbr]+\"_H_background\"]\n",
    "\n",
    "sig_files = [b_h5+pds[nbr]+'_C_signal.h5',b_h5+pds[nbr]+'_D_signal.h5', b_h5+pds[nbr]+'_E_signal.h5',\n",
    "             b_h5+pds[nbr]+'_F_signal.h5', b_h5+pds[nbr]+'_G_signal.h5', b_h5+pds[nbr]+'_H_signal.h5']\n",
    "\n",
    "sig_jets  = [pds[nbr]+\"_C_signal\", pds[nbr]+\"_D_signal\", pds[nbr]+\"_E_signal\",\n",
    "             pds[nbr]+\"_F_signal\", pds[nbr]+\"_G_signal\", pds[nbr]+\"_H_signal\"]\n",
    "\n",
    "#Load good and bad jets\n",
    "good_jets2, bad_jets2 = get_jets(bg_files, bg_jets, sig_files, sig_jets)"
   ]
  },
  {
   "cell_type": "code",
   "execution_count": null,
   "metadata": {
    "collapsed": false
   },
   "outputs": [],
   "source": [
    "#Assign good jets class label 0\n",
    "df1 = pd.DataFrame(good_jets)\n",
    "# cutted_df = df1.iloc[0:25000, :]   #Temporarily to make training faster\n",
    "# df1 = cutted_df                   #Temporarily to make training faster\n",
    "df1['class'] = 0\n",
    "\n",
    "#Assign bad_jets class label  1\n",
    "df2 = pd.DataFrame(bad_jets)\n",
    "# cutted_df = df2.iloc[0:, :]    #Temporarily to make training faster\n",
    "# df2 = cutted_df                   #Temporarily to make training faster\n",
    "df2['class'] = 1\n",
    "\n",
    "#Assign good jets class label 0\n",
    "# df3 = pd.DataFrame(good_jets2)\n",
    "\n",
    "# df3['class'] = 0\n",
    "\n",
    "# #Assign bad_jets class label  1\n",
    "# df4 = pd.DataFrame(bad_jets2)\n",
    "\n",
    "# df4['class'] = 1\n",
    "\n",
    "# del(good_jets)\n",
    "# del(bad_jets)\n",
    "#Concatenate them\n",
    "# frames = [df1,df2,df3,df4]\n",
    "\n",
    "frames = [df1,df2]\n",
    "data   = pd.concat(frames)\n",
    "del(frames)\n",
    "# del(df1)\n",
    "# del(df2)\n",
    "\n",
    "# data.drop(2805, axis=1, inplace=True) #Drop per_pd flags\n",
    "\n",
    "data = data.sort_values([2800,2801], ascending=[True,True]) #Sort by runID and then by lumiID\n",
    "data = data.reset_index(drop=True)  #Reset index\n",
    "runIDs  = data[2800].astype(int)\n",
    "lumiIDs = data[2801].astype(int)\n",
    "# data.drop(2800, axis=1, inplace=True) #Drop runIDs not to train on it\n",
    "# data.drop(2801, axis=1, inplace=True) #Drop lumiIDs not to train on it\n",
    "\n",
    "\n",
    "# data = data.reindex(index=range(0,len(data)))\n",
    "#Shuffle them randomly\n",
    "# data = shuffle(data)\n",
    "# data = data.reset_index(drop=True)\n",
    "\n",
    "#Save labels and delete them from df not to cheat during training\n",
    "# labels = data['class'].astype(int)\n",
    "# del data['class']"
   ]
  },
  {
   "cell_type": "code",
   "execution_count": null,
   "metadata": {
    "collapsed": false
   },
   "outputs": [],
   "source": [
    "data"
   ]
  },
  {
   "cell_type": "code",
   "execution_count": null,
   "metadata": {
    "collapsed": false
   },
   "outputs": [],
   "source": [
    "import json\n",
    "\n",
    "def json_checker(json_file, orig_runid, orig_lumid):\n",
    "    outcome = 5\n",
    "    for k,v in json_file.items():\n",
    "        if (int(k) == orig_runid):\n",
    "            for d in v: #Checks each inner loop of the json per runID\n",
    "                for i in range (d[0], d[1]+1):\n",
    "#                     print(\"key of json is \", k, \" value of json is \", v)\n",
    "# #                     print(v[0][0], \"and\", v[0][1])\n",
    "#                     print(\"current inner list is\", d, \"and range is\", d[0], \" to \", d[1])\n",
    "#                     print(\"i is \", i)\n",
    "                    if i == orig_lumid:\n",
    "#                         print(\"Flagging as bad\")\n",
    "                        outcome =0  #0 means good lumi! (to be compatible with code anomaly_detection.ipynb[mse ae])\n",
    "                        return(outcome)\n",
    "                \n",
    "            \n",
    "        \n",
    "    outcome = 1 #1 means bad lumisection! (to be compatible with code anomaly_detection.ipynb [mse autoencoder])\n",
    "    return(outcome)\n",
    "\n",
    "json_file_path = '/afs/cern.ch/user/f/fsiroky/public/Cert_271036-284044_13TeV_PromptReco_Collisions16_JSON.txt'\n",
    "\n",
    "def add_flags_from_json(output_json, data):\n",
    "    output_json = json.load(open(json_file_path))\n",
    "    new_json_class = np.empty([data.shape[0],1])\n",
    "    for i in range(0, data.shape[0]):\n",
    "        orig_runid = data[2800][i]\n",
    "        orig_runid = int(orig_runid)\n",
    "        orig_lumid = data[2801][i]\n",
    "        orig_lumid = int(orig_lumid)\n",
    "        new_json_class[i,0] = int(json_checker(output_json, orig_runid, orig_lumid))\n",
    "    data['preco_json'] = new_json_class\n",
    "    return data\n",
    "\n",
    "new_data = add_flags_from_json(json_file_path, data)\n",
    " \n",
    "del(new_data)\n"
   ]
  },
  {
   "cell_type": "code",
   "execution_count": null,
   "metadata": {
    "collapsed": false
   },
   "outputs": [],
   "source": [
    "data"
   ]
  },
  {
   "cell_type": "code",
   "execution_count": null,
   "metadata": {
    "collapsed": false
   },
   "outputs": [],
   "source": [
    "# print((df1[2800]==275778))\n",
    "var1 = df1.loc[df1[2805] == 0]   #lumis that are FEDEgolden:GOOD AND PER_PD:GOOD\n",
    "print(len(var1))\n",
    "var3 = df1.loc[df1[2805] == 1] #lumis that are FEDEgolden:GOOD BUT PER_PD:BAD\n",
    "print(len(var3))\n",
    "var2 = df2.loc[df2[2805] == 0] #lumis that are FEDEgolden:BAD BUT PER_PD:GOOD \n",
    "print(len(var2))\n",
    "var4 = df2.loc[df2[2805] == 1] #lumis that are FEDEgolden:BAD AND PER_PD:BAD \n",
    "print(len(var4))\n",
    "\n",
    "del(var1)\n",
    "del(var3)\n",
    "del(var2)\n",
    "del(var4)"
   ]
  },
  {
   "cell_type": "code",
   "execution_count": null,
   "metadata": {
    "collapsed": true
   },
   "outputs": [],
   "source": []
  },
  {
   "cell_type": "code",
   "execution_count": null,
   "metadata": {
    "collapsed": false
   },
   "outputs": [],
   "source": [
    "#2805 is perPD\n",
    "#class is Fede's golden\n",
    "#preco_json is PromptReco golden\n",
    "\n",
    "zerozero = 0\n",
    "zeroone  = 0\n",
    "onezero  = 0\n",
    "oneone   = 0\n",
    "\n",
    "leftvar  = 'preco_json'\n",
    "rightvar = 2805 \n",
    "\n",
    "for i in range (0,data.shape[0]):\n",
    "    if (data[leftvar][i] == 0) and (data[rightvar][i] == 0):\n",
    "        zerozero += 1\n",
    "    elif data[leftvar][i] < data[rightvar][i]:\n",
    "        zeroone  += 1\n",
    "    elif data[leftvar][i] > data[rightvar][i]:\n",
    "        onezero  += 1\n",
    "    elif (data[leftvar][i] == 1) and (data[rightvar][i] == 1):\n",
    "        oneone   += 1\n",
    "        \n",
    "print(\"Number of GOOD and GOOD lumis with \", leftvar, \" and \", rightvar, \" is: \", zerozero)\n",
    "print(\"Number of GOOD and BAD  lumis with \", leftvar, \" and \", rightvar, \" is: \", zeroone )\n",
    "print(\"Number of BAD  and GOOD lumis with \", leftvar, \" and \", rightvar, \" is: \", onezero )\n",
    "print(\"Number of BAD  and BAD  lumis with \", leftvar, \" and \", rightvar, \" is: \", oneone  )\n",
    "\n",
    "print(\"Total number of lumis in loaded dataset: \", data.shape[0])\n",
    "print(\"Sum of 4 upper cases is:                 \", zerozero + zeroone + onezero + oneone)\n",
    "\n",
    "\n",
    "    "
   ]
  },
  {
   "cell_type": "code",
   "execution_count": null,
   "metadata": {
    "collapsed": false
   },
   "outputs": [],
   "source": [
    "counter2 = 0\n",
    "for i in range (0,data.shape[0]):\n",
    "    if data['class'][i] < data['preco_json'][i]:\n",
    "        counter2 += 1\n",
    "#         print(i)\n",
    "print(counter2)"
   ]
  },
  {
   "cell_type": "markdown",
   "metadata": {},
   "source": [
    "# Exploration"
   ]
  },
  {
   "cell_type": "code",
   "execution_count": null,
   "metadata": {
    "collapsed": false
   },
   "outputs": [],
   "source": [
    "data.ix[4856]"
   ]
  },
  {
   "cell_type": "code",
   "execution_count": null,
   "metadata": {
    "collapsed": false
   },
   "outputs": [],
   "source": [
    "# data.iloc[11608:11700,:]"
   ]
  },
  {
   "cell_type": "code",
   "execution_count": null,
   "metadata": {
    "collapsed": false
   },
   "outputs": [],
   "source": [
    "data.isnull().values.any()"
   ]
  },
  {
   "cell_type": "code",
   "execution_count": null,
   "metadata": {
    "collapsed": false
   },
   "outputs": [],
   "source": [
    "count_classes = pd.value_counts(data['class'], sort = True)\n",
    "count_classes.plot(kind = 'bar', rot=0)\n",
    "\n",
    "plt.title(\"Good/Bad class distribution for currently loaded files\")\n",
    "plt.xticks(range(2), LABELS)\n",
    "plt.xlabel(\"Class\")\n",
    "plt.ylabel(\"Frequency\")\n",
    "# plt.savefig(\"jetC_StandardScaler_e350_bs1000_ed14_GOODBAD.pdf\")"
   ]
  },
  {
   "cell_type": "code",
   "execution_count": null,
   "metadata": {
    "collapsed": false
   },
   "outputs": [],
   "source": [
    "anomalies = data[data['class'] == 1]\n",
    "normal    = data[data['class'] == 0]"
   ]
  },
  {
   "cell_type": "code",
   "execution_count": null,
   "metadata": {
    "collapsed": false
   },
   "outputs": [],
   "source": [
    "print(anomalies.shape)\n",
    "del(anomalies)"
   ]
  },
  {
   "cell_type": "code",
   "execution_count": null,
   "metadata": {
    "collapsed": false
   },
   "outputs": [],
   "source": [
    "print(normal.shape)\n",
    "del(normal)"
   ]
  },
  {
   "cell_type": "markdown",
   "metadata": {},
   "source": [
    "Let's have a more graphical representation:"
   ]
  },
  {
   "cell_type": "markdown",
   "metadata": {},
   "source": [
    "# Autoencoders\n",
    "\n",
    "Autoencoders can seem quite bizarre at first. The job of those models is to predict the input, given that same input. \n",
    "\n",
    "More specifically, let’s take a look at Autoencoder Neural Networks. This autoencoder tries to learn to approximate the following identity function:\n",
    "\n",
    "$$\\textstyle f_{W,b}(x) \\approx x$$\n",
    "\n",
    "While trying to do just that might sound trivial at first, it is important to note that we want to learn a compressed representation of the data, thus find structure. This can be done by limiting the number of hidden units in the model. Those kind of autoencoders are called *undercomplete*.\n",
    "\n",
    "Here's a visual representation of what an Autoencoder might learn:\n",
    "\n",
    "![](http://curiousily.com/assets/12.what_to_do_when_data_is_missing_part_ii_files/mushroom_encoder.png)\n",
    "\n",
    "## Reconstruction error\n",
    "\n",
    "We optimize the parameters of our Autoencoder model in such way that a special kind of error - reconstruction error is minimized. In practice, the traditional squared error is often used:\n",
    "\n",
    "$$\\textstyle L(x,x') = ||\\, x - x'||^2$$\n",
    "\n",
    "## Train vs validation vs test set\n",
    "\n",
    "Validation data is not used in the fitting process. This data is not passed to the training process so the optimizer doesnt update the parameters with respect to this data. In autoencoder, this validation_data set (that I will be using later) is used just for calculating the loss function. We often see that we overfit with this specific architecture - we might argue that it is desired since the validation/test set comes from different distribution than train test. That is because train set only contains good lumisection and validation/test contains both good and bad (real life scenario).\n"
   ]
  },
  {
   "cell_type": "markdown",
   "metadata": {},
   "source": [
    "# Preparing the data\n"
   ]
  },
  {
   "cell_type": "code",
   "execution_count": null,
   "metadata": {
    "collapsed": false
   },
   "outputs": [],
   "source": [
    "data.shape"
   ]
  },
  {
   "cell_type": "code",
   "execution_count": null,
   "metadata": {
    "collapsed": false
   },
   "outputs": [],
   "source": [
    "from sklearn.preprocessing import StandardScaler, scale, MinMaxScaler\n",
    "\n",
    "#Normalize the data to make training better\n",
    "cutted_data = data.iloc[:, 0:2805]\n",
    "classes     = data.iloc[:, 2805:2806]\n",
    "\n",
    "# print(\"Cutted data: \", cutted_data)\n",
    "# print(\"Classes : \", classes)\n",
    "# del(data)\n",
    "print(classes.shape)\n",
    "np_scaled = StandardScaler().fit_transform(cutted_data.values)\n",
    "# datas    = pd.DataFrame(np_scaled)\n",
    "# np_scaled = cutted_data / cutted_data.max(axis=0)\n",
    "\n",
    "# np_scaled = MinMaxScaler().fit_transform(cutted_data.values) #Makes wavy normal data\n",
    "\n",
    "# np_scaled = scale(cutted_data, axis = 0, with_mean=True, with_std=True, copy=True)\n",
    "datas = pd.DataFrame(np_scaled)\n",
    "\n",
    "# del(np_scaled)\n",
    "del(cutted_data)\n",
    "# print(\"Datas first: \", datas)\n",
    "datas['class'] = classes\n",
    "print(datas)\n",
    "\n",
    "# print(\"XXXXXXXXXXXXXXXXXXXXXXXXXXXXXXXXXXXXXXXXXXXXX\")\n",
    "# datas = datas.dropna(axis=0, how='any')\n",
    "# print(datas)\n",
    "# print(\"YYYYYYYYYY\")\n",
    "# data = pd.concat([datas, classes])\n",
    "# print(\"Datas second: \", datas)\n",
    "\n",
    "# del(np_scaled)\n",
    "# print(cutted_data)\n",
    "# print(classes)"
   ]
  },
  {
   "cell_type": "code",
   "execution_count": null,
   "metadata": {
    "collapsed": false
   },
   "outputs": [],
   "source": []
  },
  {
   "cell_type": "markdown",
   "metadata": {},
   "source": [
    "Training our Autoencoder is gonna be a bit different from what we are used to. Let's say you have a dataset containing a lot of previously classified lumisections as good. You want to detect any anomaly on new lumisections. We will create this situation by training our model on the normal lumis, only. Reserving the correct class on the test set will give us a way to evaluate the performance of our model. We will reserve 15% of our data for testing:"
   ]
  },
  {
   "cell_type": "code",
   "execution_count": null,
   "metadata": {
    "collapsed": false
   },
   "outputs": [],
   "source": [
    "# X_train, X_test = train_test_split(datas, test_size=0.15, random_state=RANDOM_SEED) # This works when we split rndmly\n",
    "split_nbr = round(datas.shape[0]*0.20)  #0.10 means 10% to the validation set\n",
    "\n",
    "print(datas.shape)\n",
    "X_train = datas.iloc[0:(datas.shape[0] - split_nbr) ,:]\n",
    "X_test  = datas.iloc[(datas.shape[0] - split_nbr): (datas.shape[0]) ,:]\n",
    "print(X_train.shape)\n",
    "print(X_test.shape)\n",
    "\n",
    "del(datas)\n",
    "X_train = X_train[X_train['class']== 0]\n",
    "print(X_train)\n",
    "X_train = X_train.drop(['class'], axis=1)\n",
    "\n",
    "y_test = X_test['class']\n",
    "\n",
    "print(\"Number of good lumis in X_test: \", len(X_test[y_test==0]))\n",
    "print(\"Number of bad lumis in X_test: \",  len(X_test[y_test==1]))\n",
    "\n",
    "X_test = X_test.drop(['class'], axis=1)\n",
    "\n",
    "\n",
    "X_train = X_train.values\n",
    "X_test = X_test.values"
   ]
  },
  {
   "cell_type": "code",
   "execution_count": null,
   "metadata": {
    "collapsed": false
   },
   "outputs": [],
   "source": [
    "X_train.shape\n",
    "X_test.shape"
   ]
  },
  {
   "cell_type": "code",
   "execution_count": null,
   "metadata": {
    "collapsed": false
   },
   "outputs": [],
   "source": []
  },
  {
   "cell_type": "markdown",
   "metadata": {},
   "source": [
    "# Building the model\n",
    "\n",
    "Our Autoencoder uses 7 fully connected layers with 2000, 1000, 500, 500, 1000, 2000 and 2802  neurons respectively.  The first two layers are used for our encoder, the last two go for the decoder. Additionally, L1 regularization will be used during training:"
   ]
  },
  {
   "cell_type": "code",
   "execution_count": null,
   "metadata": {
    "collapsed": true
   },
   "outputs": [],
   "source": [
    "input_dim = X_train.shape[1]\n",
    "encoding_dim = 500"
   ]
  },
  {
   "cell_type": "code",
   "execution_count": null,
   "metadata": {
    "collapsed": false
   },
   "outputs": [],
   "source": [
    "input_layer = Input(shape=(input_dim, ))\n",
    "\n",
    "encoder = Dense(2000, activation=\"relu\" ,\n",
    "#                 activity_regularizer=regularizers.l1(10e-5)\n",
    "               )(input_layer)\n",
    "\n",
    "encoded = Dense(1000, activation='relu')(encoder)\n",
    "encoded = Dense(encoding_dim, activation='relu')(encoded)\n",
    "\n",
    "decoded = Dense(1000, activation='relu')(encoded)\n",
    "decoded = Dense(2000, activation='relu')(decoded)\n",
    "# encoder = Dense(int(encoding_dim / 1.2), activation=\"relu\")(encoder)\n",
    "\n",
    "# encoder = Dense(int(encoding_dim / 1.5), activation=\"relu\")(encoder)\n",
    "\n",
    "# decoder = Dense(int(encoding_dim / 1.2), activation='relu')(encoder)\n",
    "\n",
    "decoder = Dense(input_dim, activation='softmax')(encoder)\n",
    "\n",
    "autoencoder = Model(inputs=input_layer, outputs=decoder)"
   ]
  },
  {
   "cell_type": "markdown",
   "metadata": {},
   "source": [
    "Let's train our model for 100 epochs with a batch size of 32 samples and save the best performing model to a file. The ModelCheckpoint provided by Keras is really handy for such tasks. Additionally,  the training progress will be exported in a format that TensorBoard understands."
   ]
  },
  {
   "cell_type": "code",
   "execution_count": null,
   "metadata": {
    "collapsed": false
   },
   "outputs": [],
   "source": [
    "nb_epoch = 30\n",
    "batch_size = 1000\n",
    "from keras.optimizers import Adam\n",
    "\n",
    "adam = Adam(lr = 0.001, beta_1 = 0.9, beta_2 = 0.999, epsilon=1e-08, decay = 0.0)\n",
    "autoencoder.compile(optimizer=adam, \n",
    "                    loss='binary_crossentropy', \n",
    "#                     metrics=['accuracy']\n",
    "                   )\n",
    "\n",
    "checkpointer = ModelCheckpoint(filepath=\"jetht1rt.h5\",\n",
    "                               verbose=0,\n",
    "                               save_best_only=True)\n",
    "# tensorboard = TensorBoard(log_dir='./logs',\n",
    "#                           histogram_freq=0,\n",
    "#                           write_graph=True,\n",
    "#                           write_images=True)\n",
    "\n",
    "history = autoencoder.fit(X_train, X_train,\n",
    "                    epochs=nb_epoch,\n",
    "                    batch_size=batch_size,\n",
    "                    shuffle=True,\n",
    "                    validation_data=(X_test, X_test),\n",
    "                    verbose=2,\n",
    "                    callbacks=[checkpointer\n",
    "#                               ,tensorboard\n",
    "                              ]).history"
   ]
  },
  {
   "cell_type": "code",
   "execution_count": 3,
   "metadata": {
    "collapsed": false
   },
   "outputs": [],
   "source": [
    "# autoencoder = load_model('jetht1rt.h5')\n",
    "\n",
    "autoencoder = load_model('/afs/cern.ch/user/f/fsiroky/public/3pds_model.h5')\n",
    "X_test = np.load('/afs/cern.ch/user/f/fsiroky/public/X_testfor3pds_model.npy')\n",
    "y_test = np.load('/afs/cern.ch/user/f/fsiroky/public/y_testfor3pds_model.npy')"
   ]
  },
  {
   "cell_type": "code",
   "execution_count": null,
   "metadata": {
    "collapsed": false
   },
   "outputs": [],
   "source": []
  },
  {
   "cell_type": "markdown",
   "metadata": {},
   "source": [
    "# Evaluation"
   ]
  },
  {
   "cell_type": "code",
   "execution_count": null,
   "metadata": {
    "collapsed": false
   },
   "outputs": [],
   "source": [
    "# f = plt.figure()\n",
    "# plt.plot(history['loss'])\n",
    "# plt.plot(history['val_loss'])\n",
    "# plt.title('model loss')\n",
    "# plt.ylabel('loss')\n",
    "# plt.xlabel('epoch')\n",
    "# plt.legend(['train', 'test'], loc='upper right')\n",
    "\n",
    "\n",
    "\n",
    "# f.savefig(\"jetC_MinMaxScaler_e350_bs1000_ed14_LOSS.pdf\")"
   ]
  },
  {
   "cell_type": "markdown",
   "metadata": {},
   "source": [
    "The reconstruction error on our training and test data seems to converge nicely. Is it low enough? Let's have a closer look at the error distribution:"
   ]
  },
  {
   "cell_type": "code",
   "execution_count": 4,
   "metadata": {
    "collapsed": false
   },
   "outputs": [],
   "source": [
    "predictions = autoencoder.predict(X_test)"
   ]
  },
  {
   "cell_type": "code",
   "execution_count": null,
   "metadata": {
    "collapsed": true
   },
   "outputs": [],
   "source": [
    "del(autoencoder)"
   ]
  },
  {
   "cell_type": "code",
   "execution_count": null,
   "metadata": {
    "collapsed": false
   },
   "outputs": [],
   "source": [
    "#del(autoencoder)\n",
    "#del(X_test)\n",
    "# del(y_test)"
   ]
  },
  {
   "cell_type": "code",
   "execution_count": null,
   "metadata": {
    "collapsed": false
   },
   "outputs": [],
   "source": [
    "import gc\n",
    "gc.collect()"
   ]
  },
  {
   "cell_type": "code",
   "execution_count": null,
   "metadata": {
    "collapsed": false
   },
   "outputs": [],
   "source": [
    "whos"
   ]
  },
  {
   "cell_type": "code",
   "execution_count": 85,
   "metadata": {
    "collapsed": false
   },
   "outputs": [
    {
     "name": "stdout",
     "output_type": "stream",
     "text": [
      "       reconstruction_error  true_class\n",
      "0                 15.890976         1.0\n",
      "1                 16.269077         1.0\n",
      "2                 16.161299         1.0\n",
      "3                 16.214688         1.0\n",
      "4                 16.309518         1.0\n",
      "5                 18.263124         1.0\n",
      "6                 15.220740         1.0\n",
      "7                 14.839197         1.0\n",
      "8                 15.795575         1.0\n",
      "9                 15.926752         1.0\n",
      "10                17.285071         1.0\n",
      "11                15.895100         1.0\n",
      "12                16.121147         1.0\n",
      "13                14.976651         1.0\n",
      "14                17.791060         1.0\n",
      "15                16.530911         1.0\n",
      "16                18.057927         1.0\n",
      "17                16.050721         1.0\n",
      "18                16.223911         1.0\n",
      "19                15.466236         1.0\n",
      "20                16.464832         1.0\n",
      "21                15.680029         1.0\n",
      "22                16.394617         1.0\n",
      "23                15.312563         1.0\n",
      "24                14.810988         1.0\n",
      "25                15.236057         1.0\n",
      "26                17.391834         1.0\n",
      "27                16.173600         1.0\n",
      "28                15.647661         1.0\n",
      "29                16.557493         1.0\n",
      "...                     ...         ...\n",
      "32707              2.302713         0.0\n",
      "32708              1.862970         0.0\n",
      "32709              2.031956         0.0\n",
      "32710              1.906552         0.0\n",
      "32711              1.616070         0.0\n",
      "32712              1.780874         0.0\n",
      "32713              1.873302         0.0\n",
      "32714              1.867130         0.0\n",
      "32715              1.937310         0.0\n",
      "32716              2.246481         0.0\n",
      "32717              2.099478         0.0\n",
      "32718              1.904311         0.0\n",
      "32719              1.813344         0.0\n",
      "32720              1.847310         0.0\n",
      "32721              1.892177         0.0\n",
      "32722              2.153142         0.0\n",
      "32723              2.375615         0.0\n",
      "32724              1.768184         0.0\n",
      "32725              2.274587         0.0\n",
      "32726              2.024629         0.0\n",
      "32727              1.710414         0.0\n",
      "32728              2.133028         0.0\n",
      "32729              1.730009         0.0\n",
      "32730              2.046425         0.0\n",
      "32731              2.139584         0.0\n",
      "32732              1.924418         0.0\n",
      "32733              1.782193         0.0\n",
      "32734              1.813023         0.0\n",
      "32735              1.726528         0.0\n",
      "32736              1.608722         0.0\n",
      "\n",
      "[32737 rows x 2 columns]\n"
     ]
    }
   ],
   "source": [
    "# array_pf_jets = np.power(X_test[:,0:777] - predictions[:,0:777], 2)\n",
    "# array_cal_jet_mets = np.power(X_test[:,778:946] - predictions[:,778:946], 2)\n",
    "\n",
    "# print(array_pf_jets.shape)\n",
    "# kkkkt = [5,3,2,1,0]\n",
    "\n",
    "\n",
    "temp = np.partition(-np.power(X_test - predictions, 2), 500)\n",
    "result = -temp[:,:500]\n",
    "\n",
    "# mse = np.mean(array_pf_jets, axis=1)\n",
    "\n",
    "mse = np.mean(result, axis=1)\n",
    "\n",
    "error_df = pd.DataFrame({'reconstruction_error': mse,\n",
    "                         'true_class': y_test})\n",
    "# print(error_df['true_class']==1)\n",
    "# print(error_df[error_df['true_class']==1])\n",
    "\n",
    "# print(89180-80781)\n",
    "print(error_df)"
   ]
  },
  {
   "cell_type": "code",
   "execution_count": 19,
   "metadata": {
    "collapsed": false
   },
   "outputs": [
    {
     "name": "stdout",
     "output_type": "stream",
     "text": [
      "       reconstruction_error  true_class\n",
      "0                 42.623650         1.0\n",
      "1                 44.264114         1.0\n",
      "2                 42.638174         1.0\n",
      "3                 45.713736         1.0\n",
      "4                 42.437407         1.0\n",
      "5                 44.813546         1.0\n",
      "6                 43.003717         1.0\n",
      "7                 42.873870         1.0\n",
      "8                 44.599832         1.0\n",
      "9                 43.501826         1.0\n",
      "10                45.301400         1.0\n",
      "11                42.644044         1.0\n",
      "12                41.696830         1.0\n",
      "13                41.470083         1.0\n",
      "14                44.646490         1.0\n",
      "15                43.591237         1.0\n",
      "16                44.801133         1.0\n",
      "17                43.754797         1.0\n",
      "18                43.983044         1.0\n",
      "19                42.981784         1.0\n",
      "20                43.607735         1.0\n",
      "21                42.803568         1.0\n",
      "22                44.249039         1.0\n",
      "23                44.006633         1.0\n",
      "24                43.041450         1.0\n",
      "25                43.332936         1.0\n",
      "26                44.607323         1.0\n",
      "27                44.531384         1.0\n",
      "28                45.131606         1.0\n",
      "29                44.743814         1.0\n",
      "...                     ...         ...\n",
      "32707              1.046847         0.0\n",
      "32708              1.024645         0.0\n",
      "32709              0.806728         0.0\n",
      "32710              0.982614         0.0\n",
      "32711              0.822914         0.0\n",
      "32712              0.841280         0.0\n",
      "32713              0.999481         0.0\n",
      "32714              0.868186         0.0\n",
      "32715              0.904883         0.0\n",
      "32716              1.284232         0.0\n",
      "32717              1.103930         0.0\n",
      "32718              0.914709         0.0\n",
      "32719              1.296810         0.0\n",
      "32720              0.839002         0.0\n",
      "32721              0.977302         0.0\n",
      "32722              0.876749         0.0\n",
      "32723              1.278647         0.0\n",
      "32724              1.123782         0.0\n",
      "32725              1.424855         0.0\n",
      "32726              1.041791         0.0\n",
      "32727              0.999429         0.0\n",
      "32728              1.289657         0.0\n",
      "32729              0.788722         0.0\n",
      "32730              1.072599         0.0\n",
      "32731              1.137198         0.0\n",
      "32732              0.987386         0.0\n",
      "32733              0.844731         0.0\n",
      "32734              0.874500         0.0\n",
      "32735              0.841221         0.0\n",
      "32736              0.827372         0.0\n",
      "\n",
      "[32737 rows x 2 columns]\n"
     ]
    }
   ],
   "source": [
    "def get_error_df(X_test, predictions, y_test, mode='None', n_highest = 100):\n",
    "    if mode=='allmean':\n",
    "        mse = np.mean(np.power(X_test - predictions, 2), axis=1)\n",
    "        error_df = pd.DataFrame({'reconstruction_error': mse,\n",
    "                         'true_class': y_test})        \n",
    "        return error_df\n",
    "    elif mode=='topn':\n",
    "        temp = np.partition(-np.power(X_test - predictions, 2), n_highest)\n",
    "        result = -temp[:,:n_highest]\n",
    "        mse = np.mean(result, axis=1)\n",
    "        error_df = pd.DataFrame({'reconstruction_error': mse,\n",
    "                         'true_class': y_test})\n",
    "        return error_df\n",
    "    elif mode=='perobj':\n",
    "        array_pf_jets =      np.power(X_test[:,0:777] - predictions[:,0:777], 2) # Returns (90294, 777) matrix\n",
    "#         print(array_pf_jets)\n",
    "#         print(array_pf_jets.shape)\n",
    "        mse1 =               np.mean(array_pf_jets, axis=1)\n",
    "#         print(mse1)\n",
    "#         print(mse1.shape)\n",
    "        array_cal_jet_mets = np.power(X_test[:,778:946] - predictions[:,778:946], 2)\n",
    "        mse2 =               np.mean(array_cal_jet_mets, axis=1)\n",
    "#         print(mse2)\n",
    "#         print(mse2.shape)\n",
    "        array_pho =          np.power(X_test[:,947:1283] - predictions[:,947:1283], 2)\n",
    "        mse3 =               np.mean(array_pho, axis=1)\n",
    "        array_muons =        np.power(X_test[:,1284:1788] - predictions[:,1284:1788], 2)\n",
    "        mse4 =               np.mean(array_muons, axis=1)\n",
    "        array_pf_jets2=      np.power(X_test[:,1789:1894] - predictions[:,1789:1894], 2)\n",
    "        mse5 =               np.mean(array_pf_jets2, axis=1)\n",
    "        array_pf_mets=       np.power(X_test[:,1895:1923] - predictions[:,1895:1923], 2)\n",
    "        mse6 =               np.mean(array_pf_mets, axis=1)\n",
    "#         array_nvtx=          np.power(X_test[:,1924] - predictions[:,1924], 2)\n",
    "#         mse7 =               np.mean(array_nvtx, axis=1)\n",
    "        array_cal_jet_mets2= np.power(X_test[:,1925:2037] - predictions[:,1925:2037], 2)\n",
    "        mse8 =               np.mean(array_cal_jet_mets2, axis=1)\n",
    "        array_sc=            np.power(X_test[:,2038:2122] - predictions[:,2038:2122], 2)\n",
    "        mse9 =               np.mean(array_sc, axis=1)\n",
    "        array_cc=            np.power(X_test[:,2123:2165] - predictions[:,2123:2165], 2)\n",
    "        mse10 =              np.mean(array_cc, axis=1)\n",
    "        array_pho2=          np.power(X_test[:,2166:2362] - predictions[:,2166:2362], 2)\n",
    "        mse11 =              np.mean(array_pho2, axis=1)\n",
    "        array_muons2=        np.power(X_test[:,2363:2489] - predictions[:,2363:2489], 2)\n",
    "        mse12 =              np.mean(array_muons2, axis=1)\n",
    "        array_ebs=           np.power(X_test[:,2490:2700] - predictions[:,2490:2700], 2)\n",
    "        mse13 =              np.mean(array_ebs, axis=1)\n",
    "        array_hbhef=         np.power(X_test[:,2701:2764] - predictions[:,2701:2764], 2)\n",
    "        mse14 =              np.mean(array_hbhef, axis=1)\n",
    "        array_presh=         np.power(X_test[:,2765:2807] - predictions[:,2765:2807], 2)\n",
    "        mse15 =              np.mean(array_presh, axis=1)\n",
    "        \n",
    "        mse = np.maximum.reduce([mse1,mse2,mse3,mse4,mse5,mse6,mse8,mse9,mse10,mse11,mse12,mse13,mse14,mse15])\n",
    "        error_df = pd.DataFrame({'reconstruction_error': mse,\n",
    "                         'true_class': y_test})\n",
    "        return error_df\n",
    "error_df = get_error_df(X_test, predictions, y_test, mode='perobj', n_highest = 100)   \n",
    "print(error_df)"
   ]
  },
  {
   "cell_type": "code",
   "execution_count": null,
   "metadata": {
    "collapsed": false
   },
   "outputs": [],
   "source": [
    "X_test.shape"
   ]
  },
  {
   "cell_type": "code",
   "execution_count": null,
   "metadata": {
    "collapsed": false
   },
   "outputs": [],
   "source": [
    "import numpy as np\n",
    "\n",
    "test = np.array([9,1,3,4,8,7,2,5,6,0])\n",
    "\n",
    "\n",
    "test[::-1].sort()\n",
    "result = test"
   ]
  },
  {
   "cell_type": "code",
   "execution_count": null,
   "metadata": {
    "collapsed": false
   },
   "outputs": [],
   "source": [
    "result"
   ]
  },
  {
   "cell_type": "code",
   "execution_count": null,
   "metadata": {
    "collapsed": false
   },
   "outputs": [],
   "source": [
    "predictions.shape"
   ]
  },
  {
   "cell_type": "code",
   "execution_count": 5,
   "metadata": {
    "collapsed": false
   },
   "outputs": [
    {
     "name": "stdout",
     "output_type": "stream",
     "text": [
      "(32737,)\n"
     ]
    }
   ],
   "source": [
    "mse = np.mean(np.power(X_test - predictions, 2), axis=1)\n",
    "\n",
    "print(mse.shape)\n",
    "error_df = pd.DataFrame({'reconstruction_error': mse,\n",
    "                         'true_class': y_test})\n",
    "# print(error_df['true_class']==1)\n",
    "# print(error_df[error_df['true_class']==1])\n",
    "\n",
    "# print(89180-80781)\n",
    "# print(error_df)"
   ]
  },
  {
   "cell_type": "code",
   "execution_count": null,
   "metadata": {
    "collapsed": true
   },
   "outputs": [],
   "source": [
    "# for i in range (0, X_test.shape[0]):\n",
    "#     for j in range (0, X_test.shape[1]):\n",
    "#         mseij = np.power(X_test[i][j] - predictions[i][j], 2)\n",
    "        \n",
    "\n",
    "# mse = np.mean(np.power(X_test - predictions, 2), axis=1)\n",
    "\n",
    "\n",
    "# error_df = pd.DataFrame({'reconstruction_error': mse,\n",
    "#                          'true_class': y_tes"
   ]
  },
  {
   "cell_type": "code",
   "execution_count": 86,
   "metadata": {
    "collapsed": false
   },
   "outputs": [
    {
     "name": "stdout",
     "output_type": "stream",
     "text": [
      "[0, 777] pf_jets\n",
      "[778, 946] cal_jet_mets\n",
      "[947, 1283] pho\n",
      "[1284, 1788] muons\n",
      "[1789, 1894] pf_jets2\n",
      "[1895, 1923] pf_mets\n",
      "[1924] nvtx\n",
      "[1925, 2037] cal_jet_mets2\n",
      "[2038, 2122] sc\n",
      "[2123, 2165] cc\n",
      "[2166, 2362] pho2\n",
      "[2363, 2489] muons2\n",
      "[2490, 2700] ebs\n",
      "[2701, 2764] hbhef\n",
      "[2765, 2807] presh\n"
     ]
    }
   ],
   "source": [
    "pf_jets_list = ['qPFJetPt', 'qPFJetEta', 'qPFJetPhi', 'qPFJet0Pt', 'qPFJet1Pt', 'qPFJet2Pt', 'qPFJet3Pt', 'qPFJet4Pt', 'qPFJet5Pt', 'qPFJet0Eta', 'qPFJet1Eta', 'qPFJet2Eta', 'qPFJet3Eta', 'qPFJet4Eta', 'qPFJet5Eta', 'qPFJet0Phi', 'qPFJet1Phi', 'qPFJet2Phi', 'qPFJet3Phi', 'qPFJet4Phi', 'qPFJet5Phi', 'qPFJet4CHS0Pt', 'qPFJet4CHS1Pt', 'qPFJet4CHS2Pt', 'qPFJet4CHS3Pt', 'qPFJet4CHS4Pt', 'qPFJet4CHS5Pt', 'qPFJet4CHS0Eta', 'qPFJet4CHS1Eta', 'qPFJet4CHS2Eta', 'qPFJet4CHS3Eta', 'qPFJet4CHS4Eta', 'qPFJet4CHS5Eta', 'qPFJet4CHS0Phi', 'qPFJet4CHS1Phi', 'qPFJet4CHS2Phi', 'qPFJet4CHS3Phi', 'qPFJet4CHS4Phi', 'qPFJet4CHS5Phi', 'qPFJet8CHS0Pt', 'qPFJet8CHS1Pt', 'qPFJet8CHS2Pt', 'qPFJet8CHS3Pt', 'qPFJet8CHS4Pt', 'qPFJet8CHS5Pt', 'qPFJet8CHS0Eta', 'qPFJet8CHS1Eta', 'qPFJet8CHS2Eta', 'qPFJet8CHS3Eta', 'qPFJet8CHS4Eta', 'qPFJet8CHS5Eta', 'qPFJet8CHS0Phi', 'qPFJet8CHS1Phi', 'qPFJet8CHS2Phi', 'qPFJet8CHS3Phi', 'qPFJet8CHS4Phi', 'qPFJet8CHS5Phi', 'qPFJetEI0Pt', 'qPFJetEI1Pt', 'qPFJetEI2Pt', 'qPFJetEI3Pt', 'qPFJetEI4Pt', 'qPFJetEI5Pt', 'qPFJetEI0Eta', 'qPFJetEI1Eta', 'qPFJetEI2Eta', 'qPFJetEI3Eta', 'qPFJetEI4Eta', 'qPFJetEI5Eta', 'qPFJetEI0Phi', 'qPFJetEI1Phi', 'qPFJetEI2Phi', 'qPFJetEI3Phi', 'qPFJetEI4Phi', 'qPFJetEI5Phi', 'qPFJet8CHSSD0Pt', 'qPFJet8CHSSD1Pt', 'qPFJet8CHSSD2Pt', 'qPFJet8CHSSD3Pt', 'qPFJet8CHSSD4Pt', 'qPFJet8CHSSD5Pt', 'qPFJet8CHSSD0Eta', 'qPFJet8CHSSD1Eta', 'qPFJet8CHSSD2Eta', 'qPFJet8CHSSD3Eta', 'qPFJet8CHSSD4Eta', 'qPFJet8CHSSD5Eta', 'qPFJet8CHSSD0Phi', 'qPFJet8CHSSD1Phi', 'qPFJet8CHSSD2Phi', 'qPFJet8CHSSD3Phi', 'qPFJet8CHSSD4Phi', 'qPFJet8CHSSD5Phi', 'qPFJetTopCHS0Pt', 'qPFJetTopCHS1Pt', 'qPFJetTopCHS2Pt', 'qPFJetTopCHS3Pt', 'qPFJetTopCHS4Pt', 'qPFJetTopCHS5Pt', 'qPFJetTopCHS0Eta', 'qPFJetTopCHS1Eta', 'qPFJetTopCHS2Eta', 'qPFJetTopCHS3Eta', 'qPFJetTopCHS4Eta', 'qPFJetTopCHS5Eta', 'qPFJetTopCHS0Phi', 'qPFJetTopCHS1Phi', 'qPFJetTopCHS2Phi', 'qPFJetTopCHS3Phi', 'qPFJetTopCHS4Phi', 'qPFJetTopCHS5Phi']\n",
    "pf_jets=[0,len(pf_jets_list)*7] #COLOUR 1\n",
    "print(pf_jets, 'pf_jets')\n",
    "cal_jet_mets_list = ['qCalJet0Pt', 'qCalJet1Pt', 'qCalJet2Pt', 'qCalJet3Pt', 'qCalJet4Pt', 'qCalJet5Pt', 'qCalJet0Eta', 'qCalJet1Eta', 'qCalJet2Eta', 'qCalJet3Eta', 'qCalJet4Eta', 'qCalJet5Eta', 'qCalJet0Phi', 'qCalJet1Phi', 'qCalJet2Phi', 'qCalJet3Phi', 'qCalJet4Phi', 'qCalJet5Phi', 'qCalJet0En', 'qCalJet1En', 'qCalJet2En', 'qCalJet3En', 'qCalJet4En', 'qCalJet5En']\n",
    "cal_jet_mets=[pf_jets[1]+1, pf_jets[1] + 1 + len(cal_jet_mets_list)*7] #COLOUR 2\n",
    "print(cal_jet_mets, 'cal_jet_mets')\n",
    "pho_list = ['qPho0Pt', 'qPho1Pt', 'qPho2Pt', 'qPho3Pt', 'qPho4Pt', 'qPho5Pt', 'qPho0Eta', 'qPho1Eta', 'qPho2Eta', 'qPho3Eta', 'qPho4Eta', 'qPho5Eta', 'qPho0Phi', 'qPho1Phi', 'qPho2Phi', 'qPho3Phi', 'qPho4Phi', 'qPho5Phi', 'qPho0En', 'qPho1En', 'qPho2En', 'qPho3En', 'qPho4En', 'qPho5En', 'qgedPho0Pt', 'qgedPho1Pt', 'qgedPho2Pt', 'qgedPho3Pt', 'qgedPho4Pt', 'qgedPho5Pt', 'qgedPho0Eta', 'qgedPho1Eta', 'qgedPho2Eta', 'qgedPho3Eta', 'qgedPho4Eta', 'qgedPho5Eta', 'qgedPho0Phi', 'qgedPho1Phi', 'qgedPho2Phi', 'qgedPho3Phi', 'qgedPho4Phi', 'qgedPho5Phi', 'qgedPho0En', 'qgedPho1En', 'qgedPho2En', 'qgedPho3En', 'qgedPho4En', 'qgedPho5En']\n",
    "pho = [cal_jet_mets[1]+1, cal_jet_mets[1]+ 1 + len(pho_list)*7 ] #COLOUR 3\n",
    "print(pho, 'pho')\n",
    "muons_list = ['qMu0Pt', 'qMu1Pt', 'qMu2Pt', 'qMu3Pt', 'qMu4Pt', 'qMu5Pt', 'qMu0Eta', 'qMu1Eta', 'qMu2Eta', 'qMu3Eta', 'qMu4Eta', 'qMu5Eta', 'qMu0Phi', 'qMu1Phi', 'qMu2Phi', 'qMu3Phi', 'qMu4Phi', 'qMu5Phi', 'qMu0En', 'qMu1En', 'qMu2En', 'qMu3En', 'qMu4En', 'qMu5En', 'qMuCosm0Pt', 'qMuCosm1Pt', 'qMuCosm2Pt', 'qMuCosm3Pt', 'qMuCosm4Pt', 'qMuCosm5Pt', 'qMuCosm0Eta', 'qMuCosm1Eta', 'qMuCosm2Eta', 'qMuCosm3Eta', 'qMuCosm4Eta', 'qMuCosm5Eta', 'qMuCosm0Phi', 'qMuCosm1Phi', 'qMuCosm2Phi', 'qMuCosm3Phi', 'qMuCosm4Phi', 'qMuCosm5Phi', 'qMuCosm0En', 'qMuCosm1En', 'qMuCosm2En', 'qMuCosm3En', 'qMuCosm4En', 'qMuCosm5En', 'qMuCosmLeg0Pt', 'qMuCosmLeg1Pt', 'qMuCosmLeg2Pt', 'qMuCosmLeg3Pt', 'qMuCosmLeg4Pt', 'qMuCosmLeg5Pt', 'qMuCosmLeg0Eta', 'qMuCosmLeg1Eta', 'qMuCosmLeg2Eta', 'qMuCosmLeg3Eta', 'qMuCosmLeg4Eta', 'qMuCosmLeg5Eta', 'qMuCosmLeg0Phi', 'qMuCosmLeg1Phi', 'qMuCosmLeg2Phi', 'qMuCosmLeg3Phi', 'qMuCosmLeg4Phi', 'qMuCosmLeg5Phi', 'qMuCosmLeg0En', 'qMuCosmLeg1En', 'qMuCosmLeg2En', 'qMuCosmLeg3En', 'qMuCosmLeg4En', 'qMuCosmLeg5En']\n",
    "muons = [pho[1]+1, pho[1]+1 + len(muons_list)*7] #COLOUR 4\n",
    "print(muons, 'muons')\n",
    "pf_jets2_list=['qPFJet4CHSPt', 'qPFJet4CHSEta', 'qPFJet4CHSPhi', 'qPFJet8CHSPt', 'qPFJet8CHSEta', 'qPFJet8CHSPhi', 'qPFJetEIPt', 'qPFJetEIEta', 'qPFJetEIPhi', 'qPFJet8CHSSDPt', 'qPFJet8CHSSDEta', 'qPFJet8CHSSDPhi', 'qPFJetTopCHSPt', 'qPFJetTopCHSEta', 'qPFJetTopCHSPhi']\n",
    "pf_jets2=[muons[1]+1,muons[1]+1+len(pf_jets2_list)*7] #COLOUR 1 !\n",
    "print(pf_jets2, 'pf_jets2')\n",
    "pf_mets_list=['qPFChMetPt', 'qPFChMetPhi', 'qPFMetPt', 'qPFMetPhi']\n",
    "pf_mets=[pf_jets2[1]+1, pf_jets2[1]+1 + len(pf_mets_list)*7] #COLOUR 5\n",
    "print(pf_mets, 'pf_mets')\n",
    "nvtx_list=['qNVtx']\n",
    "nvtx=[pf_mets[1]+1] #COLOUR 6 (BLACK)\n",
    "print(nvtx, 'nvtx')\n",
    "cal_jet_mets2_list = ['qCalJetPt', 'qCalJetEta', 'qCalJetPhi', 'qCalJetEn', 'qCalMETPt', 'qCalMETPhi', 'qCalMETEn', 'qCalMETBEPt', 'qCalMETBEPhi', 'qCalMETBEEn', 'qCalMETBEFOPt', 'qCalMETBEFOPhi', 'qCalMETBEFOEn', 'qCalMETMPt', 'qCalMETMPhi', 'qCalMETMEn']\n",
    "cal_jet_mets2=[nvtx[0]+1, nvtx[0]+1+len(cal_jet_mets2_list)*7] #COLOUR 7\n",
    "print(cal_jet_mets2, 'cal_jet_mets2')\n",
    "sc_list=['qSCEn', 'qSCEta', 'qSCPhi', 'qSCEtaWidth', 'qSCPhiWidth', 'qSCEtahfEM', 'qSCPhihfEM', 'qSCEn5x5', 'qSCEta5x5', 'qSCPhi5x5', 'qSCEtaWidth5x5', 'qSCPhiWidth5x5']\n",
    "sc=[cal_jet_mets2[1]+1,cal_jet_mets2[1]+1+len(sc_list)*7]#COLOUR 8\n",
    "print(sc, 'sc')\n",
    "cc_list=['qCCEn', 'qCCEta', 'qCCPhi', 'qCCEn5x5', 'qCCEta5x5', 'qCCPhi5x5']\n",
    "cc=[sc[1]+1,sc[1]+1+len(cc_list)*7] #COLOUR 9\n",
    "print(cc, 'cc')\n",
    "pho2_list=['qPhoPt', 'qPhoEta', 'qPhoPhi', 'qPhoEn_', 'qPhoe1x5_', 'qPhoe2x5_', 'qPhoe3x3_', 'qPhoe5x5_', 'qPhomaxenxtal_', 'qPhosigmaeta_', 'qPhosigmaIeta_', 'qPhor1x5_', 'qPhor2x5_', 'qPhor9_', 'qgedPhoPt', 'qgedPhoEta', 'qgedPhoPhi', 'qgedPhoEn_', 'qgedPhoe1x5_', 'qgedPhoe2x5_', 'qgedPhoe3x3_', 'qgedPhoe5x5_', 'qgedPhomaxenxtal_', 'qgedPhosigmaeta_', 'qgedPhosigmaIeta_', 'qgedPhor1x5_', 'qgedPhor2x5_', 'qgedPhor9_']\n",
    "pho2=[cc[1]+1,cc[1]+1+len(pho2_list)*7] #COLOUR 3 !\n",
    "print(pho2, 'pho2')\n",
    "muons2_list=['qMuPt', 'qMuEta', 'qMuPhi', 'qMuEn_', 'qMuCh_', 'qMuChi2_', 'qMuCosmPt', 'qMuCosmEta', 'qMuCosmPhi', 'qMuCosmEn_', 'qMuCosmCh_', 'qMuCosmChi2_', 'qMuCosmLegPt', 'qMuCosmLegEta', 'qMuCosmLegPhi', 'qMuCosmLegEn_', 'qMuCosmLegCh_', 'qMuCosmLegChi2_']\n",
    "muons2=[pho2[1]+1, pho2[1]+1+len(muons2_list)*7]#COLOUR 4 !\n",
    "print(muons2, 'muons2')\n",
    "ebs_list=['qSigmaIEta', 'qSigmaIPhi', 'qr9', 'qHadOEm', 'qdrSumPt', 'qdrSumEt', 'qeSCOP', 'qecEn', 'qUNSigmaIEta', 'qUNSigmaIPhi', 'qUNr9', 'qUNHadOEm', 'qUNdrSumPt', 'qUNdrSumEt', 'qUNeSCOP', 'qUNecEn', 'qEBenergy', 'qEBtime', 'qEBchi2', 'qEBiEta', 'qEBiPhi', 'qEEenergy', 'qEEtime', 'qEEchi2', 'qEEix', 'qEEiy', 'qESenergy', 'qEStime', 'qESix', 'qESiy']\n",
    "ebs=[muons2[1]+1,muons2[1]+1+len(ebs_list)*7] #COLOUR 4\n",
    "print(ebs, 'ebs')\n",
    "hbhef_list=['qHBHEenergy', 'qHBHEtime', 'qHBHEauxe', 'qHBHEieta', 'qHBHEiphi', 'qHFenergy', 'qHFtime', 'qHFieta', 'qHFiphi']\n",
    "hbhef=[ebs[1]+1,ebs[1]+1+len(hbhef_list)*7] #COLOUR 11\n",
    "print(hbhef, 'hbhef')\n",
    "presh_list=['qPreShEn', 'qPreShEta', 'qPreShPhi', 'qPreShYEn', 'qPreShYEta', 'qPreShYPhi']\n",
    "presh=[hbhef[1]+1, hbhef[1]+1+len(presh_list)*7] #COLOUR 12\n",
    "print(presh, 'presh')\n"
   ]
  },
  {
   "cell_type": "code",
   "execution_count": null,
   "metadata": {
    "collapsed": false
   },
   "outputs": [],
   "source": []
  },
  {
   "cell_type": "code",
   "execution_count": null,
   "metadata": {
    "collapsed": false
   },
   "outputs": [],
   "source": []
  },
  {
   "cell_type": "code",
   "execution_count": 87,
   "metadata": {
    "collapsed": false
   },
   "outputs": [],
   "source": [
    "# var_names_reduced5 = ['qPFJetPt', 'qPFJetEta', 'qPFJetPhi', 'qPFJet0Pt', 'qPFJet1Pt', 'qPFJet2Pt', 'qPFJet3Pt', 'qPFJet4Pt', 'qPFJet5Pt', 'qPFJet0Eta', 'qPFJet1Eta', 'qPFJet2Eta', 'qPFJet3Eta', 'qPFJet4Eta', 'qPFJet5Eta', 'qPFJet0Phi', 'qPFJet1Phi', 'qPFJet2Phi', 'qPFJet3Phi', 'qPFJet4Phi', 'qPFJet5Phi', 'qPFJet4CHS0Pt', 'qPFJet4CHS1Pt', 'qPFJet4CHS2Pt', 'qPFJet4CHS3Pt', 'qPFJet4CHS4Pt', 'qPFJet4CHS5Pt', 'qPFJet4CHS0Eta', 'qPFJet4CHS1Eta', 'qPFJet4CHS2Eta', 'qPFJet4CHS3Eta', 'qPFJet4CHS4Eta', 'qPFJet4CHS5Eta', 'qPFJet4CHS0Phi', 'qPFJet4CHS1Phi', 'qPFJet4CHS2Phi', 'qPFJet4CHS3Phi', 'qPFJet4CHS4Phi', 'qPFJet4CHS5Phi', 'qPFJet8CHS0Pt', 'qPFJet8CHS1Pt', 'qPFJet8CHS2Pt', 'qPFJet8CHS3Pt', 'qPFJet8CHS4Pt', 'qPFJet8CHS5Pt', 'qPFJet8CHS0Eta', 'qPFJet8CHS1Eta', 'qPFJet8CHS2Eta', 'qPFJet8CHS3Eta', 'qPFJet8CHS4Eta', 'qPFJet8CHS5Eta', 'qPFJet8CHS0Phi', 'qPFJet8CHS1Phi', 'qPFJet8CHS2Phi', 'qPFJet8CHS3Phi', 'qPFJet8CHS4Phi', 'qPFJet8CHS5Phi', 'qPFJetEI0Pt', 'qPFJetEI1Pt', 'qPFJetEI2Pt', 'qPFJetEI3Pt', 'qPFJetEI4Pt', 'qPFJetEI5Pt', 'qPFJetEI0Eta', 'qPFJetEI1Eta', 'qPFJetEI2Eta', 'qPFJetEI3Eta', 'qPFJetEI4Eta', 'qPFJetEI5Eta', 'qPFJetEI0Phi', 'qPFJetEI1Phi', 'qPFJetEI2Phi', 'qPFJetEI3Phi', 'qPFJetEI4Phi', 'qPFJetEI5Phi', 'qPFJet8CHSSD0Pt', 'qPFJet8CHSSD1Pt', 'qPFJet8CHSSD2Pt', 'qPFJet8CHSSD3Pt', 'qPFJet8CHSSD4Pt', 'qPFJet8CHSSD5Pt', 'qPFJet8CHSSD0Eta', 'qPFJet8CHSSD1Eta', 'qPFJet8CHSSD2Eta', 'qPFJet8CHSSD3Eta', 'qPFJet8CHSSD4Eta', 'qPFJet8CHSSD5Eta', 'qPFJet8CHSSD0Phi', 'qPFJet8CHSSD1Phi', 'qPFJet8CHSSD2Phi', 'qPFJet8CHSSD3Phi', 'qPFJet8CHSSD4Phi', 'qPFJet8CHSSD5Phi', 'qPFJetTopCHS0Pt', 'qPFJetTopCHS1Pt', 'qPFJetTopCHS2Pt', 'qPFJetTopCHS3Pt', 'qPFJetTopCHS4Pt', 'qPFJetTopCHS5Pt', 'qPFJetTopCHS0Eta', 'qPFJetTopCHS1Eta', 'qPFJetTopCHS2Eta', 'qPFJetTopCHS3Eta', 'qPFJetTopCHS4Eta', 'qPFJetTopCHS5Eta', 'qPFJetTopCHS0Phi', 'qPFJetTopCHS1Phi', 'qPFJetTopCHS2Phi', 'qPFJetTopCHS3Phi', 'qPFJetTopCHS4Phi', 'qPFJetTopCHS5Phi', 'qCalJet0Pt', 'qCalJet1Pt', 'qCalJet2Pt', 'qCalJet3Pt', 'qCalJet4Pt', 'qCalJet5Pt', 'qCalJet0Eta', 'qCalJet1Eta', 'qCalJet2Eta', 'qCalJet3Eta', 'qCalJet4Eta', 'qCalJet5Eta', 'qCalJet0Phi', 'qCalJet1Phi', 'qCalJet2Phi', 'qCalJet3Phi', 'qCalJet4Phi', 'qCalJet5Phi', 'qCalJet0En', 'qCalJet1En', 'qCalJet2En', 'qCalJet3En', 'qCalJet4En', 'qCalJet5En', 'qPho0Pt', 'qPho1Pt', 'qPho2Pt', 'qPho3Pt', 'qPho4Pt', 'qPho5Pt', 'qPho0Eta', 'qPho1Eta', 'qPho2Eta', 'qPho3Eta', 'qPho4Eta', 'qPho5Eta', 'qPho0Phi', 'qPho1Phi', 'qPho2Phi', 'qPho3Phi', 'qPho4Phi', 'qPho5Phi', 'qPho0En', 'qPho1En', 'qPho2En', 'qPho3En', 'qPho4En', 'qPho5En', 'qgedPho0Pt', 'qgedPho1Pt', 'qgedPho2Pt', 'qgedPho3Pt', 'qgedPho4Pt', 'qgedPho5Pt', 'qgedPho0Eta', 'qgedPho1Eta', 'qgedPho2Eta', 'qgedPho3Eta', 'qgedPho4Eta', 'qgedPho5Eta', 'qgedPho0Phi', 'qgedPho1Phi', 'qgedPho2Phi', 'qgedPho3Phi', 'qgedPho4Phi', 'qgedPho5Phi', 'qgedPho0En', 'qgedPho1En', 'qgedPho2En', 'qgedPho3En', 'qgedPho4En', 'qgedPho5En', 'qMu0Pt', 'qMu1Pt', 'qMu2Pt', 'qMu3Pt', 'qMu4Pt', 'qMu5Pt', 'qMu0Eta', 'qMu1Eta', 'qMu2Eta', 'qMu3Eta', 'qMu4Eta', 'qMu5Eta', 'qMu0Phi', 'qMu1Phi', 'qMu2Phi', 'qMu3Phi', 'qMu4Phi', 'qMu5Phi', 'qMu0En', 'qMu1En', 'qMu2En', 'qMu3En', 'qMu4En', 'qMu5En', 'qMuCosm0Pt', 'qMuCosm1Pt', 'qMuCosm2Pt', 'qMuCosm3Pt', 'qMuCosm4Pt', 'qMuCosm5Pt', 'qMuCosm0Eta', 'qMuCosm1Eta', 'qMuCosm2Eta', 'qMuCosm3Eta', 'qMuCosm4Eta', 'qMuCosm5Eta', 'qMuCosm0Phi', 'qMuCosm1Phi', 'qMuCosm2Phi', 'qMuCosm3Phi', 'qMuCosm4Phi', 'qMuCosm5Phi', 'qMuCosm0En', 'qMuCosm1En', 'qMuCosm2En', 'qMuCosm3En', 'qMuCosm4En', 'qMuCosm5En', 'qMuCosmLeg0Pt', 'qMuCosmLeg1Pt', 'qMuCosmLeg2Pt', 'qMuCosmLeg3Pt', 'qMuCosmLeg4Pt', 'qMuCosmLeg5Pt', 'qMuCosmLeg0Eta', 'qMuCosmLeg1Eta', 'qMuCosmLeg2Eta', 'qMuCosmLeg3Eta', 'qMuCosmLeg4Eta', 'qMuCosmLeg5Eta', 'qMuCosmLeg0Phi', 'qMuCosmLeg1Phi', 'qMuCosmLeg2Phi', 'qMuCosmLeg3Phi', 'qMuCosmLeg4Phi', 'qMuCosmLeg5Phi', 'qMuCosmLeg0En', 'qMuCosmLeg1En', 'qMuCosmLeg2En', 'qMuCosmLeg3En', 'qMuCosmLeg4En', 'qMuCosmLeg5En', 'qPFJet4CHSPt', 'qPFJet4CHSEta', 'qPFJet4CHSPhi', 'qPFJet8CHSPt', 'qPFJet8CHSEta', 'qPFJet8CHSPhi', 'qPFJetEIPt', 'qPFJetEIEta', 'qPFJetEIPhi', 'qPFJet8CHSSDPt', 'qPFJet8CHSSDEta', 'qPFJet8CHSSDPhi', 'qPFJetTopCHSPt', 'qPFJetTopCHSEta', 'qPFJetTopCHSPhi', 'qPFChMetPt', 'qPFChMetPhi', 'qPFMetPt', 'qPFMetPhi', 'qNVtx', 'qCalJetPt', 'qCalJetEta', 'qCalJetPhi', 'qCalJetEn', 'qCalMETPt', 'qCalMETPhi', 'qCalMETEn', 'qCalMETBEPt', 'qCalMETBEPhi', 'qCalMETBEEn', 'qCalMETBEFOPt', 'qCalMETBEFOPhi', 'qCalMETBEFOEn', 'qCalMETMPt', 'qCalMETMPhi', 'qCalMETMEn', 'qSCEn', 'qSCEta', 'qSCPhi', 'qSCEtaWidth', 'qSCPhiWidth', 'qSCEtahfEM', 'qSCPhihfEM', 'qSCEn5x5', 'qSCEta5x5', 'qSCPhi5x5', 'qSCEtaWidth5x5', 'qSCPhiWidth5x5', 'qCCEn', 'qCCEta', 'qCCPhi', 'qCCEn5x5', 'qCCEta5x5', 'qCCPhi5x5', 'qPhoPt', 'qPhoEta', 'qPhoPhi', 'qPhoEn_', 'qPhoe1x5_', 'qPhoe2x5_', 'qPhoe3x3_', 'qPhoe5x5_', 'qPhomaxenxtal_', 'qPhosigmaeta_', 'qPhosigmaIeta_', 'qPhor1x5_', 'qPhor2x5_', 'qPhor9_', 'qgedPhoPt', 'qgedPhoEta', 'qgedPhoPhi', 'qgedPhoEn_', 'qgedPhoe1x5_', 'qgedPhoe2x5_', 'qgedPhoe3x3_', 'qgedPhoe5x5_', 'qgedPhomaxenxtal_', 'qgedPhosigmaeta_', 'qgedPhosigmaIeta_', 'qgedPhor1x5_', 'qgedPhor2x5_', 'qgedPhor9_', 'qMuPt', 'qMuEta', 'qMuPhi', 'qMuEn_', 'qMuCh_', 'qMuChi2_', 'qMuCosmPt', 'qMuCosmEta', 'qMuCosmPhi', 'qMuCosmEn_', 'qMuCosmCh_', 'qMuCosmChi2_', 'qMuCosmLegPt', 'qMuCosmLegEta', 'qMuCosmLegPhi', 'qMuCosmLegEn_', 'qMuCosmLegCh_', 'qMuCosmLegChi2_', 'qSigmaIEta', 'qSigmaIPhi', 'qr9', 'qHadOEm', 'qdrSumPt', 'qdrSumEt', 'qeSCOP', 'qecEn', 'qUNSigmaIEta', 'qUNSigmaIPhi', 'qUNr9', 'qUNHadOEm', 'qUNdrSumPt', 'qUNdrSumEt', 'qUNeSCOP', 'qUNecEn', 'qEBenergy', 'qEBtime', 'qEBchi2', 'qEBiEta', 'qEBiPhi', 'qEEenergy', 'qEEtime', 'qEEchi2', 'qEEix', 'qEEiy', 'qESenergy', 'qEStime', 'qESix', 'qESiy', 'qHBHEenergy', 'qHBHEtime', 'qHBHEauxe', 'qHBHEieta', 'qHBHEiphi', 'qHFenergy', 'qHFtime', 'qHFieta', 'qHFiphi', 'qPreShEn', 'qPreShEta', 'qPreShPhi', 'qPreShYEn', 'qPreShYEta', 'qPreShYPhi']\n",
    "# matrix = np.empty([n_good_events,n_vars*7+6])\n",
    "# for j in range(n_good_events):\n",
    "#     for i in range(n_vars):\n",
    "#         matrix[j,i*7:(i+1)*7] = goodEvents[var_list[i]][j]\n",
    "#     matrix[j,-6] = int(goodEvents['runId'][j])\n",
    "#     matrix[j,-5] = int(goodEvents['lumiId'][j])\n",
    "#     matrix[j,-4] = goodEvents['lumi'][j]\n",
    "#     matrix[j,-3] = goodEvents['crossSection'][j][0]\n",
    "#     matrix[j,-2] = goodEvents['pathRates'][j][0]\n",
    "#     matrix[j,-1] = json_checker(output_json, matrix[j,-6], matrix[j,-5])\n",
    "\n",
    "#THIS CAN MAKE SENSE FOR PLOTTING GOOD ONLY. SEE WHETHER IT IS CONSISTENT!\n",
    "# def mse_plot(X_test, predictions, y_test, mode = None):\n",
    "#     my_vec = []\n",
    "#     for i in range (0,len(X_test)):\n",
    "#         my_vec.append(X_test[i] - predictions[i])\n",
    "#     if mode == \"all\":\n",
    "#         my_vec = np.array(my_vec)\n",
    "#         pd_vec = pd.DataFrame(my_vec)\n",
    "#         print(pd_vec)\n",
    "# #     elif mode == \"good\":\n",
    "# #         print(\"1\")\n",
    "# #         new_df = pd.DataFrame({'reconstruction_error': my_vec,\n",
    "# #                                  'true_class': y_test})\n",
    "# #         pd_vec = new_df[(new_df['true_class']== 0)]\n",
    "# #         print(pd_vec)\n",
    "# #     elif mode == \"bad\":\n",
    "# #         print(\"2\")\n",
    "#     new_vec = []\n",
    "#     for i in range (0, len(X_test[0])):\n",
    "#         new_vec.append(pd_vec[i].mean())\n",
    "#     new_vec = np.array(new_vec)\n",
    "#     new_pd_vec = pd.DataFrame(new_vec)\n",
    "#     incr_vec = []\n",
    "#     for i in range (0, len(X_test[0])):\n",
    "#         incr_vec.append(i)\n",
    "#     incr_vec = np.array(incr_vec)\n",
    "#     plt.plot(incr_vec, new_vec )\n",
    "#     plt.show()\n",
    "#     del(my_vec, new_vec)\n",
    "    \n",
    "# mse_plot(X_test, predictions, y_test, mode=\"all\")"
   ]
  },
  {
   "cell_type": "code",
   "execution_count": null,
   "metadata": {
    "collapsed": false
   },
   "outputs": [],
   "source": []
  },
  {
   "cell_type": "code",
   "execution_count": 88,
   "metadata": {
    "collapsed": false
   },
   "outputs": [
    {
     "name": "stdout",
     "output_type": "stream",
     "text": [
      "(32737, 2805)\n",
      "(32737,)\n"
     ]
    }
   ],
   "source": [
    "error_df.describe()\n",
    "# print(error_df['reconstruction_error'])\n",
    "print(predictions.shape)\n",
    "print(mse.shape)\n",
    "\n",
    "# print(error_df)\n",
    "#MSE = mean squared error\n"
   ]
  },
  {
   "cell_type": "markdown",
   "metadata": {},
   "source": [
    "## Reconstruction error without anomaly"
   ]
  },
  {
   "cell_type": "code",
   "execution_count": 89,
   "metadata": {
    "collapsed": false
   },
   "outputs": [
    {
     "name": "stdout",
     "output_type": "stream",
     "text": [
      "[ 3.14776116  2.99236083  1.91179304 ...,  1.81302276  1.7265278\n",
      "  1.60872191]\n"
     ]
    },
    {
     "data": {
      "image/png": "[encoded data removed]",
      "text/plain": [
       "<matplotlib.figure.Figure at 0x7f1ff87c42e8>"
      ]
     },
     "metadata": {},
     "output_type": "display_data"
    }
   ],
   "source": [
    "fig = plt.figure()\n",
    "ax = fig.add_subplot(111)\n",
    "normal_error_df = error_df[(error_df['true_class']== 0)]\n",
    "print(normal_error_df.reconstruction_error.values)\n",
    "_ = ax.hist(normal_error_df.reconstruction_error.values, bins=500)\n",
    "ax.set_yscale('log')\n",
    "# fig.savefig(\"jetC_MinMaxScaler_e350_bs1000_ed14_RECERR.pdf\")"
   ]
  },
  {
   "cell_type": "markdown",
   "metadata": {},
   "source": [
    "## Reconstruction error of anomalous lumis"
   ]
  },
  {
   "cell_type": "code",
   "execution_count": 90,
   "metadata": {
    "collapsed": false
   },
   "outputs": [
    {
     "data": {
      "image/png": "[encoded data removed]",
      "text/plain": [
       "<matplotlib.figure.Figure at 0x7f2004a39400>"
      ]
     },
     "metadata": {},
     "output_type": "display_data"
    }
   ],
   "source": [
    "fig = plt.figure()\n",
    "ax = fig.add_subplot(111)\n",
    "anomaly_error_df = error_df[error_df['true_class'] == 1]\n",
    "_ = ax.hist(anomaly_error_df.reconstruction_error.values, bins=500)\n",
    "ax.set_yscale('log')\n",
    "# fig.savefig(\"jetC_MinMaxScaler_e350_bs1000_ed14_RECERRANOMALY.pdf\")"
   ]
  },
  {
   "cell_type": "code",
   "execution_count": 91,
   "metadata": {
    "collapsed": true
   },
   "outputs": [],
   "source": [
    "from sklearn.metrics import (confusion_matrix, precision_recall_curve, auc,\n",
    "                             roc_curve, recall_score, classification_report, f1_score,\n",
    "                             precision_recall_fscore_support)"
   ]
  },
  {
   "cell_type": "markdown",
   "metadata": {},
   "source": [
    "ROC curves are very useful tool for understanding the performance of binary classifiers. However, our case is a bit out of the ordinary. We have a very imbalanced dataset. Nonetheless, let's have a look at our ROC curve:"
   ]
  },
  {
   "cell_type": "code",
   "execution_count": 92,
   "metadata": {
    "collapsed": false
   },
   "outputs": [
    {
     "data": {
      "image/png": "[encoded data removed]",
      "text/plain": [
       "<matplotlib.figure.Figure at 0x7f2000078908>"
      ]
     },
     "metadata": {},
     "output_type": "display_data"
    }
   ],
   "source": [
    "fpr, tpr, thresholds = roc_curve(error_df.true_class, error_df.reconstruction_error)\n",
    "roc_auc = auc(fpr, tpr)\n",
    "\n",
    "\n",
    "plt.title('Receiver Operating Characteristic')\n",
    "plt.plot(fpr, tpr, label='AUC = %0.4f'% roc_auc)\n",
    "plt.legend(loc='lower right')\n",
    "plt.plot([0,1],[0,1],'r--')\n",
    "plt.xlim([-0.001, 1])\n",
    "plt.ylim([0, 1.001])\n",
    "plt.ylabel('True Positive Rate')\n",
    "plt.xlabel('False Positive Rate')\n",
    "plt.show()\n",
    "# plt.savefig(\"jetC_MinMaxScaler_e350_bs1000_ed14_ROC.pdf\")"
   ]
  },
  {
   "cell_type": "markdown",
   "metadata": {},
   "source": [
    "The ROC curve plots the true positive rate versus the false positive rate, over different threshold values. Basically, we want the blue line to be as close as possible to the upper left corner. While our results look pretty good, we have to keep in mind of the nature of our dataset. ROC doesn't look very useful for us. Onward...\n",
    "\n",
    "## Precision vs Recall\n",
    "\n",
    "<img src=\"https://upload.wikimedia.org/wikipedia/commons/thumb/2/26/Precisionrecall.svg/350px-Precisionrecall.svg.png\" />\n",
    "\n",
    "Precision and recall are defined as follows:\n",
    "\n",
    "$$\\text{Precision} = \\frac{\\text{true positives}}{\\text{true positives} + \\text{false positives}}$$\n",
    "\n",
    "$$\\text{Recall} = \\frac{\\text{true positives}}{\\text{true positives} + \\text{false negatives}}$$\n",
    "\n",
    "Let's take an example from Information Retrieval in order to better understand what precision and recall are. Precision measures the relevancy of obtained results. Recall, on the other hand, measures how many relevant results are returned. Both values can take values between 0 and 1. You would love to have a system with both values being equal to 1.\n",
    "\n",
    "Let's return to our example from Information Retrieval. High recall but low precision means many results, most of which has low or no relevancy. When precision is high but recall is low we have the opposite - few returned results with very high relevancy. Ideally, you would want high precision and high recall - many results with that are highly relevant."
   ]
  },
  {
   "cell_type": "code",
   "execution_count": 93,
   "metadata": {
    "collapsed": false
   },
   "outputs": [
    {
     "data": {
      "image/png": "[encoded data removed]",
      "text/plain": [
       "<matplotlib.figure.Figure at 0x7f2000114438>"
      ]
     },
     "metadata": {},
     "output_type": "display_data"
    }
   ],
   "source": [
    "precision, recall, th = precision_recall_curve(error_df.true_class, error_df.reconstruction_error)\n",
    "plt.plot(recall, precision, 'b', label='Precision-Recall curve')\n",
    "plt.title('Recall vs Precision')\n",
    "plt.xlabel('Recall')\n",
    "plt.ylabel('Precision')\n",
    "plt.show()\n",
    "# plt.savefig(\"jetC_MinMaxScaler_e350_bs1000_ed14__RECPRE.pdf\")"
   ]
  },
  {
   "cell_type": "markdown",
   "metadata": {},
   "source": [
    "A high area under the curve represents both high recall and high precision, where high precision relates to a low false positive rate, and high recall relates to a low false negative rate. High scores for both show that the classifier is returning accurate results (high precision), as well as returning a majority of all positive results (high recall)."
   ]
  },
  {
   "cell_type": "code",
   "execution_count": 94,
   "metadata": {
    "collapsed": false
   },
   "outputs": [
    {
     "data": {
      "image/png": "[encoded data removed]",
      "text/plain": [
       "<matplotlib.figure.Figure at 0x7f20049698d0>"
      ]
     },
     "metadata": {},
     "output_type": "display_data"
    }
   ],
   "source": [
    "plt.plot(th, precision[1:], 'b', label='Threshold-Precision curve')\n",
    "plt.title('Precision for different threshold values')\n",
    "plt.xlabel('Threshold')\n",
    "plt.ylabel('Precision')\n",
    "plt.show()\n",
    "# plt.savefig(\"jetC_MinMaxScaler_e350_bs1000_ed14_PRETRE.pdf\")"
   ]
  },
  {
   "cell_type": "markdown",
   "metadata": {},
   "source": [
    "You can see that as the reconstruction error increases our precision rises as well. Let's have a look at the recall:"
   ]
  },
  {
   "cell_type": "code",
   "execution_count": 95,
   "metadata": {
    "collapsed": false
   },
   "outputs": [
    {
     "data": {
      "image/png": "[encoded data removed]",
      "text/plain": [
       "<matplotlib.figure.Figure at 0x7f2004c2df98>"
      ]
     },
     "metadata": {},
     "output_type": "display_data"
    }
   ],
   "source": [
    "plt.plot(th, recall[1:], 'b', label='Threshold-Recall curve')\n",
    "plt.title('Recall for different threshold values')\n",
    "plt.xlabel('Treshold')\n",
    "plt.ylabel('Recall')\n",
    "plt.show()\n",
    "# plt.savefig(\"jetC_MinMaxScaler_e350_bs1000_ed14_RECTRE.pdf\")"
   ]
  },
  {
   "cell_type": "markdown",
   "metadata": {},
   "source": [
    "Here, we have the exact opposite situation. As the reconstruction error increases the recall decreases."
   ]
  },
  {
   "cell_type": "markdown",
   "metadata": {},
   "source": [
    "# Prediction\n",
    "\n",
    "Our model is a bit different this time. It doesn't know how to predict new values. But we don't need that. In order to predict whether or not a new/unseen lumisection is normal or anomalous, we'll calculate the reconstruction error from the lumisection itself. If the error is larger than a predefined threshold, we'll mark it as a anomaly (since our model should have a low error on normal lumisections). Let's pick that value:"
   ]
  },
  {
   "cell_type": "code",
   "execution_count": 98,
   "metadata": {
    "collapsed": true
   },
   "outputs": [],
   "source": [
    "threshold = 40"
   ]
  },
  {
   "cell_type": "markdown",
   "metadata": {},
   "source": [
    "And see how well we're dividing the two types of lumisections:"
   ]
  },
  {
   "cell_type": "code",
   "execution_count": 99,
   "metadata": {
    "collapsed": false
   },
   "outputs": [
    {
     "name": "stdout",
     "output_type": "stream",
     "text": [
      "Actually good lumis with reconstruction error higher than 40\n",
      "Actually anomalous lumis with reconstruction error higher than 40\n"
     ]
    },
    {
     "data": {
      "image/png": "[encoded data removed]",
      "text/plain": [
       "<matplotlib.figure.Figure at 0x7f2003a9cd68>"
      ]
     },
     "metadata": {},
     "output_type": "display_data"
    }
   ],
   "source": [
    "groups = error_df.groupby('true_class')\n",
    "fig, ax = plt.subplots()\n",
    "\n",
    "for name, group in groups:\n",
    "    if name == 0:\n",
    "        print('Actually good lumis with reconstruction error higher than', threshold)\n",
    "    elif name ==1:\n",
    "        print('Actually anomalous lumis with reconstruction error higher than', threshold)\n",
    "#     print(group['reconstruction_error'][group['reconstruction_error']>threshold])\n",
    "    ax.plot(group.index, group.reconstruction_error, marker='o', ms=3.5, linestyle='',\n",
    "            label= \"Anomaly\" if name == 1 else \"Normal\")\n",
    "ax.hlines(threshold, ax.get_xlim()[0], ax.get_xlim()[1], colors=\"r\", zorder=100, label='Threshold')\n",
    "ax.legend()\n",
    "plt.title(\"Reconstruction error for different classes\")\n",
    "plt.ylabel(\"Reconstruction error\")\n",
    "plt.xlabel(\"Data point index\")\n",
    "plt.show()"
   ]
  },
  {
   "cell_type": "code",
   "execution_count": 100,
   "metadata": {
    "collapsed": false
   },
   "outputs": [
    {
     "data": {
      "image/png": "[encoded data removed]",
      "text/plain": [
       "<matplotlib.figure.Figure at 0x7f20050a1b00>"
      ]
     },
     "metadata": {},
     "output_type": "display_data"
    }
   ],
   "source": [
    "y_pred = [1 if e > threshold else 0 for e in error_df.reconstruction_error.values]\n",
    "conf_matrix = confusion_matrix(error_df.true_class, y_pred)\n",
    "\n",
    "plt.figure(figsize=(12, 12))\n",
    "sns.heatmap(conf_matrix, xticklabels=LABELS, yticklabels=LABELS, annot=True, fmt=\"d\");\n",
    "plt.title(\"Confusion matrix\")\n",
    "plt.ylabel('True class')\n",
    "plt.xlabel('Predicted class')\n",
    "plt.show()"
   ]
  },
  {
   "cell_type": "code",
   "execution_count": 56,
   "metadata": {
    "collapsed": false
   },
   "outputs": [
    {
     "name": "stdout",
     "output_type": "stream",
     "text": [
      "RunID of chosen lumi: 283682\n",
      "LumiID of chosen lumi: 207\n"
     ]
    }
   ],
   "source": [
    "chosen_idx = 21529\n",
    "runIDS = np.load('/afs/cern.ch/user/f/fsiroky/public/datarunIDs.npy')\n",
    "runIDS = pd.DataFrame(runIDS)\n",
    "lumiIDS = np.load('/afs/cern.ch/user/f/fsiroky/public/datalumiIDs.npy')\n",
    "lumiIDS = pd.DataFrame(lumiIDS)\n",
    "\n",
    "last_train_idx = 130615\n",
    "print('RunID of chosen lumi:',  int(runIDS.ix[chosen_idx+last_train_idx+1])) #or \n",
    "print('LumiID of chosen lumi:',int(lumiIDS.ix[chosen_idx+last_train_idx+1]))\n",
    "\n",
    "#342745   3PDs\n",
    "# print('RunID of chosen lumi:', int(data[2800].ix[chosen_idx]))\n",
    "# print('LumiID of chosen lumi:',int(data[2801].ix[chosen_idx]))"
   ]
  },
  {
   "cell_type": "code",
   "execution_count": 57,
   "metadata": {
    "collapsed": false
   },
   "outputs": [],
   "source": [
    "# runIDS"
   ]
  },
  {
   "cell_type": "code",
   "execution_count": null,
   "metadata": {
    "collapsed": false
   },
   "outputs": [],
   "source": []
  },
  {
   "cell_type": "code",
   "execution_count": null,
   "metadata": {
    "collapsed": false
   },
   "outputs": [],
   "source": []
  },
  {
   "cell_type": "code",
   "execution_count": 58,
   "metadata": {
    "collapsed": false
   },
   "outputs": [
    {
     "name": "stdout",
     "output_type": "stream",
     "text": [
      "chosen_idx is:  21529\n"
     ]
    },
    {
     "data": {
      "image/png": "[encoded data removed]",
      "text/plain": [
       "<matplotlib.figure.Figure at 0x7f2004dd6908>"
      ]
     },
     "metadata": {},
     "output_type": "display_data"
    }
   ],
   "source": [
    "if 'chosen_idx' in globals():\n",
    "    print('chosen_idx is: ', chosen_idx)\n",
    "else:\n",
    "    chosen_idx = 1\n",
    "    print('temporarily chosen_idx is: ', chosen_idx)\n",
    "    \n",
    "    \n",
    "# testset_idx = chosen_idx - 80781    #because 80780 is last index of training lumisection ##In case jupyter on eos is fixed\n",
    "testset_idx = chosen_idx              #342745 last index of training lumisec\n",
    "# print(X_test[0] - predictions[0])\n",
    "my_vec = X_test[testset_idx] - predictions[testset_idx]\n",
    "\n",
    "                \n",
    "my_vec = np.array(abs(my_vec))\n",
    "pd_vec = pd.DataFrame(my_vec)\n",
    "\n",
    "incr_vec = []\n",
    "for i in range (0,2805):\n",
    "    incr_vec.append(i)\n",
    "incr_vec = np.array(incr_vec)\n",
    "\n",
    "plt.plot(incr_vec[0:777],     pd_vec[0:777],     color='blue')          #pf_jets\n",
    "plt.plot(incr_vec[778:946],   pd_vec[778:946],   color='red')           #cal_jet_mets\n",
    "plt.plot(incr_vec[947:1283],  pd_vec[947:1283],  color='green')         #pho\n",
    "plt.plot(incr_vec[1284:1788], pd_vec[1284:1788], color='cyan')          #muons\n",
    "plt.plot(incr_vec[1789:1894], pd_vec[1789:1894], color='blue')          #pf_jets2\n",
    "plt.plot(incr_vec[1895:1923], pd_vec[1895:1923], color='olive')         #pf_mets\n",
    "plt.plot(incr_vec[1924:1925], pd_vec[1924:1925], color='black')         #nvtx\n",
    "plt.plot(incr_vec[1925:2037], pd_vec[1925:2037], color='red')           #cal_jet_mets2\n",
    "plt.plot(incr_vec[2038:2122], pd_vec[2038:2122], color='brown')         #sc\n",
    "plt.plot(incr_vec[2123:2165], pd_vec[2123:2165], color='pink')          #cc\n",
    "plt.plot(incr_vec[2166:2362], pd_vec[2166:2362], color='green')         #pho2\n",
    "plt.plot(incr_vec[2363:2489], pd_vec[2363:2489], color='cyan')          #muons2\n",
    "plt.plot(incr_vec[2490:2700], pd_vec[2490:2700], color='gray')          #ebs\n",
    "plt.plot(incr_vec[2701:2764], pd_vec[2701:2764], color='purple')        #hbhef\n",
    "plt.plot(incr_vec[2765:2807], pd_vec[2765:2807], color='black')         #presh\n",
    "\n",
    "\n",
    "plt.legend(['pf_jets', 'cal_jet_mets', 'pho', 'muons', 'pf_jets2', 'pf_mets', 'nvtx', \n",
    "           'cal_jet_mets2', 'sc', 'cc', 'pho2', 'muons2', 'ebs', 'hbhef', 'presh'], loc='best')\n",
    "\n",
    "plt.title('RunID: '+ str(int(runIDS.ix[chosen_idx+last_train_idx+1]))+', '+ 'LumiID: '+ str(int(lumiIDS.ix[chosen_idx+last_train_idx+1])))\n",
    "\n",
    "pd_vec = pd_vec.sort_values([0], ascending=False)\n",
    "\n",
    "index_store = -1\n",
    "for i in range (len(incr_vec)):\n",
    "    if pd_vec[0][i] > 5*pd_vec[0][i+1]:\n",
    "        index_store = i\n",
    "        break\n",
    "# print(index_store)\n",
    "# pd_vec\n",
    "\n",
    "\n",
    "# print(index_store)\n",
    "# print(kokonat.shape)\n",
    "\n",
    "# var_names_reduced5 = ['qPFJetPt', 'qPFJetEta', 'qPFJetPhi', 'qPFJet0Pt', 'qPFJet1Pt', 'qPFJet2Pt', 'qPFJet3Pt', 'qPFJet4Pt', 'qPFJet5Pt', 'qPFJet0Eta', 'qPFJet1Eta', 'qPFJet2Eta', 'qPFJet3Eta', 'qPFJet4Eta', 'qPFJet5Eta', 'qPFJet0Phi', 'qPFJet1Phi', 'qPFJet2Phi', 'qPFJet3Phi', 'qPFJet4Phi', 'qPFJet5Phi', 'qPFJet4CHS0Pt', 'qPFJet4CHS1Pt', 'qPFJet4CHS2Pt', 'qPFJet4CHS3Pt', 'qPFJet4CHS4Pt', 'qPFJet4CHS5Pt', 'qPFJet4CHS0Eta', 'qPFJet4CHS1Eta', 'qPFJet4CHS2Eta', 'qPFJet4CHS3Eta', 'qPFJet4CHS4Eta', 'qPFJet4CHS5Eta', 'qPFJet4CHS0Phi', 'qPFJet4CHS1Phi', 'qPFJet4CHS2Phi', 'qPFJet4CHS3Phi', 'qPFJet4CHS4Phi', 'qPFJet4CHS5Phi', 'qPFJet8CHS0Pt', 'qPFJet8CHS1Pt', 'qPFJet8CHS2Pt', 'qPFJet8CHS3Pt', 'qPFJet8CHS4Pt', 'qPFJet8CHS5Pt', 'qPFJet8CHS0Eta', 'qPFJet8CHS1Eta', 'qPFJet8CHS2Eta', 'qPFJet8CHS3Eta', 'qPFJet8CHS4Eta', 'qPFJet8CHS5Eta', 'qPFJet8CHS0Phi', 'qPFJet8CHS1Phi', 'qPFJet8CHS2Phi', 'qPFJet8CHS3Phi', 'qPFJet8CHS4Phi', 'qPFJet8CHS5Phi', 'qPFJetEI0Pt', 'qPFJetEI1Pt', 'qPFJetEI2Pt', 'qPFJetEI3Pt', 'qPFJetEI4Pt', 'qPFJetEI5Pt', 'qPFJetEI0Eta', 'qPFJetEI1Eta', 'qPFJetEI2Eta', 'qPFJetEI3Eta', 'qPFJetEI4Eta', 'qPFJetEI5Eta', 'qPFJetEI0Phi', 'qPFJetEI1Phi', 'qPFJetEI2Phi', 'qPFJetEI3Phi', 'qPFJetEI4Phi', 'qPFJetEI5Phi', 'qPFJet8CHSSD0Pt', 'qPFJet8CHSSD1Pt', 'qPFJet8CHSSD2Pt', 'qPFJet8CHSSD3Pt', 'qPFJet8CHSSD4Pt', 'qPFJet8CHSSD5Pt', 'qPFJet8CHSSD0Eta', 'qPFJet8CHSSD1Eta', 'qPFJet8CHSSD2Eta', 'qPFJet8CHSSD3Eta', 'qPFJet8CHSSD4Eta', 'qPFJet8CHSSD5Eta', 'qPFJet8CHSSD0Phi', 'qPFJet8CHSSD1Phi', 'qPFJet8CHSSD2Phi', 'qPFJet8CHSSD3Phi', 'qPFJet8CHSSD4Phi', 'qPFJet8CHSSD5Phi', 'qPFJetTopCHS0Pt', 'qPFJetTopCHS1Pt', 'qPFJetTopCHS2Pt', 'qPFJetTopCHS3Pt', 'qPFJetTopCHS4Pt', 'qPFJetTopCHS5Pt', 'qPFJetTopCHS0Eta', 'qPFJetTopCHS1Eta', 'qPFJetTopCHS2Eta', 'qPFJetTopCHS3Eta', 'qPFJetTopCHS4Eta', 'qPFJetTopCHS5Eta', 'qPFJetTopCHS0Phi', 'qPFJetTopCHS1Phi', 'qPFJetTopCHS2Phi', 'qPFJetTopCHS3Phi', 'qPFJetTopCHS4Phi', 'qPFJetTopCHS5Phi', 'qCalJet0Pt', 'qCalJet1Pt', 'qCalJet2Pt', 'qCalJet3Pt', 'qCalJet4Pt', 'qCalJet5Pt', 'qCalJet0Eta', 'qCalJet1Eta', 'qCalJet2Eta', 'qCalJet3Eta', 'qCalJet4Eta', 'qCalJet5Eta', 'qCalJet0Phi', 'qCalJet1Phi', 'qCalJet2Phi', 'qCalJet3Phi', 'qCalJet4Phi', 'qCalJet5Phi', 'qCalJet0En', 'qCalJet1En', 'qCalJet2En', 'qCalJet3En', 'qCalJet4En', 'qCalJet5En', 'qPho0Pt', 'qPho1Pt', 'qPho2Pt', 'qPho3Pt', 'qPho4Pt', 'qPho5Pt', 'qPho0Eta', 'qPho1Eta', 'qPho2Eta', 'qPho3Eta', 'qPho4Eta', 'qPho5Eta', 'qPho0Phi', 'qPho1Phi', 'qPho2Phi', 'qPho3Phi', 'qPho4Phi', 'qPho5Phi', 'qPho0En', 'qPho1En', 'qPho2En', 'qPho3En', 'qPho4En', 'qPho5En', 'qgedPho0Pt', 'qgedPho1Pt', 'qgedPho2Pt', 'qgedPho3Pt', 'qgedPho4Pt', 'qgedPho5Pt', 'qgedPho0Eta', 'qgedPho1Eta', 'qgedPho2Eta', 'qgedPho3Eta', 'qgedPho4Eta', 'qgedPho5Eta', 'qgedPho0Phi', 'qgedPho1Phi', 'qgedPho2Phi', 'qgedPho3Phi', 'qgedPho4Phi', 'qgedPho5Phi', 'qgedPho0En', 'qgedPho1En', 'qgedPho2En', 'qgedPho3En', 'qgedPho4En', 'qgedPho5En', 'qMu0Pt', 'qMu1Pt', 'qMu2Pt', 'qMu3Pt', 'qMu4Pt', 'qMu5Pt', 'qMu0Eta', 'qMu1Eta', 'qMu2Eta', 'qMu3Eta', 'qMu4Eta', 'qMu5Eta', 'qMu0Phi', 'qMu1Phi', 'qMu2Phi', 'qMu3Phi', 'qMu4Phi', 'qMu5Phi', 'qMu0En', 'qMu1En', 'qMu2En', 'qMu3En', 'qMu4En', 'qMu5En', 'qMuCosm0Pt', 'qMuCosm1Pt', 'qMuCosm2Pt', 'qMuCosm3Pt', 'qMuCosm4Pt', 'qMuCosm5Pt', 'qMuCosm0Eta', 'qMuCosm1Eta', 'qMuCosm2Eta', 'qMuCosm3Eta', 'qMuCosm4Eta', 'qMuCosm5Eta', 'qMuCosm0Phi', 'qMuCosm1Phi', 'qMuCosm2Phi', 'qMuCosm3Phi', 'qMuCosm4Phi', 'qMuCosm5Phi', 'qMuCosm0En', 'qMuCosm1En', 'qMuCosm2En', 'qMuCosm3En', 'qMuCosm4En', 'qMuCosm5En', 'qMuCosmLeg0Pt', 'qMuCosmLeg1Pt', 'qMuCosmLeg2Pt', 'qMuCosmLeg3Pt', 'qMuCosmLeg4Pt', 'qMuCosmLeg5Pt', 'qMuCosmLeg0Eta', 'qMuCosmLeg1Eta', 'qMuCosmLeg2Eta', 'qMuCosmLeg3Eta', 'qMuCosmLeg4Eta', 'qMuCosmLeg5Eta', 'qMuCosmLeg0Phi', 'qMuCosmLeg1Phi', 'qMuCosmLeg2Phi', 'qMuCosmLeg3Phi', 'qMuCosmLeg4Phi', 'qMuCosmLeg5Phi', 'qMuCosmLeg0En', 'qMuCosmLeg1En', 'qMuCosmLeg2En', 'qMuCosmLeg3En', 'qMuCosmLeg4En', 'qMuCosmLeg5En', 'qPFJet4CHSPt', 'qPFJet4CHSEta', 'qPFJet4CHSPhi', 'qPFJet8CHSPt', 'qPFJet8CHSEta', 'qPFJet8CHSPhi', 'qPFJetEIPt', 'qPFJetEIEta', 'qPFJetEIPhi', 'qPFJet8CHSSDPt', 'qPFJet8CHSSDEta', 'qPFJet8CHSSDPhi', 'qPFJetTopCHSPt', 'qPFJetTopCHSEta', 'qPFJetTopCHSPhi', 'qPFChMetPt', 'qPFChMetPhi', 'qPFMetPt', 'qPFMetPhi', 'qNVtx', 'qCalJetPt', 'qCalJetEta', 'qCalJetPhi', 'qCalJetEn', 'qCalMETPt', 'qCalMETPhi', 'qCalMETEn', 'qCalMETBEPt', 'qCalMETBEPhi', 'qCalMETBEEn', 'qCalMETBEFOPt', 'qCalMETBEFOPhi', 'qCalMETBEFOEn', 'qCalMETMPt', 'qCalMETMPhi', 'qCalMETMEn', 'qSCEn', 'qSCEta', 'qSCPhi', 'qSCEtaWidth', 'qSCPhiWidth', 'qSCEtahfEM', 'qSCPhihfEM', 'qSCEn5x5', 'qSCEta5x5', 'qSCPhi5x5', 'qSCEtaWidth5x5', 'qSCPhiWidth5x5', 'qCCEn', 'qCCEta', 'qCCPhi', 'qCCEn5x5', 'qCCEta5x5', 'qCCPhi5x5', 'qPhoPt', 'qPhoEta', 'qPhoPhi', 'qPhoEn_', 'qPhoe1x5_', 'qPhoe2x5_', 'qPhoe3x3_', 'qPhoe5x5_', 'qPhomaxenxtal_', 'qPhosigmaeta_', 'qPhosigmaIeta_', 'qPhor1x5_', 'qPhor2x5_', 'qPhor9_', 'qgedPhoPt', 'qgedPhoEta', 'qgedPhoPhi', 'qgedPhoEn_', 'qgedPhoe1x5_', 'qgedPhoe2x5_', 'qgedPhoe3x3_', 'qgedPhoe5x5_', 'qgedPhomaxenxtal_', 'qgedPhosigmaeta_', 'qgedPhosigmaIeta_', 'qgedPhor1x5_', 'qgedPhor2x5_', 'qgedPhor9_', 'qMuPt', 'qMuEta', 'qMuPhi', 'qMuEn_', 'qMuCh_', 'qMuChi2_', 'qMuCosmPt', 'qMuCosmEta', 'qMuCosmPhi', 'qMuCosmEn_', 'qMuCosmCh_', 'qMuCosmChi2_', 'qMuCosmLegPt', 'qMuCosmLegEta', 'qMuCosmLegPhi', 'qMuCosmLegEn_', 'qMuCosmLegCh_', 'qMuCosmLegChi2_', 'qSigmaIEta', 'qSigmaIPhi', 'qr9', 'qHadOEm', 'qdrSumPt', 'qdrSumEt', 'qeSCOP', 'qecEn', 'qUNSigmaIEta', 'qUNSigmaIPhi', 'qUNr9', 'qUNHadOEm', 'qUNdrSumPt', 'qUNdrSumEt', 'qUNeSCOP', 'qUNecEn', 'qEBenergy', 'qEBtime', 'qEBchi2', 'qEBiEta', 'qEBiPhi', 'qEEenergy', 'qEEtime', 'qEEchi2', 'qEEix', 'qEEiy', 'qESenergy', 'qEStime', 'qESix', 'qESiy', 'qHBHEenergy', 'qHBHEtime', 'qHBHEauxe', 'qHBHEieta', 'qHBHEiphi', 'qHFenergy', 'qHFtime', 'qHFieta', 'qHFiphi', 'qPreShEn', 'qPreShEta', 'qPreShPhi', 'qPreShYEn', 'qPreShYEta', 'qPreShYPhi']\n",
    "# test_novej         = ['qPFJetPt', 'qPFJetEta', 'qPFJetPhi', 'qPFJet0Pt', 'qPFJet1Pt', 'qPFJet2Pt', 'qPFJet3Pt', 'qPFJet4Pt', 'qPFJet5Pt', 'qPFJet0Eta', 'qPFJet1Eta', 'qPFJet2Eta', 'qPFJet3Eta', 'qPFJet4Eta', 'qPFJet5Eta', 'qPFJet0Phi', 'qPFJet1Phi', 'qPFJet2Phi', 'qPFJet3Phi', 'qPFJet4Phi', 'qPFJet5Phi', 'qPFJet4CHS0Pt', 'qPFJet4CHS1Pt', 'qPFJet4CHS2Pt', 'qPFJet4CHS3Pt', 'qPFJet4CHS4Pt', 'qPFJet4CHS5Pt', 'qPFJet4CHS0Eta', 'qPFJet4CHS1Eta', 'qPFJet4CHS2Eta', 'qPFJet4CHS3Eta', 'qPFJet4CHS4Eta', 'qPFJet4CHS5Eta', 'qPFJet4CHS0Phi', 'qPFJet4CHS1Phi', 'qPFJet4CHS2Phi', 'qPFJet4CHS3Phi', 'qPFJet4CHS4Phi', 'qPFJet4CHS5Phi', 'qPFJet8CHS0Pt', 'qPFJet8CHS1Pt', 'qPFJet8CHS2Pt', 'qPFJet8CHS3Pt', 'qPFJet8CHS4Pt', 'qPFJet8CHS5Pt', 'qPFJet8CHS0Eta', 'qPFJet8CHS1Eta', 'qPFJet8CHS2Eta', 'qPFJet8CHS3Eta', 'qPFJet8CHS4Eta', 'qPFJet8CHS5Eta', 'qPFJet8CHS0Phi', 'qPFJet8CHS1Phi', 'qPFJet8CHS2Phi', 'qPFJet8CHS3Phi', 'qPFJet8CHS4Phi', 'qPFJet8CHS5Phi', 'qPFJetEI0Pt', 'qPFJetEI1Pt', 'qPFJetEI2Pt', 'qPFJetEI3Pt', 'qPFJetEI4Pt', 'qPFJetEI5Pt', 'qPFJetEI0Eta', 'qPFJetEI1Eta', 'qPFJetEI2Eta', 'qPFJetEI3Eta', 'qPFJetEI4Eta', 'qPFJetEI5Eta', 'qPFJetEI0Phi', 'qPFJetEI1Phi', 'qPFJetEI2Phi', 'qPFJetEI3Phi', 'qPFJetEI4Phi', 'qPFJetEI5Phi', 'qPFJet8CHSSD0Pt', 'qPFJet8CHSSD1Pt', 'qPFJet8CHSSD2Pt', 'qPFJet8CHSSD3Pt', 'qPFJet8CHSSD4Pt', 'qPFJet8CHSSD5Pt', 'qPFJet8CHSSD0Eta', 'qPFJet8CHSSD1Eta', 'qPFJet8CHSSD2Eta', 'qPFJet8CHSSD3Eta', 'qPFJet8CHSSD4Eta', 'qPFJet8CHSSD5Eta', 'qPFJet8CHSSD0Phi', 'qPFJet8CHSSD1Phi', 'qPFJet8CHSSD2Phi', 'qPFJet8CHSSD3Phi', 'qPFJet8CHSSD4Phi', 'qPFJet8CHSSD5Phi', 'qPFJetTopCHS0Pt', 'qPFJetTopCHS1Pt', 'qPFJetTopCHS2Pt', 'qPFJetTopCHS3Pt', 'qPFJetTopCHS4Pt', 'qPFJetTopCHS5Pt', 'qPFJetTopCHS0Eta', 'qPFJetTopCHS1Eta', 'qPFJetTopCHS2Eta', 'qPFJetTopCHS3Eta', 'qPFJetTopCHS4Eta', 'qPFJetTopCHS5Eta', 'qPFJetTopCHS0Phi', 'qPFJetTopCHS1Phi', 'qPFJetTopCHS2Phi', 'qPFJetTopCHS3Phi', 'qPFJetTopCHS4Phi', 'qPFJetTopCHS5Phi', 'qCalJet0Pt', 'qCalJet1Pt', 'qCalJet2Pt', 'qCalJet3Pt', 'qCalJet4Pt', 'qCalJet5Pt', 'qCalJet0Eta', 'qCalJet1Eta', 'qCalJet2Eta', 'qCalJet3Eta', 'qCalJet4Eta', 'qCalJet5Eta', 'qCalJet0Phi', 'qCalJet1Phi', 'qCalJet2Phi', 'qCalJet3Phi', 'qCalJet4Phi', 'qCalJet5Phi', 'qCalJet0En', 'qCalJet1En', 'qCalJet2En', 'qCalJet3En', 'qCalJet4En', 'qCalJet5En', 'qPho0Pt', 'qPho1Pt', 'qPho2Pt', 'qPho3Pt', 'qPho4Pt', 'qPho5Pt', 'qPho0Eta', 'qPho1Eta', 'qPho2Eta', 'qPho3Eta', 'qPho4Eta', 'qPho5Eta', 'qPho0Phi', 'qPho1Phi', 'qPho2Phi', 'qPho3Phi', 'qPho4Phi', 'qPho5Phi', 'qPho0En', 'qPho1En', 'qPho2En', 'qPho3En', 'qPho4En', 'qPho5En', 'qgedPho0Pt', 'qgedPho1Pt', 'qgedPho2Pt', 'qgedPho3Pt', 'qgedPho4Pt', 'qgedPho5Pt', 'qgedPho0Eta', 'qgedPho1Eta', 'qgedPho2Eta', 'qgedPho3Eta', 'qgedPho4Eta', 'qgedPho5Eta', 'qgedPho0Phi', 'qgedPho1Phi', 'qgedPho2Phi', 'qgedPho3Phi', 'qgedPho4Phi', 'qgedPho5Phi', 'qgedPho0En', 'qgedPho1En', 'qgedPho2En', 'qgedPho3En', 'qgedPho4En', 'qgedPho5En', 'qMu0Pt', 'qMu1Pt', 'qMu2Pt', 'qMu3Pt', 'qMu4Pt', 'qMu5Pt', 'qMu0Eta', 'qMu1Eta', 'qMu2Eta', 'qMu3Eta', 'qMu4Eta', 'qMu5Eta', 'qMu0Phi', 'qMu1Phi', 'qMu2Phi', 'qMu3Phi', 'qMu4Phi', 'qMu5Phi', 'qMu0En', 'qMu1En', 'qMu2En', 'qMu3En', 'qMu4En', 'qMu5En', 'qMuCosm0Pt', 'qMuCosm1Pt', 'qMuCosm2Pt', 'qMuCosm3Pt', 'qMuCosm4Pt', 'qMuCosm5Pt', 'qMuCosm0Eta', 'qMuCosm1Eta', 'qMuCosm2Eta', 'qMuCosm3Eta', 'qMuCosm4Eta', 'qMuCosm5Eta', 'qMuCosm0Phi', 'qMuCosm1Phi', 'qMuCosm2Phi', 'qMuCosm3Phi', 'qMuCosm4Phi', 'qMuCosm5Phi', 'qMuCosm0En', 'qMuCosm1En', 'qMuCosm2En', 'qMuCosm3En', 'qMuCosm4En', 'qMuCosm5En', 'qMuCosmLeg0Pt', 'qMuCosmLeg1Pt', 'qMuCosmLeg2Pt', 'qMuCosmLeg3Pt', 'qMuCosmLeg4Pt', 'qMuCosmLeg5Pt', 'qMuCosmLeg0Eta', 'qMuCosmLeg1Eta', 'qMuCosmLeg2Eta', 'qMuCosmLeg3Eta', 'qMuCosmLeg4Eta', 'qMuCosmLeg5Eta', 'qMuCosmLeg0Phi', 'qMuCosmLeg1Phi', 'qMuCosmLeg2Phi', 'qMuCosmLeg3Phi', 'qMuCosmLeg4Phi', 'qMuCosmLeg5Phi', 'qMuCosmLeg0En', 'qMuCosmLeg1En', 'qMuCosmLeg2En', 'qMuCosmLeg3En', 'qMuCosmLeg4En', 'qMuCosmLeg5En', 'qPFJet4CHSPt', 'qPFJet4CHSEta', 'qPFJet4CHSPhi', 'qPFJet8CHSPt', 'qPFJet8CHSEta', 'qPFJet8CHSPhi', 'qPFJetEIPt', 'qPFJetEIEta', 'qPFJetEIPhi', 'qPFJet8CHSSDPt', 'qPFJet8CHSSDEta', 'qPFJet8CHSSDPhi', 'qPFJetTopCHSPt', 'qPFJetTopCHSEta', 'qPFJetTopCHSPhi', 'qPFChMetPt', 'qPFChMetPhi', 'qPFMetPt', 'qPFMetPhi', 'qNVtx', 'qCalJetPt', 'qCalJetEta', 'qCalJetPhi', 'qCalJetEn', 'qCalMETPt', 'qCalMETPhi', 'qCalMETEn', 'qCalMETBEPt', 'qCalMETBEPhi', 'qCalMETBEEn', 'qCalMETBEFOPt', 'qCalMETBEFOPhi', 'qCalMETBEFOEn', 'qCalMETMPt', 'qCalMETMPhi', 'qCalMETMEn', 'qSCEn', 'qSCEta', 'qSCPhi', 'qSCEtaWidth', 'qSCPhiWidth', 'qSCEnhfEM', 'qSCEtahfEM', 'qSCPhihfEM', 'qSCEn5x5', 'qSCEta5x5', 'qSCPhi5x5', 'qSCEtaWidth5x5', 'qSCPhiWidth5x5', 'qCCEn', 'qCCEta', 'qCCPhi', 'qCCEn5x5', 'qCCEta5x5', 'qCCPhi5x5', 'qPhoPt', 'qPhoEta', 'qPhoPhi', 'qPhoEn_', 'qPhoe1x5_', 'qPhoe2x5_', 'qPhoe3x3_', 'qPhoe5x5_', 'qPhomaxenxtal_', 'qPhosigmaeta_', 'qPhosigmaIeta_', 'qPhor1x5_', 'qPhor2x5_', 'qPhor9_', 'qgedPhoPt', 'qgedPhoEta', 'qgedPhoPhi', 'qgedPhoEn_', 'qgedPhoe1x5_', 'qgedPhoe2x5_', 'qgedPhoe3x3_', 'qgedPhoe5x5_', 'qgedPhomaxenxtal_', 'qgedPhosigmaeta_', 'qgedPhosigmaIeta_', 'qgedPhor1x5_', 'qgedPhor2x5_', 'qgedPhor9_', 'qMuPt', 'qMuEta', 'qMuPhi', 'qMuEn_', 'qMuCh_', 'qMuChi2_', 'qMuCosmPt', 'qMuCosmEta', 'qMuCosmPhi', 'qMuCosmEn_', 'qMuCosmCh_', 'qMuCosmChi2_', 'qMuCosmLegPt', 'qMuCosmLegEta', 'qMuCosmLegPhi', 'qMuCosmLegEn_', 'qMuCosmLegCh_', 'qMuCosmLegChi2_', 'qSigmaIEta', 'qSigmaIPhi', 'qr9', 'qHadOEm', 'qdrSumPt', 'qdrSumEt', 'qeSCOP', 'qecEn', 'qUNSigmaIEta', 'qUNSigmaIPhi', 'qUNr9', 'qUNHadOEm', 'qUNdrSumPt', 'qUNdrSumEt', 'qUNeSCOP', 'qUNecEn', 'qEBenergy', 'qEBtime', 'qEBchi2', 'qEBiEta', 'qEBiPhi', 'qEEenergy', 'qEEtime', 'qEEchi2', 'qEEix', 'qEEiy', 'qESenergy', 'qEStime', 'qESix', 'qESiy', 'qHBHEenergy', 'qHBHEtime', 'qHBHEauxe', 'qHBHEieta', 'qHBHEiphi', 'qHFenergy', 'qHFtime', 'qHFieta', 'qHFiphi', 'qPreShEn', 'qPreShEta', 'qPreShPhi', 'qPreShYEn', 'qPreShYEta', 'qPreShYPhi']\n",
    "\n",
    "# print(len(var_names_reduced5)*7)\n",
    "\n",
    "\n",
    "# teeeest = [('qPFJetPt', 'O'), ('qPFJetEta', 'O'), ('qPFJetPhi', 'O'), ('qPFJet0Pt', 'O'), ('qPFJet1Pt', 'O'), ('qPFJet2Pt', 'O'), ('qPFJet3Pt', 'O'), ('qPFJet4Pt', 'O'), ('qPFJet5Pt', 'O'), ('qPFJet0Eta', 'O'), ('qPFJet1Eta', 'O'), ('qPFJet2Eta', 'O'), ('qPFJet3Eta', 'O'), ('qPFJet4Eta', 'O'), ('qPFJet5Eta', 'O'), ('qPFJet0Phi', 'O'), ('qPFJet1Phi', 'O'), ('qPFJet2Phi', 'O'), ('qPFJet3Phi', 'O'), ('qPFJet4Phi', 'O'), ('qPFJet5Phi', 'O'), ('qPFJet4CHS0Pt', 'O'), ('qPFJet4CHS1Pt', 'O'), ('qPFJet4CHS2Pt', 'O'), ('qPFJet4CHS3Pt', 'O'), ('qPFJet4CHS4Pt', 'O'), ('qPFJet4CHS5Pt', 'O'), ('qPFJet4CHS0Eta', 'O'), ('qPFJet4CHS1Eta', 'O'), ('qPFJet4CHS2Eta', 'O'), ('qPFJet4CHS3Eta', 'O'), ('qPFJet4CHS4Eta', 'O'), ('qPFJet4CHS5Eta', 'O'), ('qPFJet4CHS0Phi', 'O'), ('qPFJet4CHS1Phi', 'O'), ('qPFJet4CHS2Phi', 'O'), ('qPFJet4CHS3Phi', 'O'), ('qPFJet4CHS4Phi', 'O'), ('qPFJet4CHS5Phi', 'O'), ('qPFJet8CHS0Pt', 'O'), ('qPFJet8CHS1Pt', 'O'), ('qPFJet8CHS2Pt', 'O'), ('qPFJet8CHS3Pt', 'O'), ('qPFJet8CHS4Pt', 'O'), ('qPFJet8CHS5Pt', 'O'), ('qPFJet8CHS0Eta', 'O'), ('qPFJet8CHS1Eta', 'O'), ('qPFJet8CHS2Eta', 'O'), ('qPFJet8CHS3Eta', 'O'), ('qPFJet8CHS4Eta', 'O'), ('qPFJet8CHS5Eta', 'O'), ('qPFJet8CHS0Phi', 'O'), ('qPFJet8CHS1Phi', 'O'), ('qPFJet8CHS2Phi', 'O'), ('qPFJet8CHS3Phi', 'O'), ('qPFJet8CHS4Phi', 'O'), ('qPFJet8CHS5Phi', 'O'), ('qPFJetEI0Pt', 'O'), ('qPFJetEI1Pt', 'O'), ('qPFJetEI2Pt', 'O'), ('qPFJetEI3Pt', 'O'), ('qPFJetEI4Pt', 'O'), ('qPFJetEI5Pt', 'O'), ('qPFJetEI0Eta', 'O'), ('qPFJetEI1Eta', 'O'), ('qPFJetEI2Eta', 'O'), ('qPFJetEI3Eta', 'O'), ('qPFJetEI4Eta', 'O'), ('qPFJetEI5Eta', 'O'), ('qPFJetEI0Phi', 'O'), ('qPFJetEI1Phi', 'O'), ('qPFJetEI2Phi', 'O'), ('qPFJetEI3Phi', 'O'), ('qPFJetEI4Phi', 'O'), ('qPFJetEI5Phi', 'O'), ('qPFJet8CHSSD0Pt', 'O'), ('qPFJet8CHSSD1Pt', 'O'), ('qPFJet8CHSSD2Pt', 'O'), ('qPFJet8CHSSD3Pt', 'O'), ('qPFJet8CHSSD4Pt', 'O'), ('qPFJet8CHSSD5Pt', 'O'), ('qPFJet8CHSSD0Eta', 'O'), ('qPFJet8CHSSD1Eta', 'O'), ('qPFJet8CHSSD2Eta', 'O'), ('qPFJet8CHSSD3Eta', 'O'), ('qPFJet8CHSSD4Eta', 'O'), ('qPFJet8CHSSD5Eta', 'O'), ('qPFJet8CHSSD0Phi', 'O'), ('qPFJet8CHSSD1Phi', 'O'), ('qPFJet8CHSSD2Phi', 'O'), ('qPFJet8CHSSD3Phi', 'O'), ('qPFJet8CHSSD4Phi', 'O'), ('qPFJet8CHSSD5Phi', 'O'), ('qPFJetTopCHS0Pt', 'O'), ('qPFJetTopCHS1Pt', 'O'), ('qPFJetTopCHS2Pt', 'O'), ('qPFJetTopCHS3Pt', 'O'), ('qPFJetTopCHS4Pt', 'O'), ('qPFJetTopCHS5Pt', 'O'), ('qPFJetTopCHS0Eta', 'O'), ('qPFJetTopCHS1Eta', 'O'), ('qPFJetTopCHS2Eta', 'O'), ('qPFJetTopCHS3Eta', 'O'), ('qPFJetTopCHS4Eta', 'O'), ('qPFJetTopCHS5Eta', 'O'), ('qPFJetTopCHS0Phi', 'O'), ('qPFJetTopCHS1Phi', 'O'), ('qPFJetTopCHS2Phi', 'O'), ('qPFJetTopCHS3Phi', 'O'), ('qPFJetTopCHS4Phi', 'O'), ('qPFJetTopCHS5Phi', 'O'), ('qCalJet0Pt', 'O'), ('qCalJet1Pt', 'O'), ('qCalJet2Pt', 'O'), ('qCalJet3Pt', 'O'), ('qCalJet4Pt', 'O'), ('qCalJet5Pt', 'O'), ('qCalJet0Eta', 'O'), ('qCalJet1Eta', 'O'), ('qCalJet2Eta', 'O'), ('qCalJet3Eta', 'O'), ('qCalJet4Eta', 'O'), ('qCalJet5Eta', 'O'), ('qCalJet0Phi', 'O'), ('qCalJet1Phi', 'O'), ('qCalJet2Phi', 'O'), ('qCalJet3Phi', 'O'), ('qCalJet4Phi', 'O'), ('qCalJet5Phi', 'O'), ('qCalJet0En', 'O'), ('qCalJet1En', 'O'), ('qCalJet2En', 'O'), ('qCalJet3En', 'O'), ('qCalJet4En', 'O'), ('qCalJet5En', 'O'), ('qPho0Pt', 'O'), ('qPho1Pt', 'O'), ('qPho2Pt', 'O'), ('qPho3Pt', 'O'), ('qPho4Pt', 'O'), ('qPho5Pt', 'O'), ('qPho0Eta', 'O'), ('qPho1Eta', 'O'), ('qPho2Eta', 'O'), ('qPho3Eta', 'O'), ('qPho4Eta', 'O'), ('qPho5Eta', 'O'), ('qPho0Phi', 'O'), ('qPho1Phi', 'O'), ('qPho2Phi', 'O'), ('qPho3Phi', 'O'), ('qPho4Phi', 'O'), ('qPho5Phi', 'O'), ('qPho0En', 'O'), ('qPho1En', 'O'), ('qPho2En', 'O'), ('qPho3En', 'O'), ('qPho4En', 'O'), ('qPho5En', 'O'), ('qgedPho0Pt', 'O'), ('qgedPho1Pt', 'O'), ('qgedPho2Pt', 'O'), ('qgedPho3Pt', 'O'), ('qgedPho4Pt', 'O'), ('qgedPho5Pt', 'O'), ('qgedPho0Eta', 'O'), ('qgedPho1Eta', 'O'), ('qgedPho2Eta', 'O'), ('qgedPho3Eta', 'O'), ('qgedPho4Eta', 'O'), ('qgedPho5Eta', 'O'), ('qgedPho0Phi', 'O'), ('qgedPho1Phi', 'O'), ('qgedPho2Phi', 'O'), ('qgedPho3Phi', 'O'), ('qgedPho4Phi', 'O'), ('qgedPho5Phi', 'O'), ('qgedPho0En', 'O'), ('qgedPho1En', 'O'), ('qgedPho2En', 'O'), ('qgedPho3En', 'O'), ('qgedPho4En', 'O'), ('qgedPho5En', 'O'), ('qMu0Pt', 'O'), ('qMu1Pt', 'O'), ('qMu2Pt', 'O'), ('qMu3Pt', 'O'), ('qMu4Pt', 'O'), ('qMu5Pt', 'O'), ('qMu0Eta', 'O'), ('qMu1Eta', 'O'), ('qMu2Eta', 'O'), ('qMu3Eta', 'O'), ('qMu4Eta', 'O'), ('qMu5Eta', 'O'), ('qMu0Phi', 'O'), ('qMu1Phi', 'O'), ('qMu2Phi', 'O'), ('qMu3Phi', 'O'), ('qMu4Phi', 'O'), ('qMu5Phi', 'O'), ('qMu0En', 'O'), ('qMu1En', 'O'), ('qMu2En', 'O'), ('qMu3En', 'O'), ('qMu4En', 'O'), ('qMu5En', 'O'), ('qMuCosm0Pt', 'O'), ('qMuCosm1Pt', 'O'), ('qMuCosm2Pt', 'O'), ('qMuCosm3Pt', 'O'), ('qMuCosm4Pt', 'O'), ('qMuCosm5Pt', 'O'), ('qMuCosm0Eta', 'O'), ('qMuCosm1Eta', 'O'), ('qMuCosm2Eta', 'O'), ('qMuCosm3Eta', 'O'), ('qMuCosm4Eta', 'O'), ('qMuCosm5Eta', 'O'), ('qMuCosm0Phi', 'O'), ('qMuCosm1Phi', 'O'), ('qMuCosm2Phi', 'O'), ('qMuCosm3Phi', 'O'), ('qMuCosm4Phi', 'O'), ('qMuCosm5Phi', 'O'), ('qMuCosm0En', 'O'), ('qMuCosm1En', 'O'), ('qMuCosm2En', 'O'), ('qMuCosm3En', 'O'), ('qMuCosm4En', 'O'), ('qMuCosm5En', 'O'), ('qMuCosmLeg0Pt', 'O'), ('qMuCosmLeg1Pt', 'O'), ('qMuCosmLeg2Pt', 'O'), ('qMuCosmLeg3Pt', 'O'), ('qMuCosmLeg4Pt', 'O'), ('qMuCosmLeg5Pt', 'O'), ('qMuCosmLeg0Eta', 'O'), ('qMuCosmLeg1Eta', 'O'), ('qMuCosmLeg2Eta', 'O'), ('qMuCosmLeg3Eta', 'O'), ('qMuCosmLeg4Eta', 'O'), ('qMuCosmLeg5Eta', 'O'), ('qMuCosmLeg0Phi', 'O'), ('qMuCosmLeg1Phi', 'O'), ('qMuCosmLeg2Phi', 'O'), ('qMuCosmLeg3Phi', 'O'), ('qMuCosmLeg4Phi', 'O'), ('qMuCosmLeg5Phi', 'O'), ('qMuCosmLeg0En', 'O'), ('qMuCosmLeg1En', 'O'), ('qMuCosmLeg2En', 'O'), ('qMuCosmLeg3En', 'O'), ('qMuCosmLeg4En', 'O'), ('qMuCosmLeg5En', 'O'), ('qPFJet4CHSPt', 'O'), ('qPFJet4CHSEta', 'O'), ('qPFJet4CHSPhi', 'O'), ('qPFJet8CHSPt', 'O'), ('qPFJet8CHSEta', 'O'), ('qPFJet8CHSPhi', 'O'), ('qPFJetEIPt', 'O'), ('qPFJetEIEta', 'O'), ('qPFJetEIPhi', 'O'), ('qPFJet8CHSSDPt', 'O'), ('qPFJet8CHSSDEta', 'O'), ('qPFJet8CHSSDPhi', 'O'), ('qPFJetTopCHSPt', 'O'), ('qPFJetTopCHSEta', 'O'), ('qPFJetTopCHSPhi', 'O'), ('qPFChMetPt', 'O'), ('qPFChMetPhi', 'O'), ('qPFMetPt', 'O'), ('qPFMetPhi', 'O'), ('qNVtx', 'O'), ('qCalJetPt', 'O'), ('qCalJetEta', 'O'), ('qCalJetPhi', 'O'), ('qCalJetEn', 'O'), ('qCalMETPt', 'O'), ('qCalMETPhi', 'O'), ('qCalMETEn', 'O'), ('qCalMETBEPt', 'O'), ('qCalMETBEPhi', 'O'), ('qCalMETBEEn', 'O'), ('qCalMETBEFOPt', 'O'), ('qCalMETBEFOPhi', 'O'), ('qCalMETBEFOEn', 'O'), ('qCalMETMPt', 'O'), ('qCalMETMPhi', 'O'), ('qCalMETMEn', 'O'), ('qSCEn', 'O'), ('qSCEta', 'O'), ('qSCPhi', 'O'), ('qSCEtaWidth', 'O'), ('qSCPhiWidth', 'O'), ('qSCEnhfEM', 'O'), ('qSCEtahfEM', 'O'), ('qSCPhihfEM', 'O'), ('qSCEn5x5', 'O'), ('qSCEta5x5', 'O'), ('qSCPhi5x5', 'O'), ('qSCEtaWidth5x5', 'O'), ('qSCPhiWidth5x5', 'O'), ('qCCEn', 'O'), ('qCCEta', 'O'), ('qCCPhi', 'O'), ('qCCEn5x5', 'O'), ('qCCEta5x5', 'O'), ('qCCPhi5x5', 'O'), ('qPhoPt', 'O'), ('qPhoEta', 'O'), ('qPhoPhi', 'O'), ('qPhoEn_', 'O'), ('qPhoe1x5_', 'O'), ('qPhoe2x5_', 'O'), ('qPhoe3x3_', 'O'), ('qPhoe5x5_', 'O'), ('qPhomaxenxtal_', 'O'), ('qPhosigmaeta_', 'O'), ('qPhosigmaIeta_', 'O'), ('qPhor1x5_', 'O'), ('qPhor2x5_', 'O'), ('qPhor9_', 'O'), ('qgedPhoPt', 'O'), ('qgedPhoEta', 'O'), ('qgedPhoPhi', 'O'), ('qgedPhoEn_', 'O'), ('qgedPhoe1x5_', 'O'), ('qgedPhoe2x5_', 'O'), ('qgedPhoe3x3_', 'O'), ('qgedPhoe5x5_', 'O'), ('qgedPhomaxenxtal_', 'O'), ('qgedPhosigmaeta_', 'O'), ('qgedPhosigmaIeta_', 'O'), ('qgedPhor1x5_', 'O'), ('qgedPhor2x5_', 'O'), ('qgedPhor9_', 'O'), ('qMuPt', 'O'), ('qMuEta', 'O'), ('qMuPhi', 'O'), ('qMuEn_', 'O'), ('qMuCh_', 'O'), ('qMuChi2_', 'O'), ('qMuCosmPt', 'O'), ('qMuCosmEta', 'O'), ('qMuCosmPhi', 'O'), ('qMuCosmEn_', 'O'), ('qMuCosmCh_', 'O'), ('qMuCosmChi2_', 'O'), ('qMuCosmLegPt', 'O'), ('qMuCosmLegEta', 'O'), ('qMuCosmLegPhi', 'O'), ('qMuCosmLegEn_', 'O'), ('qMuCosmLegCh_', 'O'), ('qMuCosmLegChi2_', 'O'), ('qSigmaIEta', 'O'), ('qSigmaIPhi', 'O'), ('qr9', 'O'), ('qHadOEm', 'O'), ('qdrSumPt', 'O'), ('qdrSumEt', 'O'), ('qeSCOP', 'O'), ('qecEn', 'O'), ('qUNSigmaIEta', 'O'), ('qUNSigmaIPhi', 'O'), ('qUNr9', 'O'), ('qUNHadOEm', 'O'), ('qUNdrSumPt', 'O'), ('qUNdrSumEt', 'O'), ('qUNeSCOP', 'O'), ('qUNecEn', 'O'), ('qEBenergy', 'O'), ('qEBtime', 'O'), ('qEBchi2', 'O'), ('qEBiEta', 'O'), ('qEBiPhi', 'O'), ('qEEenergy', 'O'), ('qEEtime', 'O'), ('qEEchi2', 'O'), ('qEEix', 'O'), ('qEEiy', 'O'), ('qESenergy', 'O'), ('qEStime', 'O'), ('qESix', 'O'), ('qESiy', 'O'), ('qHBHEenergy', 'O'), ('qHBHEtime', 'O'), ('qHBHEauxe', 'O'), ('qHBHEieta', 'O'), ('qHBHEiphi', 'O'), ('qHFenergy', 'O'), ('qHFtime', 'O'), ('qHFieta', 'O'), ('qHFiphi', 'O'), ('qPreShEn', 'O'), ('qPreShEta', 'O'), ('qPreShPhi', 'O'), ('qPreShYEn', 'O'), ('qPreShYEta', 'O'), ('qPreShYPhi', 'O')]\n",
    "# print(len(teeeest))\n",
    "\n",
    "#88656  is Actually good lumis with reconstruction error higher than 70, MUONS problem\n",
    "#99594  is Actually good lumis with reconstruction error higher than 70, PHOTONS problem\n",
    "#97348  is Actually good lumis with reconstruction error 48, MUONS problem\n",
    "\n",
    "#89180  is Actually anomalous lumis with reconstruction error higher than 70, LOTS of problems\n",
    "#89283  is Actually anomalous lumis with reconstruction error higher than 70, LOTS of problems\n",
    "\n",
    "#83163 is Actually good lumi with reconstruction error lower than 0.3\n",
    "\n",
    "#89248 is Actually anomalous lumi classified as good with rec. error ~1.5\n",
    "#89252 is Actually anomalous lumi classified as good with rec. error ~ 25  --\n",
    "#89254  # -- THIS IS INTERESTING = only big problem in PFJets but because other objects are fine, it doesn't say\n",
    "        # that it is anomalous -- objects represented by more variables have more decision power\n",
    "        # SOLUTION? claim lumisection anomalous when already some variables of some object go over some treshold\n",
    "        # and not just an average.\n",
    "        # SOLUTION_2 - some sort of weighted average or something cleverer\n",
    "#89255 similar story, also mostly pf_jet and little bit EBS too"
   ]
  },
  {
   "cell_type": "markdown",
   "metadata": {},
   "source": []
  },
  {
   "cell_type": "code",
   "execution_count": null,
   "metadata": {
    "collapsed": false
   },
   "outputs": [],
   "source": [
    "y_pred = [1 if e > threshold else 0 for e in error_df.reconstruction_error.values]\n",
    "conf_matrix = confusion_matrix(error_df.true_class, y_pred)\n",
    "\n",
    "plt.figure(figsize=(12, 12))\n",
    "sns.heatmap(conf_matrix, xticklabels=LABELS, yticklabels=LABELS, annot=True, fmt=\"d\");\n",
    "plt.title(\"Confusion matrix\")\n",
    "plt.ylabel('True class')\n",
    "plt.xlabel('Predicted class')\n",
    "plt.show()\n",
    "# plt.savefig(\"jetC_MinMaxScaler_e350_bs1000_ed14_CONFMAX.pdf\")"
   ]
  },
  {
   "cell_type": "markdown",
   "metadata": {},
   "source": []
  },
  {
   "cell_type": "code",
   "execution_count": null,
   "metadata": {
    "collapsed": true
   },
   "outputs": [],
   "source": []
  },
  {
   "cell_type": "code",
   "execution_count": null,
   "metadata": {
    "collapsed": true
   },
   "outputs": [],
   "source": []
  },
  {
   "cell_type": "code",
   "execution_count": null,
   "metadata": {
    "collapsed": true
   },
   "outputs": [],
   "source": []
  },
  {
   "cell_type": "code",
   "execution_count": null,
   "metadata": {
    "collapsed": true
   },
   "outputs": [],
   "source": []
  },
  {
   "cell_type": "code",
   "execution_count": null,
   "metadata": {
    "collapsed": true
   },
   "outputs": [],
   "source": []
  }
 ],
 "metadata": {
  "kernelspec": {
   "display_name": "Python 3",
   "language": "python",
   "name": "python3"
  },
  "language_info": {
   "codemirror_mode": {
    "name": "ipython",
    "version": 3
   },
   "file_extension": ".py",
   "mimetype": "text/x-python",
   "name": "python",
   "nbconvert_exporter": "python",
   "pygments_lexer": "ipython3",
   "version": "3.6.0"
  }
 },
 "nbformat": 4,
 "nbformat_minor": 2
}
