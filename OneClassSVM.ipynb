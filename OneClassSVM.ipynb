{
 "cells": [
  {
   "cell_type": "code",
   "execution_count": 1,
   "metadata": {
    "collapsed": true
   },
   "outputs": [],
   "source": [
    "# Imports"
   ]
  },
  {
   "cell_type": "code",
   "execution_count": 2,
   "metadata": {
    "collapsed": false
   },
   "outputs": [
    {
     "name": "stderr",
     "output_type": "stream",
     "text": [
      "/usr/anaconda3/lib/python3.6/site-packages/sklearn/cross_validation.py:44: DeprecationWarning: This module was deprecated in version 0.18 in favor of the model_selection module into which all the refactored classes and functions are moved. Also note that the interface of the new CV iterators are different from that of this module. This module will be removed in 0.20.\n",
      "  \"This module will be removed in 0.20.\", DeprecationWarning)\n",
      "/usr/anaconda3/lib/python3.6/site-packages/sklearn/learning_curve.py:23: DeprecationWarning: This module was deprecated in version 0.18 in favor of the model_selection module into which all the functions are moved. This module will be removed in 0.20\n",
      "  DeprecationWarning)\n"
     ]
    },
    {
     "name": "stdout",
     "output_type": "stream",
     "text": [
      "CPU times: user 885 ms, sys: 148 ms, total: 1.03 s\n",
      "Wall time: 1.37 s\n"
     ]
    },
    {
     "name": "stderr",
     "output_type": "stream",
     "text": [
      "/usr/anaconda3/lib/python3.6/site-packages/matplotlib/__init__.py:1401: UserWarning:  This call to matplotlib.use() has no effect\n",
      "because the backend has already been chosen;\n",
      "matplotlib.use() must be called *before* pylab, matplotlib.pyplot,\n",
      "or matplotlib.backends is imported for the first time.\n",
      "\n",
      "  warnings.warn(_use_error_msg)\n"
     ]
    }
   ],
   "source": [
    "%%time\n",
    "#Imports requisite packages\n",
    "import os\n",
    "import time\n",
    "import numpy\n",
    "import pickle\n",
    "import cProfile\n",
    "import itertools\n",
    "import matplotlib\n",
    "import sklearn.tree\n",
    "import sklearn.metrics\n",
    "import sklearn.ensemble\n",
    "import sklearn.preprocessing\n",
    "import sklearn.learning_curve\n",
    "import sklearn.model_selection\n",
    "import sklearn.cross_validation\n",
    "import sklearn.feature_selection\n",
    "import sklearn.kernel_approximation\n",
    "from matplotlib import pyplot as plt\n",
    "from sklearn.cross_validation import *\n",
    "from sklearn.metrics import *\n",
    "from sklearn.feature_selection import *\n",
    "from sklearn.preprocessing import *\n",
    "from sklearn.svm import *\n",
    "from sklearn.model_selection import *\n",
    "\n",
    "\n",
    "#%jsroot on9\n",
    "%matplotlib inline\n",
    "matplotlib.use('Agg')"
   ]
  },
  {
   "cell_type": "markdown",
   "metadata": {},
   "source": [
    "# Function Definitions"
   ]
  },
  {
   "cell_type": "code",
   "execution_count": 3,
   "metadata": {
    "collapsed": false
   },
   "outputs": [
    {
     "name": "stdout",
     "output_type": "stream",
     "text": [
      "CPU times: user 9 µs, sys: 0 ns, total: 9 µs\n",
      "Wall time: 6.2 µs\n"
     ]
    }
   ],
   "source": [
    "%%time\n",
    "#Takes the converted tree and turns it into an\n",
    "#n-by-30 array usable by sklearn.\n",
    "def outputs(array):\n",
    "    #Only uses events with non-zero luminosity\n",
    "    goodEvents = array[array['lumi'] != 0]\n",
    "    ind = numpy.lexsort((goodEvents['lumiId'],goodEvents['runId']))\n",
    "    events = goodEvents[ind]\n",
    "    dataset = numpy.empty([len(goodEvents),30])\n",
    "    target = numpy.empty([len(goodEvents)])\n",
    "    badOnes = numpy.array([])\n",
    "\n",
    "    #Fills dataset array with proper features\n",
    "    for j, event in enumerate(events):\n",
    "        try:\n",
    "            dataset[j,0:7] = event['qPFJetPt']\n",
    "            dataset[j,7:14] = event['qPFJetEta']\n",
    "            dataset[j,14:21] = event['qPFJetPhi']\n",
    "            dataset[j,21:28] = event['qNVtx']\n",
    "            dataset[j,28] = event['crossSection']\n",
    "            dataset[j,29] = event['lumi']\n",
    "            target[j] = event['isSig']\n",
    "        except ValueError:\n",
    "            badOnes = numpy.append(badOnes,j)\n",
    "            \n",
    "    #Takes out corrupt events\n",
    "    mask = numpy.zeros(len(dataset), dtype=bool)\n",
    "    mask[badOnes.astype(int)] = True\n",
    "    mask = ~mask\n",
    "    dataset = dataset[mask]\n",
    "    target = target[mask]\n",
    "       \n",
    "    return dataset, target"
   ]
  },
  {
   "cell_type": "code",
   "execution_count": 4,
   "metadata": {
    "collapsed": true
   },
   "outputs": [],
   "source": [
    "#Function that plots confusion matrix, taken from sklearn website\n",
    "def plot_confusion_matrix(cm, classes,\n",
    "                          normalize=False,\n",
    "                          title='Confusion matrix',\n",
    "                          cmap=plt.cm.Blues):\n",
    "\n",
    "    #This function prints and plots the confusion matrix.\n",
    "    #Normalization can be applied by setting `normalize=True`.     \n",
    "    if normalize:\n",
    "        cm = cm.astype('float') / cm.sum(axis=1)[:, numpy.newaxis]\n",
    "        plt.imshow(cm, interpolation='nearest', cmap=cmap)\n",
    "        plt.title(title)\n",
    "        plt.colorbar()\n",
    "        tick_marks = numpy.arange(len(classes))\n",
    "        plt.xticks(tick_marks, classes, rotation=45)\n",
    "        plt.yticks(tick_marks, classes)\n",
    "        print(\"Normalized confusion matrix\")\n",
    "    else:\n",
    "        plt.imshow(cm, interpolation='nearest', cmap=cmap)\n",
    "        plt.title(title)\n",
    "        plt.colorbar()\n",
    "        tick_marks = numpy.arange(len(classes))\n",
    "        plt.xticks(tick_marks, classes, rotation=45)\n",
    "        plt.yticks(tick_marks, classes)\n",
    "        print('Confusion matrix, without normalization')\n",
    "\n",
    "    print(cm)\n",
    "    \n",
    "    thresh = cm.max()*.7\n",
    "    for i, j in itertools.product(range(cm.shape[0]), range(cm.shape[1])):\n",
    "        plt.text(j, i, cm[i, j],\n",
    "                 horizontalalignment=\"center\",\n",
    "                 color=\"white\" if cm[i, j] > thresh else \"black\")\n",
    "\n",
    "    plt.tight_layout()\n",
    "    plt.ylabel('True label')\n",
    "    plt.xlabel('Predicted label')"
   ]
  },
  {
   "cell_type": "markdown",
   "metadata": {},
   "source": [
    "# Data Prep"
   ]
  },
  {
   "cell_type": "code",
   "execution_count": 5,
   "metadata": {
    "collapsed": false
   },
   "outputs": [],
   "source": [
    "#Loads pickled dataset\n",
    "inFile = open('realData.pkl', 'rb')\n",
    "dataset = pickle.load(inFile, encoding=\"latin1\")\n",
    "target = pickle.load(inFile, encoding=\"latin1\")\n",
    "inFile.close()"
   ]
  },
  {
   "cell_type": "code",
   "execution_count": 6,
   "metadata": {
    "collapsed": false
   },
   "outputs": [],
   "source": [
    "lumi = dataset[:,-1]\n",
    "dataset = dataset[:,:-1]\n",
    "sigInd = numpy.where(target==1)\n",
    "backInd = numpy.where(target==0)\n",
    "sigVals = dataset[sigInd]\n",
    "backVals = dataset[backInd]\n",
    "sigTarget = target[sigInd]\n",
    "backTarget = target[backInd]\n",
    "\n",
    "sigTrain, sigTest, sigTrainTarget, sigTestTarget = train_test_split(sigVals, sigTarget, test_size=.2)\n"
   ]
  },
  {
   "cell_type": "code",
   "execution_count": 7,
   "metadata": {
    "collapsed": true
   },
   "outputs": [],
   "source": [
    "# #Imports training and testing sets used across models\n",
    "# inFile = open('splits.pkl', 'rb')\n",
    "# xTrain = pickle.load(inFile, encoding=\"latin1\")\n",
    "# xTest = pickle.load(inFile, encoding=\"latin1\")\n",
    "# yTrain = pickle.load(inFile, encoding=\"latin1\")\n",
    "# yTest = pickle.load(inFile, encoding=\"latin1\")\n",
    "# lumiTrain = pickle.load(inFile, encoding=\"latin1\")\n",
    "# lumiTest = pickle.load(inFile, encoding=\"latin1\")\n",
    "# inFile.close()"
   ]
  },
  {
   "cell_type": "code",
   "execution_count": 8,
   "metadata": {
    "collapsed": false
   },
   "outputs": [],
   "source": [
    "#Removes features with variance less than 0.1\n",
    "# sel = VarianceThreshold(threshold = 0.01)\n",
    "# print(sigTrain.shape)\n",
    "# sel.fit(sigTrain)\n",
    "# indices = sel.get_support()\n",
    "# sigTrain = sigTrain[:,indices]\n",
    "# print(sigTrain.shape)\n",
    "# sigTest = sigTest[:,indices]\n",
    "# print(indices)\n",
    "# backVals = backVals[:,indices]"
   ]
  },
  {
   "cell_type": "code",
   "execution_count": 9,
   "metadata": {
    "collapsed": false
   },
   "outputs": [
    {
     "name": "stdout",
     "output_type": "stream",
     "text": [
      "[[-0.2624805  -0.00836714 -0.02903535 ...,  1.26030093  1.23090154\n",
      "  -0.4323365 ]\n",
      " [ 0.86598709 -0.20846535 -0.0769658  ..., -1.61694802 -1.19356479\n",
      "   0.4699908 ]\n",
      " [-1.68651531 -0.21990819 -0.08957908 ...,  1.67133649  1.74518228\n",
      "  -0.37580992]\n",
      " ..., \n",
      " [ 0.49753054  0.00476078  0.04714885 ..., -0.7948769  -0.89969009\n",
      "  -0.03797998]\n",
      " [ 0.40510299  0.04024267  0.09205211 ..., -0.7948769  -0.89969009\n",
      "  -0.01007285]\n",
      " [ 0.40016589 -0.0322895  -0.02373777 ..., -0.7948769  -0.75275273\n",
      "  -0.08765461]]\n",
      "[ 1.  1.  1. ..., -1. -1. -1.]\n"
     ]
    }
   ],
   "source": [
    "#Scales the data to zero mean and unit variance\n",
    "scaler = StandardScaler()\n",
    "scaler.fit(sigTrain)\n",
    "sigTrain = scaler.transform(sigTrain)\n",
    "sigTest = scaler.transform(sigTest)\n",
    "backVals = scaler.transform(backVals)\n",
    "backTarget[backTarget == 0] = -1\n",
    "\n",
    "xTest=numpy.concatenate([sigTest, backVals])\n",
    "print(xTest)\n",
    "yTest=numpy.concatenate([sigTestTarget, backTarget])\n",
    "print(yTest)\n",
    "# sigTrainTarget[sigTrainTarget == 0] = -1\n",
    "# sigTestTarget[sigTestTarget == 0] = -1\n",
    "# print(len(sigTestTarget[sigTestTarget==-1]))\n",
    "# print(len(sigTrainTarget[sigTrainTarget==1]))"
   ]
  },
  {
   "cell_type": "code",
   "execution_count": 10,
   "metadata": {
    "collapsed": false,
    "scrolled": false
   },
   "outputs": [],
   "source": [
    "\n",
    "#Grid Search with cross validation\n",
    "\n",
    "# tunedParams = [{'nu': [0.1, 0.4, 0.7, 0.9], 'gamma': [\"auto\", 0.1, 0.005, 0.5]}]\n",
    "# scores = ['precision', 'recall']\n",
    "# for score in scores:\n",
    "#     print(\"# Tuning hyper-parameters for %s\" % score)\n",
    "#     print()\n",
    "    \n",
    "#     clf = GridSearchCV(OneClassSVM(shrinking = True), tunedParams, scoring='%s' % score, n_jobs=-1)\n",
    "#     clf.fit(sigTrain, sigTrainTarget)\n",
    "\n",
    "#     print(\"Best parameters set found on development set:\")\n",
    "#     print()\n",
    "#     print(clf.best_params_)\n",
    "#     print()\n",
    "#     print(\"Grid scores on development set:\")\n",
    "#     print()\n",
    "#     means = clf.cv_results_['mean_test_score']\n",
    "#     stds = clf.cv_results_['std_test_score']\n",
    "#     for mean, std, params in zip(means, stds, clf.cv_results_['params']):\n",
    "#         print(\"%0.3f (+/-%0.03f) for %r\"\n",
    "#               % (mean, std * 2, params))\n",
    "#     print()\n",
    "\n",
    "#     print(\"Detailed classification report:\")\n",
    "#     print()\n",
    "#     print(\"The model is trained on the full development set.\")\n",
    "#     print(\"The scores are computed on the full evaluation set.\")\n",
    "#     print()\n",
    "#     y_true, y_pred = yTest, clf.predict(xTest)\n",
    "#     print(classification_report(y_true, y_pred))\n",
    "#     print()"
   ]
  },
  {
   "cell_type": "code",
   "execution_count": 11,
   "metadata": {
    "collapsed": false,
    "scrolled": true
   },
   "outputs": [
    {
     "name": "stdout",
     "output_type": "stream",
     "text": [
      "[LibSVM]CPU times: user 20min 33s, sys: 1.24 s, total: 20min 34s\n",
      "Wall time: 20min 39s\n"
     ]
    }
   ],
   "source": [
    "%%time\n",
    "osvmClf = OneClassSVM(nu=0.05, kernel=\"rbf\", verbose=True)\n",
    "osvmClf.fit(sigTrain)\n"
   ]
  },
  {
   "cell_type": "code",
   "execution_count": 12,
   "metadata": {
    "collapsed": true
   },
   "outputs": [],
   "source": [
    "y_pred_train = osvmClf.predict(sigTrain)\n",
    "y_pred_test = osvmClf.predict(sigTest)\n",
    "y_pred_outliers = osvmClf.predict(backVals)\n",
    "n_error_train = y_pred_train[y_pred_train == -1].size\n",
    "n_error_test = y_pred_test[y_pred_test == -1].size\n",
    "n_error_outliers = y_pred_outliers[y_pred_outliers == 1].size"
   ]
  },
  {
   "cell_type": "code",
   "execution_count": 13,
   "metadata": {
    "collapsed": false
   },
   "outputs": [
    {
     "name": "stdout",
     "output_type": "stream",
     "text": [
      "Number of errors on training set:  8820  Percentage:  5.001360914534567\n",
      "Number of errors on test set:  2227  Percentage:  5.051146544489555\n",
      "Number of errors on outliers set:  3327  Percentage:  27.731932983245812\n"
     ]
    }
   ],
   "source": [
    "print(\"Number of errors on training set: \", n_error_train, \" Percentage: \", (n_error_train/len(sigTrain)*100))\n",
    "print(\"Number of errors on test set: \", n_error_test, \" Percentage: \", (n_error_test/len(sigTest)*100))\n",
    "print(\"Number of errors on outliers set: \", n_error_outliers, \" Percentage: \", (n_error_outliers/len(backVals)*100))"
   ]
  },
  {
   "cell_type": "code",
   "execution_count": 14,
   "metadata": {
    "collapsed": false
   },
   "outputs": [],
   "source": [
    "# %%time\n",
    "\n",
    "# #Provides classification reports \n",
    "# osvmScore = osvmClf.fit(sigTrain).decision_function(sigTest)\n",
    "    \n",
    "# osvmPredict = osvmClf.predict(sigTest)\n",
    "# print(\"Classification report for osvm, Tuned, Weights %s:\\n%s\\n\"\n",
    "#       % (osvmClf, sklearn.metrics.classification_report(sigTestTarget, osvmPredict)))"
   ]
  },
  {
   "cell_type": "code",
   "execution_count": 15,
   "metadata": {
    "collapsed": false
   },
   "outputs": [
    {
     "name": "stdout",
     "output_type": "stream",
     "text": [
      "176352\n",
      "44089\n",
      "11997\n"
     ]
    }
   ],
   "source": [
    "# %%time\n",
    "#Plots classification results for signal and background\n",
    "osvmArrs = []\n",
    "osvmHists = []\n",
    "\n",
    "#Separates decision function results into signal and background\n",
    "#along with training and testing\n",
    "osvmArrs.append(osvmClf.decision_function(sigTrain).ravel())\n",
    "osvmArrs.append(osvmClf.decision_function(sigTest).ravel())\n",
    "osvmArrs.append(osvmClf.decision_function(backVals).ravel())\n",
    "print(len(osvmArrs[0]))\n",
    "print(len(osvmArrs[1]))\n",
    "print(len(osvmArrs[2]))"
   ]
  },
  {
   "cell_type": "code",
   "execution_count": 16,
   "metadata": {
    "collapsed": false
   },
   "outputs": [],
   "source": [
    "#Turns those arrays into histograms\n",
    "osvmHists.append(list(numpy.histogram(osvmArrs[0], normed = True, bins = 40)))\n",
    "osvmHists.append(list(numpy.histogram(osvmArrs[1], normed = True, bins = 40)))\n",
    "osvmHists.append(list(numpy.histogram(osvmArrs[2], normed = True, bins = 40)))\n",
    "\n",
    "#Defines bin edges, centers, and widths\n",
    "osvmMax = max([max(hist[0]) for hist in osvmHists])*1.2\n",
    "osvmMin = max([min(hist[0]) for hist in osvmHists])\n",
    "osvmEdges1 = osvmHists[0][1]\n",
    "osvmCenters1 = (osvmEdges1[:-1] + osvmEdges1[1:])/2.\n",
    "osvmWidths1 = (osvmEdges1[1:] - osvmEdges1[:-1])\n",
    "osvmEdges2 = osvmHists[1][1]\n",
    "osvmCenters2 = (osvmEdges2[:-1] + osvmEdges2[1:])/2.\n",
    "osvmWidths2 = (osvmEdges2[1:] - osvmEdges2[:-1])\n",
    "osvmEdges3 = osvmHists[2][1]\n",
    "osvmCenters3 = (osvmEdges3[:-1] + osvmEdges3[1:])/2.\n",
    "osvmWidths3 = (osvmEdges3[1:] - osvmEdges3[:-1])"
   ]
  },
  {
   "cell_type": "code",
   "execution_count": 17,
   "metadata": {
    "collapsed": true
   },
   "outputs": [],
   "source": [
    "#Normalizes histogram based on maximum value\n",
    "osvmNormVal1 = max(max(osvmHists[0][0]), max(osvmHists[1][0]), max(osvmHists[2][0]))\n",
    "osvmHists[0][0] = [x/osvmNormVal1 for x in osvmHists[0][0]]\n",
    "osvmHists[1][0] = [x/osvmNormVal1 for x in osvmHists[1][0]]\n",
    "osvmHists[2][0] = [x/osvmNormVal1 for x in osvmHists[2][0]]"
   ]
  },
  {
   "cell_type": "code",
   "execution_count": 18,
   "metadata": {
    "collapsed": false
   },
   "outputs": [
    {
     "data": {
      "image/png": "[encoded data removed]",
      "text/plain": [
       "<matplotlib.figure.Figure at 0x7f73986a9cf8>"
      ]
     },
     "metadata": {},
     "output_type": "display_data"
    },
    {
     "name": "stdout",
     "output_type": "stream",
     "text": [
      "CPU times: user 901 ms, sys: 44.4 ms, total: 945 ms\n",
      "Wall time: 952 ms\n"
     ]
    }
   ],
   "source": [
    "%%time\n",
    "#Plots histograms\n",
    "ax1 = plt.subplot(111)\n",
    "ax1.bar(osvmCenters1-osvmWidths1/2.,osvmHists[0][0],facecolor='red',linewidth=0,width=osvmWidths1,label='SignalTrain',alpha=0.5)\n",
    "ax1.bar(osvmCenters2-osvmWidths2/2.,osvmHists[1][0],facecolor='yellow',linewidth=0,width=osvmWidths2,label='SignalTest',alpha=0.5)\n",
    "ax1.bar(osvmCenters3-osvmWidths3/2.,osvmHists[2][0],facecolor='blue',linewidth=0,width=osvmWidths3,label='Background',alpha=0.5)\n",
    "#Change depending on which classifier and options are chosen\n",
    "plt.title(\"Classification, osvm, Tuned, Weights, Rand, 15 feats, Training Set\")\n",
    "plt.xlabel(\"classifier score\")\n",
    "plt.ylabel(\"Counts/Bin\")\n",
    "legend = ax1.legend(loc='upper center', shadow=True,ncol=3)\n",
    "for alabel in legend.get_texts():\n",
    "            alabel.set_fontsize('small')\n",
    "plt.legend(loc='upper left')\n",
    "plt.show()\n",
    "\n",
    "# ax2 = plt.subplot(111)\n",
    "# ax2.bar(osvmCenters-osvmWidths/2.,osvmHists[2][0],facecolor='red',linewidth=0,width=osvmWidths,label='Signal',alpha=0.5)\n",
    "# ax2.bar(osvmCenters-osvmWidths/2.,osvmHists[3][0],facecolor='blue',linewidth=0,width=osvmWidths,label='Background',alpha=0.5)\n",
    "# plt.title(\"Classification, osvm, Tuned, Weights, Rand, 15 feats, Testing Set\")\n",
    "# plt.xlabel(\"classifier score\")\n",
    "# plt.ylabel(\"Counts/Bin\")\n",
    "# legend = ax1.legend(loc='upper center', shadow=True,ncol=2)\n",
    "# for alabel in legend.get_texts():\n",
    "#             alabel.set_fontsize('small')\n",
    "# plt.legend(loc='upper left')\n",
    "# plt.show()"
   ]
  },
  {
   "cell_type": "code",
   "execution_count": 19,
   "metadata": {
    "collapsed": false
   },
   "outputs": [],
   "source": [
    "\n",
    "# %%time\n",
    "#Plots classification results for signal and background\n",
    "trainArrs = []\n",
    "testArrs = []\n",
    "backArrs = []\n",
    "trainHists = []\n",
    "testHists = []\n",
    "backHists = []\n",
    "\n",
    "#Separates decision function results into signal and background\n",
    "#along with training and testing\n",
    "trainArrs.append(osvmClf.decision_function(sigTrain[y_pred_train == 1]).ravel())\n",
    "trainArrs.append(osvmClf.decision_function(sigTrain[y_pred_train == -1]).ravel())\n",
    "testArrs.append(osvmClf.decision_function(sigTest[y_pred_test == 1]).ravel())\n",
    "testArrs.append(osvmClf.decision_function(sigTest[y_pred_test == -1]).ravel())\n",
    "backArrs.append(osvmClf.decision_function(backVals[y_pred_outliers == -1]).ravel())\n",
    "backArrs.append(osvmClf.decision_function(backVals[y_pred_outliers == 1]).ravel())\n",
    "\n",
    "#Turns those arrays into histograms\n",
    "trainHists.append(list(numpy.histogram(trainArrs[0], normed = True, bins = 40)))\n",
    "trainHists.append(list(numpy.histogram(trainArrs[1], normed = True, bins = 40)))\n",
    "testHists.append(list(numpy.histogram(testArrs[0], normed = True, bins = 40)))\n",
    "testHists.append(list(numpy.histogram(testArrs[1], normed = True, bins = 40)))\n",
    "backHists.append(list(numpy.histogram(backArrs[0], normed = True, bins = 40)))\n",
    "backHists.append(list(numpy.histogram(backArrs[1], normed = True, bins = 40)))\n",
    "\n",
    "#Defines bin edges, centers, and widths\n",
    "trainMax = max([hist[0].max() for hist in trainHists])*1.2\n",
    "trainMin = max([hist[0].min() for hist in trainHists])\n",
    "trainEdges = trainHists[0][1]\n",
    "trainCenters = (trainEdges[:-1] + trainEdges[1:])/2.\n",
    "trainWidths = (trainEdges[1:] - trainEdges[:-1])\n",
    "\n",
    "testMax = max([hist[0].max() for hist in testHists])*1.2\n",
    "testMin = max([hist[0].min() for hist in testHists])\n",
    "testEdges = testHists[0][1]\n",
    "testCenters = (testEdges[:-1] + testEdges[1:])/2.\n",
    "testWidths = (testEdges[1:] - testEdges[:-1])\n",
    "\n",
    "backMax = max([hist[0].max() for hist in backHists])*1.2\n",
    "backMin = max([hist[0].min() for hist in backHists])\n",
    "backEdges = backHists[0][1]\n",
    "backCenters = (backEdges[:-1] + backEdges[1:])/2.\n",
    "backWidths = (backEdges[1:] - backEdges[:-1])"
   ]
  },
  {
   "cell_type": "code",
   "execution_count": 20,
   "metadata": {
    "collapsed": false
   },
   "outputs": [
    {
     "data": {
      "text/plain": [
       "(array([  86.,  108.,   78.,  102.,  116.,  115.,  122.,  105.,  131.,\n",
       "         113.,   95.,  103.,   84.,  112.,   82.,  101.,  101.,  114.,\n",
       "          84.,  120.,  110.,  117.,  116.,   96.,   98.,  107.,  102.,\n",
       "          92.,   71.,   70.,   52.,   50.,   30.,   30.,   35.,   26.,\n",
       "          23.,   13.,   10.,    7.]),\n",
       " array([  4.15334954e-02,   1.00105355e+01,   1.99795375e+01,\n",
       "          2.99485395e+01,   3.99175416e+01,   4.98865436e+01,\n",
       "          5.98555456e+01,   6.98245476e+01,   7.97935496e+01,\n",
       "          8.97625516e+01,   9.97315537e+01,   1.09700556e+02,\n",
       "          1.19669558e+02,   1.29638560e+02,   1.39607562e+02,\n",
       "          1.49576564e+02,   1.59545566e+02,   1.69514568e+02,\n",
       "          1.79483570e+02,   1.89452572e+02,   1.99421574e+02,\n",
       "          2.09390576e+02,   2.19359578e+02,   2.29328580e+02,\n",
       "          2.39297582e+02,   2.49266584e+02,   2.59235586e+02,\n",
       "          2.69204588e+02,   2.79173590e+02,   2.89142592e+02,\n",
       "          2.99111594e+02,   3.09080596e+02,   3.19049598e+02,\n",
       "          3.29018600e+02,   3.38987602e+02,   3.48956604e+02,\n",
       "          3.58925606e+02,   3.68894608e+02,   3.78863610e+02,\n",
       "          3.88832612e+02,   3.98801614e+02]),\n",
       " <a list of 40 Patch objects>)"
      ]
     },
     "execution_count": 20,
     "metadata": {},
     "output_type": "execute_result"
    },
    {
     "data": {
      "image/png": "[encoded data removed]",
      "text/plain": [
       "<matplotlib.figure.Figure at 0x7f7364188630>"
      ]
     },
     "metadata": {},
     "output_type": "display_data"
    }
   ],
   "source": [
    "\n",
    "#Normalizes histogram based on maximum value\n",
    "trainNormVal1 = max(max(trainHists[0][0]), max(trainHists[1][0]))\n",
    "trainHists[0][0] = [x/trainNormVal1 for x in trainHists[0][0]]\n",
    "trainHists[1][0] = [x/trainNormVal1 for x in trainHists[1][0]]\n",
    "testNormVal1 = max(max(testHists[0][0]), max(testHists[1][0]))\n",
    "testHists[0][0] = [x/testNormVal1 for x in testHists[0][0]]\n",
    "testHists[1][0] = [x/testNormVal1 for x in testHists[1][0]]\n",
    "backNormVal1 = max(max(backHists[0][0]), max(backHists[1][0]))\n",
    "backHists[0][0] = [x/backNormVal1 for x in backHists[0][0]]\n",
    "backHists[1][0] = [x/backNormVal1 for x in backHists[1][0]]\n",
    "plt.hist(backArrs[1],40)"
   ]
  },
  {
   "cell_type": "code",
   "execution_count": 21,
   "metadata": {
    "collapsed": false
   },
   "outputs": [
    {
     "data": {
      "image/png": "[encoded data removed]",
      "text/plain": [
       "<matplotlib.figure.Figure at 0x7f7363d64b70>"
      ]
     },
     "metadata": {},
     "output_type": "display_data"
    },
    {
     "data": {
      "image/png": "[encoded data removed]",
      "text/plain": [
       "<matplotlib.figure.Figure at 0x7f7363d4ec50>"
      ]
     },
     "metadata": {},
     "output_type": "display_data"
    },
    {
     "data": {
      "image/png": "[encoded data removed]",
      "text/plain": [
       "<matplotlib.figure.Figure at 0x7f7363cb8cf8>"
      ]
     },
     "metadata": {},
     "output_type": "display_data"
    },
    {
     "name": "stdout",
     "output_type": "stream",
     "text": [
      "CPU times: user 1.43 s, sys: 93.9 ms, total: 1.53 s\n",
      "Wall time: 1.57 s\n"
     ]
    },
    {
     "data": {
      "text/plain": [
       "<matplotlib.figure.Figure at 0x7f7363ae0358>"
      ]
     },
     "metadata": {},
     "output_type": "display_data"
    }
   ],
   "source": [
    "\n",
    "%%time\n",
    "fig = plt.figure()\n",
    "#Plots histograms\n",
    "ax1 = plt.subplot(111)\n",
    "ax1.bar(trainCenters-trainWidths/2.,trainHists[0][0],facecolor='red',linewidth=0,width=trainWidths,label='Correct',alpha=0.5)\n",
    "ax1.bar(trainCenters-trainWidths/2.,trainHists[1][0],facecolor='blue',linewidth=0,width=trainWidths,label='Wrong',alpha=0.5)\n",
    "#Change depending on which classifier and options are chosen\n",
    "plt.title(\"OSVM Signal Train Classification Plot, nu = 0.1\")\n",
    "plt.xlabel(\"classifier score\")\n",
    "plt.ylabel(\"Counts/Bin\")\n",
    "legend = ax1.legend(loc='upper center', shadow=True,ncol=3)\n",
    "for alabel in legend.get_texts():\n",
    "            alabel.set_fontsize('small')\n",
    "plt.legend(loc='upper left')\n",
    "plt.show()\n",
    "\n",
    "ax2 = plt.subplot(111)\n",
    "ax2.bar(testCenters-testWidths/2.,testHists[0][0],facecolor='red',linewidth=0,width=testWidths,label='Correct',alpha=0.5)\n",
    "ax2.bar(testCenters-testWidths/2.,testHists[1][0],facecolor='blue',linewidth=0,width=testWidths,label='Wrong',alpha=0.5)\n",
    "#Change depending on which classifier and options are chosen\n",
    "plt.title(\"OSVM Signal Test Classification Plot, nu = 0.1\")\n",
    "plt.xlabel(\"classifier score\")\n",
    "plt.ylabel(\"Counts/Bin\")\n",
    "legend = ax2.legend(loc='upper center', shadow=True,ncol=3)\n",
    "for alabel in legend.get_texts():\n",
    "            alabel.set_fontsize('small')\n",
    "plt.legend(loc='upper left')\n",
    "plt.show()\n",
    "\n",
    "ax3 = plt.subplot(111)\n",
    "ax3.bar(backCenters-backWidths/2.,backHists[0][0],facecolor='red',linewidth=0,width=backWidths,label='Correct',alpha=0.5)\n",
    "ax3.bar(backCenters-backWidths/2.,backHists[1][0],facecolor='blue',linewidth=0,width=backWidths,label='Wrong',alpha=0.5)\n",
    "#Change depending on which classifier and options are chosen\n",
    "plt.title(\"OSVM Background Classification Plot, nu = 0.1\")\n",
    "plt.xlabel(\"classifier score\")\n",
    "plt.ylabel(\"Counts/Bin\")\n",
    "legend = ax3.legend(loc='upper center', shadow=True,ncol=3)\n",
    "for alabel in legend.get_texts():\n",
    "            alabel.set_fontsize('small')\n",
    "plt.legend(loc='upper left')\n",
    "plt.show()\n",
    "plt.savefig(\"nu_0.1_three.pdf\")\n"
   ]
  },
  {
   "cell_type": "code",
   "execution_count": null,
   "metadata": {
    "collapsed": true
   },
   "outputs": [],
   "source": []
  }
 ],
 "metadata": {
  "kernelspec": {
   "display_name": "Python 3",
   "language": "python",
   "name": "python3"
  },
  "language_info": {
   "codemirror_mode": {
    "name": "ipython",
    "version": 3
   },
   "file_extension": ".py",
   "mimetype": "text/x-python",
   "name": "python",
   "nbconvert_exporter": "python",
   "pygments_lexer": "ipython3",
   "version": "3.6.0"
  }
 },
 "nbformat": 4,
 "nbformat_minor": 0
}
