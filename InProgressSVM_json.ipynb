{
 "cells": [
  {
   "cell_type": "markdown",
   "metadata": {},
   "source": [
    "# Imports"
   ]
  },
  {
   "cell_type": "code",
   "execution_count": 17,
   "metadata": {
    "collapsed": false
   },
   "outputs": [
    {
     "name": "stdout",
     "output_type": "stream",
     "text": [
      "CPU times: user 2.52 ms, sys: 1.12 ms, total: 3.64 ms\n",
      "Wall time: 2.83 ms\n"
     ]
    },
    {
     "name": "stderr",
     "output_type": "stream",
     "text": [
      "/Users/fsiroky/anaconda3/lib/python3.6/site-packages/matplotlib/__init__.py:1401: UserWarning:  This call to matplotlib.use() has no effect\n",
      "because the backend has already been chosen;\n",
      "matplotlib.use() must be called *before* pylab, matplotlib.pyplot,\n",
      "or matplotlib.backends is imported for the first time.\n",
      "\n",
      "  warnings.warn(_use_error_msg)\n"
     ]
    }
   ],
   "source": [
    "%%time\n",
    "#Imports requisite packages\n",
    "import os\n",
    "import time\n",
    "import numpy\n",
    "import pickle\n",
    "import cProfile\n",
    "import itertools\n",
    "import matplotlib\n",
    "import sklearn.tree\n",
    "import sklearn.metrics\n",
    "import sklearn.ensemble\n",
    "import sklearn.preprocessing\n",
    "import sklearn.learning_curve\n",
    "import sklearn.model_selection\n",
    "import sklearn.cross_validation\n",
    "import sklearn.feature_selection\n",
    "import sklearn.kernel_approximation\n",
    "from matplotlib import pyplot as plt\n",
    "from sklearn.ensemble import IsolationForest\n",
    "from sklearn.cross_validation import *\n",
    "from sklearn.metrics import *\n",
    "from sklearn.feature_selection import *\n",
    "from sklearn.preprocessing import *\n",
    "from sklearn.svm import *\n",
    "\n",
    "\n",
    "#%jsroot on9\n",
    "%matplotlib inline\n",
    "matplotlib.use('Agg')"
   ]
  },
  {
   "cell_type": "markdown",
   "metadata": {},
   "source": [
    "# Function Definitions"
   ]
  },
  {
   "cell_type": "code",
   "execution_count": null,
   "metadata": {
    "collapsed": false
   },
   "outputs": [],
   "source": [
    "# print(array)"
   ]
  },
  {
   "cell_type": "code",
   "execution_count": 18,
   "metadata": {
    "collapsed": false
   },
   "outputs": [
    {
     "name": "stdout",
     "output_type": "stream",
     "text": [
      "CPU times: user 3 µs, sys: 1 µs, total: 4 µs\n",
      "Wall time: 6.91 µs\n"
     ]
    }
   ],
   "source": [
    "%%time\n",
    "#Takes the converted tree and turns it into an\n",
    "#n-by-30 array usable by sklearn.\n",
    "def outputs(array):\n",
    "    #Only uses events with non-zero luminosity\n",
    "    goodEvents = array[array['lumi'] != 0]\n",
    "    ind = numpy.lexsort((goodEvents['lumiId'],goodEvents['runId']))\n",
    "    events = goodEvents[ind]\n",
    "    dataset = numpy.empty([len(goodEvents),30])\n",
    "    target = numpy.empty([len(goodEvents)])\n",
    "    badOnes = numpy.array([])\n",
    "\n",
    "    #Fills dataset array with proper features\n",
    "    for j, event in enumerate(events):\n",
    "        try:\n",
    "            dataset[j,0:7] = event['qPFJetPt']\n",
    "            dataset[j,7:14] = event['qPFJetEta']\n",
    "            dataset[j,14:21] = event['qPFJetPhi']\n",
    "            dataset[j,21:28] = event['qNVtx']\n",
    "            dataset[j,28] = event['crossSection']\n",
    "            dataset[j,29] = event['lumi']\n",
    "            target[j] = event['isSig']\n",
    "        except ValueError:\n",
    "            badOnes = numpy.append(badOnes,j)\n",
    "            \n",
    "    #Takes out corrupt events\n",
    "    mask = numpy.zeros(len(dataset), dtype=bool)\n",
    "    mask[badOnes.astype(int)] = True\n",
    "    mask = ~mask\n",
    "    dataset = dataset[mask]\n",
    "    target = target[mask]\n",
    "       \n",
    "    return dataset, target"
   ]
  },
  {
   "cell_type": "code",
   "execution_count": 19,
   "metadata": {
    "collapsed": true
   },
   "outputs": [],
   "source": [
    "#Function that plots confusion matrix, taken from sklearn website\n",
    "def plot_confusion_matrix(cm, classes,\n",
    "                          normalize=False,\n",
    "                          title='Confusion matrix',\n",
    "                          cmap=plt.cm.Blues):\n",
    "\n",
    "    #This function prints and plots the confusion matrix.\n",
    "    #Normalization can be applied by setting `normalize=True`.     \n",
    "    if normalize:\n",
    "        cm = cm.astype('float') / cm.sum(axis=1)[:, numpy.newaxis]\n",
    "        plt.imshow(cm, interpolation='nearest', cmap=cmap)\n",
    "        plt.title(title)\n",
    "        plt.colorbar()\n",
    "        tick_marks = numpy.arange(len(classes))\n",
    "        plt.xticks(tick_marks, classes, rotation=45)\n",
    "        plt.yticks(tick_marks, classes)\n",
    "        print(\"Normalized confusion matrix\")\n",
    "    else:\n",
    "        plt.imshow(cm, interpolation='nearest', cmap=cmap)\n",
    "        plt.title(title)\n",
    "        plt.colorbar()\n",
    "        tick_marks = numpy.arange(len(classes))\n",
    "        plt.xticks(tick_marks, classes, rotation=45)\n",
    "        plt.yticks(tick_marks, classes)\n",
    "        print('Confusion matrix, without normalization')\n",
    "\n",
    "    print(cm)\n",
    "    \n",
    "    thresh = cm.max()*.7\n",
    "    for i, j in itertools.product(range(cm.shape[0]), range(cm.shape[1])):\n",
    "        plt.text(j, i, cm[i, j],\n",
    "                 horizontalalignment=\"center\",\n",
    "                 color=\"white\" if cm[i, j] > thresh else \"black\")\n",
    "\n",
    "    plt.tight_layout()\n",
    "    plt.ylabel('True label')\n",
    "    plt.xlabel('Predicted label')"
   ]
  },
  {
   "cell_type": "markdown",
   "metadata": {},
   "source": [
    "# Data Prep"
   ]
  },
  {
   "cell_type": "code",
   "execution_count": 20,
   "metadata": {
    "collapsed": true
   },
   "outputs": [],
   "source": [
    "#Loads pickled dataset\n",
    "inFile = open('dataWithMet.pkl', 'rb')\n",
    "dataset = pickle.load(inFile, encoding=\"latin1\")\n",
    "target = pickle.load(inFile, encoding=\"latin1\")\n",
    "inFile.close()\n",
    "\n",
    "inFile = open('jetMetTarget.pkl', 'rb')\n",
    "target = pickle.load(inFile, encoding=\"latin1\")\n",
    "inFile.close()"
   ]
  },
  {
   "cell_type": "code",
   "execution_count": 21,
   "metadata": {
    "collapsed": false
   },
   "outputs": [
    {
     "name": "stdout",
     "output_type": "stream",
     "text": [
      "[[  3.87361717e+01   4.99334755e+01   1.00006313e+01 ...,   2.10000000e+01\n",
      "    3.40000000e+01   3.62249969e+05]\n",
      " [  3.95219574e+01   5.13442535e+01   1.00004625e+01 ...,   2.10000000e+01\n",
      "    3.70000000e+01   3.51249969e+05]\n",
      " [  3.92135391e+01   5.05862350e+01   1.00001659e+01 ...,   2.10000000e+01\n",
      "    3.60000000e+01   3.41999969e+05]\n",
      " ..., \n",
      " [  6.44936066e+01   1.00514908e+02   1.00001659e+01 ...,   1.70000000e+01\n",
      "    3.20000000e+01   1.63971621e+04]\n",
      " [  6.47788010e+01   1.03021576e+02   1.00001974e+01 ...,   1.70000000e+01\n",
      "    2.90000000e+01   1.59858154e+04]\n",
      " [  6.56554260e+01   1.02939850e+02   1.00004864e+01 ...,   1.70000000e+01\n",
      "    2.90000000e+01   1.57304961e+04]]\n"
     ]
    }
   ],
   "source": [
    "print(dataset)"
   ]
  },
  {
   "cell_type": "code",
   "execution_count": 22,
   "metadata": {
    "collapsed": false
   },
   "outputs": [
    {
     "name": "stdout",
     "output_type": "stream",
     "text": [
      "232438\n",
      "232438\n"
     ]
    }
   ],
   "source": [
    "# count1 = 0\n",
    "# count2 = 0\n",
    "# for j in range(0,len(target)):\n",
    "#     if target[j] == False:\n",
    "#         count1 = count1 + 1\n",
    "#     if targetz[j] == False:\n",
    "#         count2=count2 +1\n",
    "# print(count1)\n",
    "# print(count2)\n",
    "# print(count2-count1)\n",
    "# lumi = dataset[:,-1]\n",
    "# dataset = dataset[:,:-1]\n",
    "print(len(target))\n",
    "print(len(dataset))\n",
    "sigInd = numpy.where(target==1)\n",
    "backInd = numpy.where(target==0)\n",
    "sigVals = dataset[sigInd]\n",
    "backVals = dataset[backInd]\n",
    "sigTarget = target[sigInd]\n",
    "backTarget = target[backInd]\n",
    "\n",
    "sigTrain, sigTest, sigTrainTarget, sigTestTarget = train_test_split(sigVals, sigTarget, test_size=.2, random_state=42)\n",
    "# lumiTrain = sigTrain[:,-1]\n",
    "# sigTrain = sigTrain[:,:-1]\n",
    "# sigTest = sigTest[:,:-1]"
   ]
  },
  {
   "cell_type": "code",
   "execution_count": 23,
   "metadata": {
    "collapsed": true
   },
   "outputs": [],
   "source": [
    "# #Imports training and testing sets used across models\n",
    "# inFile = open('splits.pkl', 'rb')\n",
    "# xTrain = pickle.load(inFile, encoding=\"latin1\")\n",
    "# xTest = pickle.load(inFile, encoding=\"latin1\")\n",
    "# yTrain = pickle.load(inFile, encoding=\"latin1\")\n",
    "# yTest = pickle.load(inFile, encoding=\"latin1\")\n",
    "# lumiTrain = pickle.load(inFile, encoding=\"latin1\")\n",
    "# lumiTest = pickle.load(inFile, encoding=\"latin1\")\n",
    "# inFile.close()"
   ]
  },
  {
   "cell_type": "code",
   "execution_count": 24,
   "metadata": {
    "collapsed": false
   },
   "outputs": [],
   "source": [
    "# # #Removes features with variance less than 0.1\n",
    "# sel = VarianceThreshold(threshold = 0.1)\n",
    "# print(sigTrain.shape)\n",
    "# sel.fit(sigTrain)\n",
    "# indices = sel.get_support()\n",
    "# sigTrain = sigTrain[:,indices]\n",
    "# print(sigTrain.shape)\n",
    "# sigTest = sigTest[:,indices]\n",
    "# print(indices)\n",
    "# backVals = backVals[:,indices]"
   ]
  },
  {
   "cell_type": "code",
   "execution_count": 25,
   "metadata": {
    "collapsed": false
   },
   "outputs": [],
   "source": [
    "# #Scales the data to zero mean and unit variance\n",
    "scaler = StandardScaler()\n",
    "scaler.fit(sigTrain)\n",
    "sigTrain = scaler.transform(sigTrain)\n",
    "sigTest = scaler.transform(sigTest)\n",
    "backVals = scaler.transform(backVals)\n",
    "backTarget[backTarget == 0] = -1\n",
    "# sigTrainTarget[sigTrainTarget == 0] = -1\n",
    "# sigTestTarget[sigTestTarget == 0] = -1\n",
    "# print(len(sigTestTarget[sigTestTarget==-1]))\n",
    "# print(len(sigTrainTarget[sigTrainTarget==1]))"
   ]
  },
  {
   "cell_type": "code",
   "execution_count": 26,
   "metadata": {
    "collapsed": false
   },
   "outputs": [
    {
     "name": "stdout",
     "output_type": "stream",
     "text": [
      "CPU times: user 3min 19s, sys: 4.07 s, total: 3min 23s\n",
      "Wall time: 3min 24s\n"
     ]
    }
   ],
   "source": [
    "%%time\n",
    "nuVal = 0.02\n",
    "gammaVal = \"auto\"\n",
    "osvmClf = OneClassSVM(nu=nuVal, gamma=gammaVal)\n",
    "osvmClf.fit(sigTrain)"
   ]
  },
  {
   "cell_type": "code",
   "execution_count": 27,
   "metadata": {
    "collapsed": true
   },
   "outputs": [],
   "source": [
    "y_pred_train = osvmClf.predict(sigTrain)\n",
    "y_pred_test = osvmClf.predict(sigTest)\n",
    "y_pred_outliers = osvmClf.predict(backVals)\n",
    "\n",
    "# falsePositives = y_pred_outlieers[y]"
   ]
  },
  {
   "cell_type": "code",
   "execution_count": 28,
   "metadata": {
    "collapsed": true
   },
   "outputs": [],
   "source": [
    "falseNegTrain = y_pred_train[y_pred_train == -1].size\n",
    "falseNegTest = y_pred_test[y_pred_test == -1].size\n",
    "falsePos = y_pred_outliers[y_pred_outliers == 1].size\n",
    "truePosTrain = y_pred_train[y_pred_train == 1].size\n",
    "truePosTest = y_pred_test[y_pred_test == 1].size"
   ]
  },
  {
   "cell_type": "code",
   "execution_count": 29,
   "metadata": {
    "collapsed": false
   },
   "outputs": [
    {
     "name": "stdout",
     "output_type": "stream",
     "text": [
      "[ 1.  1.  1. ...,  1.  1.  1.]\n",
      "[ 1.  1.  1. ...,  1.  1.  1.]\n",
      "[-1.  1.  1. ..., -1. -1. -1.]\n",
      "953\n"
     ]
    }
   ],
   "source": [
    "# %%time\n",
    "# #Provides classification reports \n",
    "# osvmScore = osvmClf.fit(sigTrain).decision_function(sigTest)\n",
    "    \n",
    "# osvmPredict = osvmClf.predict(sigTest)\n",
    "# print(\"Classification report for osvm, Tuned, Weights %s:\\n%s\\n\"\n",
    "#       % (osvmClf, sklearn.metrics.classification_report(sigTestTarget, osvmPredict)))\n",
    "print(y_pred_train)\n",
    "print(y_pred_test)\n",
    "print(y_pred_outliers)\n",
    "\n",
    "print(falseNegTest)"
   ]
  },
  {
   "cell_type": "code",
   "execution_count": 30,
   "metadata": {
    "collapsed": false
   },
   "outputs": [],
   "source": [
    "# %%time\n",
    "#Plots classification results for signal and background\n",
    "osvmArrs = []\n",
    "osvmHists = []\n",
    "\n",
    "#Separates decision function results into signal and background\n",
    "#along with training and testing\n",
    "osvmArrs.append(osvmClf.decision_function(sigTrain).ravel())\n",
    "osvmArrs.append(osvmClf.decision_function(sigTest).ravel())\n",
    "osvmArrs.append(osvmClf.decision_function(backVals).ravel())"
   ]
  },
  {
   "cell_type": "code",
   "execution_count": 31,
   "metadata": {
    "collapsed": false,
    "scrolled": false
   },
   "outputs": [
    {
     "name": "stdout",
     "output_type": "stream",
     "text": [
      "Loss Rate                                           :  2.0795147071659246\n",
      "Pollution Rate                                      :  2.867965367965368\n",
      "Number of errors on training set :  3668  Percentage:  2.000960111722091\n",
      "Number of errors on test set     :  953  Percentage:  2.0795147071659246\n",
      "Number of errors on outliers set :  1325  Percentage:  40.17586416009703\n"
     ]
    },
    {
     "data": {
      "image/png": "[encoded data removed]",
      "text/plain": [
       "<matplotlib.figure.Figure at 0x110417390>"
      ]
     },
     "metadata": {},
     "output_type": "display_data"
    }
   ],
   "source": [
    "plotMin = min(min(osvmArrs[0]), min(osvmArrs[1]), min(osvmArrs[2]))\n",
    "plotMax = max(max(osvmArrs[0]), max(osvmArrs[1]), max(osvmArrs[2]))\n",
    "binz = numpy.linspace(plotMin, plotMax, 60)\n",
    "\n",
    "plt.figure(figsize=(7, 10))\n",
    "plt.subplot(211)\n",
    "plt.hist(osvmArrs[0], normed = False, bins = binz, edgecolor = 'red',   \n",
    "         facecolor = 'white', alpha=1, label = \"Signal Train\", linewidth = 1.5)\n",
    "plt.hist(osvmArrs[1], normed = False, bins = binz, edgecolor = 'green', \n",
    "         facecolor = 'white', alpha=1, label = \"Signal Test\")\n",
    "plt.hist(osvmArrs[2], normed = False, bins = binz, edgecolor = 'blue',  \n",
    "         facecolor = 'white', alpha=0.5, label = \"Background\")\n",
    "plt.title(\"Classification Plot, OneClassSVM, Nu = %s, Gamma = %s\" % (nuVal, gammaVal))\n",
    "plt.xlabel(\"Decision Function Score\")\n",
    "plt.ylabel(\"Counts per Bin\")\n",
    "plt.legend()\n",
    "\n",
    "plt.subplot(212)\n",
    "plt.hist(osvmArrs[0], normed = True, bins = binz, edgecolor = 'red',   \n",
    "         facecolor = 'white', alpha=1, label = \"Signal Train\", linewidth = 1.5)\n",
    "plt.hist(osvmArrs[1], normed = True, bins = binz, edgecolor = 'green', \n",
    "         facecolor = 'white', alpha=1, label = \"Signal Test\")\n",
    "plt.hist(osvmArrs[2], normed = True, bins = binz, edgecolor = 'blue',  \n",
    "         facecolor = 'white', alpha=0.5, label = \"Background\")\n",
    "plt.title(\"Classification Plot, OneClassSVM, Nu = %s, Gamma = %s\" % (nuVal, gammaVal))\n",
    "plt.xlabel(\"Decision Function Score\")\n",
    "plt.ylabel(\"Counts per Bin\")\n",
    "plt.legend()\n",
    "\n",
    "print(\"Loss Rate                                           : \", (falseNegTest/(truePosTest+falseNegTest)*100))\n",
    "print(\"Pollution Rate                                      : \", (falsePos/(truePosTest+falsePos))*100)\n",
    "print(\"Number of errors on training set : \", falseNegTrain, \" Percentage: \", (falseNegTrain/len(sigTrain)*100))\n",
    "print(\"Number of errors on test set     : \", falseNegTest, \" Percentage: \", (falseNegTest/len(sigTest)*100))\n",
    "print(\"Number of errors on outliers set : \", falsePos, \" Percentage: \", (falsePos/len(backVals)*100))\n"
   ]
  },
  {
   "cell_type": "code",
   "execution_count": 32,
   "metadata": {
    "collapsed": false
   },
   "outputs": [
    {
     "data": {
      "image/png": "[encoded data removed]",
      "text/plain": [
       "<matplotlib.figure.Figure at 0x107b61320>"
      ]
     },
     "metadata": {},
     "output_type": "display_data"
    }
   ],
   "source": [
    "yTest = numpy.append(sigTestTarget, backTarget)\n",
    "osvmScore = numpy.append(osvmArrs[1], osvmArrs[2])\n",
    "fpr, tpr, _ = roc_curve(yTest, osvmScore)\n",
    "roc_auc = auc(fpr, tpr)\n",
    "\n",
    "plt.figure()\n",
    "lw = 2;\n",
    "plt.plot(fpr, tpr, color='darkorange',\n",
    "        lw = lw, label='ROC curve (area = %0.2f)' % roc_auc)\n",
    "plt.plot([0, 1], [0, 1], color='navy', lw = lw, linestyle='--')\n",
    "plt.xlim([0.0, 1.0])\n",
    "plt.ylim([0.0, 1.05])\n",
    "plt.xlabel('False Positive Rate')\n",
    "plt.ylabel('True Positive Rate')\n",
    "plt.title(\"ROC OSVM,  Nu = %s, Gamma = %s\" % (nuVal, gammaVal))\n",
    "plt.legend(loc=\"lower right\")\n",
    "plt.show()"
   ]
  },
  {
   "cell_type": "code",
   "execution_count": 5,
   "metadata": {
    "collapsed": false
   },
   "outputs": [
    {
     "name": "stdout",
     "output_type": "stream",
     "text": [
      "[[1, 2, 3, 4], [7, 8], [11, 12, 13]]\n",
      "[[1, 2, 3], [150], [162, 163, 164, 165]]\n",
      "[[5, 6, 7, 8], [13, 14, 15], [99, 100, 101, 102], [110, 111]]\n"
     ]
    }
   ],
   "source": [
    "#MAKE JSON-LIKE DICTIONARY\n",
    "#Have a list of bad lumisections and create a list of list\n",
    "\n",
    "bad_lumisections1 = [1,2,3,4,7,8,11,12,13]\n",
    "bad_lumisections2 = [1,2,3,150, 162,163,164,165]\n",
    "bad_lumisections3 = [5,6,7,8, 13,14,15, 99,100,101,102, 110,111]\n",
    "def split_list(n):\n",
    "    \"\"\"will return the list index\"\"\"\n",
    "    return [(x+1) for x,y in zip(n, n[1:]) if y-x != 1]\n",
    "\n",
    "def get_sub_list(my_list):\n",
    "    \"\"\"will split the list base on the index\"\"\"\n",
    "    my_index = split_list(my_list)\n",
    "    output = list()\n",
    "    prev = 0\n",
    "    for index in my_index:\n",
    "        new_list = [ x for x in my_list[prev:] if x < index]\n",
    "        output.append(new_list)\n",
    "        prev += len(new_list)\n",
    "    output.append([ x for x in my_list[prev:]])\n",
    "    return output\n",
    "\n",
    "print(get_sub_list(bad_lumisections1))\n",
    "print(get_sub_list(bad_lumisections2))\n",
    "print(get_sub_list(bad_lumisections3))\n"
   ]
  },
  {
   "cell_type": "code",
   "execution_count": 16,
   "metadata": {
    "collapsed": false
   },
   "outputs": [
    {
     "name": "stdout",
     "output_type": "stream",
     "text": [
      "{'273158': [[1, 2, 3, 4], [7, 8], [11, 12, 13]],\n",
      " '273159': [[1, 2, 3], [150], [162, 163, 164, 165]],\n",
      " '273160': [[5, 6, 7, 8], [13, 14, 15], [99, 100, 101, 102], [110, 111]]}\n"
     ]
    }
   ],
   "source": [
    "#CREATE A DICTIONARY\n",
    "#keys are the runID's and values are the bad lumisections in that runID\n",
    "keys = [\"273158\", \"273159\", \"273160\"]\n",
    "values = [bad_lumisections1, bad_lumisections2, bad_lumisections3]\n",
    "\n",
    "#transform it into the sub lists to make it more compact\n",
    "listed_values = []\n",
    "for n in values:\n",
    "    listed_values.append(get_sub_list(n))\n",
    "values = listed_values;\n",
    "\n",
    "\n",
    "dictionary = dict(zip(keys, values))\n",
    "\n",
    "#pprint prints the dictionary in a way that each new key is printed on new line\n",
    "import pprint\n",
    "pprint.pprint(dictionary)"
   ]
  },
  {
   "cell_type": "code",
   "execution_count": null,
   "metadata": {
    "collapsed": true
   },
   "outputs": [],
   "source": []
  }
 ],
 "metadata": {
  "anaconda-cloud": {},
  "kernelspec": {
   "display_name": "Python 3",
   "language": "python",
   "name": "python3"
  },
  "language_info": {
   "codemirror_mode": {
    "name": "ipython",
    "version": 3
   },
   "file_extension": ".py",
   "mimetype": "text/x-python",
   "name": "python",
   "nbconvert_exporter": "python",
   "pygments_lexer": "ipython3",
   "version": "3.6.0"
  }
 },
 "nbformat": 4,
 "nbformat_minor": 0
}
