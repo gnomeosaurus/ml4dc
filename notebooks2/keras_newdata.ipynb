{
 "cells": [
  {
   "cell_type": "code",
   "execution_count": 2,
   "metadata": {
    "collapsed": false
   },
   "outputs": [],
   "source": [
    "import os\n",
    "import numpy as np\n",
    "import pandas as pd\n",
    "import h5py\n",
    "from matplotlib import pyplot as plt\n",
    "%matplotlib inline"
   ]
  },
  {
   "cell_type": "code",
   "execution_count": 3,
   "metadata": {
    "collapsed": false
   },
   "outputs": [
    {
     "name": "stdout",
     "output_type": "stream",
     "text": [
      "True\n"
     ]
    }
   ],
   "source": [
    "var_names = ['runId', 'lumiId', 'lumi', 'isSig', 'qPFJetPt', 'qPFJetEta', 'qPFJetPhi', 'qPFJet4CHSPt', 'qPFJet4CHSEta', 'qPFJet4CHSPhi', 'qPFJet8CHSPt', 'qPFJet8CHSEta', 'qPFJet8CHSPhi', 'qPFJetEIPt', 'qPFJetEIEta', 'qPFJetEIPhi', 'qPFJet8CHSSDPt', 'qPFJet8CHSSDEta', 'qPFJet8CHSSDPhi', 'qPFJetTopCHSPt', 'qPFJetTopCHSEta', 'qPFJetTopCHSPhi', 'qPFChMetPt', 'qPFChMetPhi', 'qPFMetPt', 'qPFMetPhi', 'qNVtx', 'qCalJetPt', 'qCalJetEta', 'qCalJetPhi', 'qCalJetEn', 'qCalMETPt', 'qCalMETPhi', 'qCalMETEn', 'qCalMETBEPt', 'qCalMETBEPhi', 'qCalMETBEEn', 'qCalMETBEFOPt', 'qCalMETBEFOPhi', 'qCalMETBEFOEn', 'qCalMETMPt', 'qCalMETMPhi', 'qCalMETMEn', 'qSCEn', 'qSCEta', 'qSCPhi', 'qSCEtaWidth', 'qSCPhiWidth', 'qSCEnhfEM', 'qSCEtahfEM', 'qSCPhihfEM', 'qSCEn5x5', 'qSCEta5x5', 'qSCPhi5x5', 'qSCEtaWidth5x5', 'qSCPhiWidth5x5', 'qCCEn', 'qCCEta', 'qCCPhi', 'qCCEn5x5', 'qCCEta5x5', 'qCCPhi5x5', 'qPhoPt', 'qPhoEta', 'qPhoPhi', 'qPhoEn_', 'qPhoe1x5_', 'qPhoe2x5_', 'qPhoe3x3_', 'qPhoe5x5_', 'qPhomaxenxtal_', 'qPhosigmaeta_', 'qPhosigmaIeta_', 'qPhor1x5_', 'qPhor2x5_', 'qPhor9_', 'qgedPhoPt', 'qgedPhoEta', 'qgedPhoPhi', 'qgedPhoEn_', 'qgedPhoe1x5_', 'qgedPhoe2x5_', 'qgedPhoe3x3_', 'qgedPhoe5x5_', 'qgedPhomaxenxtal_', 'qgedPhosigmaeta_', 'qgedPhosigmaIeta_', 'qgedPhor1x5_', 'qgedPhor2x5_', 'qgedPhor9_', 'qMuPt', 'qMuEta', 'qMuPhi', 'qMuEn_', 'qMuCh_', 'qMuChi2_', 'qMuCosmPt', 'qMuCosmEta', 'qMuCosmPhi', 'qMuCosmEn_', 'qMuCosmCh_', 'qMuCosmChi2_', 'qMuCosmLegPt', 'qMuCosmLegEta', 'qMuCosmLegPhi', 'qMuCosmLegEn_', 'qMuCosmLegCh_', 'qMuCosmLegChi2_', 'qSigmaIEta', 'qSigmaIPhi', 'qr9', 'qHadOEm', 'qdrSumPt', 'qdrSumEt', 'qeSCOP', 'qecEn', 'qUNSigmaIEta', 'qUNSigmaIPhi', 'qUNr9', 'qUNHadOEm', 'qUNdrSumPt', 'qUNdrSumEt', 'qUNeSCOP', 'qUNecEn', 'qEBenergy', 'qEBtime', 'qEBchi2', 'qEBiEta', 'qEBiPhi', 'qEEenergy', 'qEEtime', 'qEEchi2', 'qEEix', 'qEEiy', 'qESenergy', 'qEStime', 'qESix', 'qESiy', 'qHBHEenergy', 'qHBHEtime', 'qHBHEauxe', 'qHBHEieta', 'qHBHEiphi', 'qHFenergy', 'qHFtime', 'qHFieta', 'qHFiphi', 'qPreShEn', 'qPreShEta', 'qPreShPhi', 'qPreShYEn', 'qPreShYEta', 'qPreShYPhi', 'crossSection', 'pathRates', 'pathNames', 'subsystemQuality', 'subsystemNames']\n",
    "var_names_reduced = ['qPFJetPt', 'qPFJetEta', 'qPFJetPhi', 'qPFJet4CHSPt', 'qPFJet4CHSEta', 'qPFJet4CHSPhi', 'qPFJet8CHSPt', 'qPFJet8CHSEta', 'qPFJet8CHSPhi', 'qPFJetEIPt', 'qPFJetEIEta', 'qPFJetEIPhi', 'qPFJet8CHSSDPt', 'qPFJet8CHSSDEta', 'qPFJet8CHSSDPhi', 'qPFJetTopCHSPt', 'qPFJetTopCHSEta', 'qPFJetTopCHSPhi', 'qPFChMetPt', 'qPFChMetPhi', 'qPFMetPt', 'qPFMetPhi', 'qNVtx', 'qCalJetPt', 'qCalJetEta', 'qCalJetPhi', 'qCalJetEn', 'qCalMETPt', 'qCalMETPhi', 'qCalMETEn', 'qCalMETBEPt', 'qCalMETBEPhi', 'qCalMETBEEn', 'qCalMETBEFOPt', 'qCalMETBEFOPhi', 'qCalMETBEFOEn', 'qCalMETMPt', 'qCalMETMPhi', 'qCalMETMEn', 'qSCEn', 'qSCEta', 'qSCPhi', 'qSCEtaWidth', 'qSCPhiWidth', 'qSCEtahfEM', 'qSCPhihfEM', 'qSCEn5x5', 'qSCEta5x5', 'qSCPhi5x5', 'qSCEtaWidth5x5', 'qSCPhiWidth5x5', 'qCCEn', 'qCCEta', 'qCCPhi', 'qCCEn5x5', 'qCCEta5x5', 'qCCPhi5x5', 'qPhoPt', 'qPhoEta', 'qPhoPhi', 'qPhoEn_', 'qPhoe1x5_', 'qPhoe2x5_', 'qPhoe3x3_', 'qPhoe5x5_', 'qPhomaxenxtal_', 'qPhosigmaeta_', 'qPhosigmaIeta_', 'qPhor1x5_', 'qPhor2x5_', 'qPhor9_', 'qgedPhoPt', 'qgedPhoEta', 'qgedPhoPhi', 'qgedPhoEn_', 'qgedPhoe1x5_', 'qgedPhoe2x5_', 'qgedPhoe3x3_', 'qgedPhoe5x5_', 'qgedPhomaxenxtal_', 'qgedPhosigmaeta_', 'qgedPhosigmaIeta_', 'qgedPhor1x5_', 'qgedPhor2x5_', 'qgedPhor9_', 'qMuPt', 'qMuEta', 'qMuPhi', 'qMuEn_', 'qMuCh_', 'qMuChi2_', 'qMuCosmPt', 'qMuCosmEta', 'qMuCosmPhi', 'qMuCosmEn_', 'qMuCosmCh_', 'qMuCosmChi2_', 'qMuCosmLegPt', 'qMuCosmLegEta', 'qMuCosmLegPhi', 'qMuCosmLegEn_', 'qMuCosmLegCh_', 'qMuCosmLegChi2_', 'qSigmaIEta', 'qSigmaIPhi', 'qr9', 'qHadOEm', 'qdrSumPt', 'qdrSumEt', 'qeSCOP', 'qecEn', 'qUNSigmaIEta', 'qUNSigmaIPhi', 'qUNr9', 'qUNHadOEm', 'qUNdrSumPt', 'qUNdrSumEt', 'qUNeSCOP', 'qUNecEn', 'qEBenergy', 'qEBtime', 'qEBchi2', 'qEBiEta', 'qEBiPhi', 'qEEenergy', 'qEEtime', 'qEEchi2', 'qEEix', 'qEEiy', 'qESenergy', 'qEStime', 'qESix', 'qESiy', 'qHBHEenergy', 'qHBHEtime', 'qHBHEauxe', 'qHBHEieta', 'qHBHEiphi', 'qHFenergy', 'qHFtime', 'qHFieta', 'qHFiphi', 'qPreShEn', 'qPreShEta', 'qPreShPhi', 'qPreShYEn', 'qPreShYEta', 'qPreShYPhi'] #, 'crossSection', 'pathRates', 'pathNames', 'subsystemQuality', 'subsystemNames']\n",
    "\n",
    "var_names5 = ['runId', 'lumiId', 'lumi', 'isSig', 'qPFJetPt', 'qPFJetEta', 'qPFJetPhi', 'qPFJet0Pt', 'qPFJet1Pt', 'qPFJet2Pt', 'qPFJet3Pt', 'qPFJet4Pt', 'qPFJet5Pt', 'qPFJet0Eta', 'qPFJet1Eta', 'qPFJet2Eta', 'qPFJet3Eta', 'qPFJet4Eta', 'qPFJet5Eta', 'qPFJet0Phi', 'qPFJet1Phi', 'qPFJet2Phi', 'qPFJet3Phi', 'qPFJet4Phi', 'qPFJet5Phi', 'qPFJet4CHS0Pt', 'qPFJet4CHS1Pt', 'qPFJet4CHS2Pt', 'qPFJet4CHS3Pt', 'qPFJet4CHS4Pt', 'qPFJet4CHS5Pt', 'qPFJet4CHS0Eta', 'qPFJet4CHS1Eta', 'qPFJet4CHS2Eta', 'qPFJet4CHS3Eta', 'qPFJet4CHS4Eta', 'qPFJet4CHS5Eta', 'qPFJet4CHS0Phi', 'qPFJet4CHS1Phi', 'qPFJet4CHS2Phi', 'qPFJet4CHS3Phi', 'qPFJet4CHS4Phi', 'qPFJet4CHS5Phi', 'qPFJet8CHS0Pt', 'qPFJet8CHS1Pt', 'qPFJet8CHS2Pt', 'qPFJet8CHS3Pt', 'qPFJet8CHS4Pt', 'qPFJet8CHS5Pt', 'qPFJet8CHS0Eta', 'qPFJet8CHS1Eta', 'qPFJet8CHS2Eta', 'qPFJet8CHS3Eta', 'qPFJet8CHS4Eta', 'qPFJet8CHS5Eta', 'qPFJet8CHS0Phi', 'qPFJet8CHS1Phi', 'qPFJet8CHS2Phi', 'qPFJet8CHS3Phi', 'qPFJet8CHS4Phi', 'qPFJet8CHS5Phi', 'qPFJetEI0Pt', 'qPFJetEI1Pt', 'qPFJetEI2Pt', 'qPFJetEI3Pt', 'qPFJetEI4Pt', 'qPFJetEI5Pt', 'qPFJetEI0Eta', 'qPFJetEI1Eta', 'qPFJetEI2Eta', 'qPFJetEI3Eta', 'qPFJetEI4Eta', 'qPFJetEI5Eta', 'qPFJetEI0Phi', 'qPFJetEI1Phi', 'qPFJetEI2Phi', 'qPFJetEI3Phi', 'qPFJetEI4Phi', 'qPFJetEI5Phi', 'qPFJet8CHSSD0Pt', 'qPFJet8CHSSD1Pt', 'qPFJet8CHSSD2Pt', 'qPFJet8CHSSD3Pt', 'qPFJet8CHSSD4Pt', 'qPFJet8CHSSD5Pt', 'qPFJet8CHSSD0Eta', 'qPFJet8CHSSD1Eta', 'qPFJet8CHSSD2Eta', 'qPFJet8CHSSD3Eta', 'qPFJet8CHSSD4Eta', 'qPFJet8CHSSD5Eta', 'qPFJet8CHSSD0Phi', 'qPFJet8CHSSD1Phi', 'qPFJet8CHSSD2Phi', 'qPFJet8CHSSD3Phi', 'qPFJet8CHSSD4Phi', 'qPFJet8CHSSD5Phi', 'qPFJetTopCHS0Pt', 'qPFJetTopCHS1Pt', 'qPFJetTopCHS2Pt', 'qPFJetTopCHS3Pt', 'qPFJetTopCHS4Pt', 'qPFJetTopCHS5Pt', 'qPFJetTopCHS0Eta', 'qPFJetTopCHS1Eta', 'qPFJetTopCHS2Eta', 'qPFJetTopCHS3Eta', 'qPFJetTopCHS4Eta', 'qPFJetTopCHS5Eta', 'qPFJetTopCHS0Phi', 'qPFJetTopCHS1Phi', 'qPFJetTopCHS2Phi', 'qPFJetTopCHS3Phi', 'qPFJetTopCHS4Phi', 'qPFJetTopCHS5Phi', 'qCalJet0Pt', 'qCalJet1Pt', 'qCalJet2Pt', 'qCalJet3Pt', 'qCalJet4Pt', 'qCalJet5Pt', 'qCalJet0Eta', 'qCalJet1Eta', 'qCalJet2Eta', 'qCalJet3Eta', 'qCalJet4Eta', 'qCalJet5Eta', 'qCalJet0Phi', 'qCalJet1Phi', 'qCalJet2Phi', 'qCalJet3Phi', 'qCalJet4Phi', 'qCalJet5Phi', 'qCalJet0En', 'qCalJet1En', 'qCalJet2En', 'qCalJet3En', 'qCalJet4En', 'qCalJet5En', 'qPho0Pt', 'qPho1Pt', 'qPho2Pt', 'qPho3Pt', 'qPho4Pt', 'qPho5Pt', 'qPho0Eta', 'qPho1Eta', 'qPho2Eta', 'qPho3Eta', 'qPho4Eta', 'qPho5Eta', 'qPho0Phi', 'qPho1Phi', 'qPho2Phi', 'qPho3Phi', 'qPho4Phi', 'qPho5Phi', 'qPho0En', 'qPho1En', 'qPho2En', 'qPho3En', 'qPho4En', 'qPho5En', 'qgedPho0Pt', 'qgedPho1Pt', 'qgedPho2Pt', 'qgedPho3Pt', 'qgedPho4Pt', 'qgedPho5Pt', 'qgedPho0Eta', 'qgedPho1Eta', 'qgedPho2Eta', 'qgedPho3Eta', 'qgedPho4Eta', 'qgedPho5Eta', 'qgedPho0Phi', 'qgedPho1Phi', 'qgedPho2Phi', 'qgedPho3Phi', 'qgedPho4Phi', 'qgedPho5Phi', 'qgedPho0En', 'qgedPho1En', 'qgedPho2En', 'qgedPho3En', 'qgedPho4En', 'qgedPho5En', 'qMu0Pt', 'qMu1Pt', 'qMu2Pt', 'qMu3Pt', 'qMu4Pt', 'qMu5Pt', 'qMu0Eta', 'qMu1Eta', 'qMu2Eta', 'qMu3Eta', 'qMu4Eta', 'qMu5Eta', 'qMu0Phi', 'qMu1Phi', 'qMu2Phi', 'qMu3Phi', 'qMu4Phi', 'qMu5Phi', 'qMu0En', 'qMu1En', 'qMu2En', 'qMu3En', 'qMu4En', 'qMu5En', 'qMuCosm0Pt', 'qMuCosm1Pt', 'qMuCosm2Pt', 'qMuCosm3Pt', 'qMuCosm4Pt', 'qMuCosm5Pt', 'qMuCosm0Eta', 'qMuCosm1Eta', 'qMuCosm2Eta', 'qMuCosm3Eta', 'qMuCosm4Eta', 'qMuCosm5Eta', 'qMuCosm0Phi', 'qMuCosm1Phi', 'qMuCosm2Phi', 'qMuCosm3Phi', 'qMuCosm4Phi', 'qMuCosm5Phi', 'qMuCosm0En', 'qMuCosm1En', 'qMuCosm2En', 'qMuCosm3En', 'qMuCosm4En', 'qMuCosm5En', 'qMuCosmLeg0Pt', 'qMuCosmLeg1Pt', 'qMuCosmLeg2Pt', 'qMuCosmLeg3Pt', 'qMuCosmLeg4Pt', 'qMuCosmLeg5Pt', 'qMuCosmLeg0Eta', 'qMuCosmLeg1Eta', 'qMuCosmLeg2Eta', 'qMuCosmLeg3Eta', 'qMuCosmLeg4Eta', 'qMuCosmLeg5Eta', 'qMuCosmLeg0Phi', 'qMuCosmLeg1Phi', 'qMuCosmLeg2Phi', 'qMuCosmLeg3Phi', 'qMuCosmLeg4Phi', 'qMuCosmLeg5Phi', 'qMuCosmLeg0En', 'qMuCosmLeg1En', 'qMuCosmLeg2En', 'qMuCosmLeg3En', 'qMuCosmLeg4En', 'qMuCosmLeg5En', 'qPFJet4CHSPt', 'qPFJet4CHSEta', 'qPFJet4CHSPhi', 'qPFJet8CHSPt', 'qPFJet8CHSEta', 'qPFJet8CHSPhi', 'qPFJetEIPt', 'qPFJetEIEta', 'qPFJetEIPhi', 'qPFJet8CHSSDPt', 'qPFJet8CHSSDEta', 'qPFJet8CHSSDPhi', 'qPFJetTopCHSPt', 'qPFJetTopCHSEta', 'qPFJetTopCHSPhi', 'qPFChMetPt', 'qPFChMetPhi', 'qPFMetPt', 'qPFMetPhi', 'qNVtx', 'qCalJetPt', 'qCalJetEta', 'qCalJetPhi', 'qCalJetEn', 'qCalMETPt', 'qCalMETPhi', 'qCalMETEn', 'qCalMETBEPt', 'qCalMETBEPhi', 'qCalMETBEEn', 'qCalMETBEFOPt', 'qCalMETBEFOPhi', 'qCalMETBEFOEn', 'qCalMETMPt', 'qCalMETMPhi', 'qCalMETMEn', 'qSCEn', 'qSCEta', 'qSCPhi', 'qSCEtaWidth', 'qSCPhiWidth', 'qSCEnhfEM', 'qSCEtahfEM', 'qSCPhihfEM', 'qSCEn5x5', 'qSCEta5x5', 'qSCPhi5x5', 'qSCEtaWidth5x5', 'qSCPhiWidth5x5', 'qCCEn', 'qCCEta', 'qCCPhi', 'qCCEn5x5', 'qCCEta5x5', 'qCCPhi5x5', 'qPhoPt', 'qPhoEta', 'qPhoPhi', 'qPhoEn_', 'qPhoe1x5_', 'qPhoe2x5_', 'qPhoe3x3_', 'qPhoe5x5_', 'qPhomaxenxtal_', 'qPhosigmaeta_', 'qPhosigmaIeta_', 'qPhor1x5_', 'qPhor2x5_', 'qPhor9_', 'qgedPhoPt', 'qgedPhoEta', 'qgedPhoPhi', 'qgedPhoEn_', 'qgedPhoe1x5_', 'qgedPhoe2x5_', 'qgedPhoe3x3_', 'qgedPhoe5x5_', 'qgedPhomaxenxtal_', 'qgedPhosigmaeta_', 'qgedPhosigmaIeta_', 'qgedPhor1x5_', 'qgedPhor2x5_', 'qgedPhor9_', 'qMuPt', 'qMuEta', 'qMuPhi', 'qMuEn_', 'qMuCh_', 'qMuChi2_', 'qMuCosmPt', 'qMuCosmEta', 'qMuCosmPhi', 'qMuCosmEn_', 'qMuCosmCh_', 'qMuCosmChi2_', 'qMuCosmLegPt', 'qMuCosmLegEta', 'qMuCosmLegPhi', 'qMuCosmLegEn_', 'qMuCosmLegCh_', 'qMuCosmLegChi2_', 'qSigmaIEta', 'qSigmaIPhi', 'qr9', 'qHadOEm', 'qdrSumPt', 'qdrSumEt', 'qeSCOP', 'qecEn', 'qUNSigmaIEta', 'qUNSigmaIPhi', 'qUNr9', 'qUNHadOEm', 'qUNdrSumPt', 'qUNdrSumEt', 'qUNeSCOP', 'qUNecEn', 'qEBenergy', 'qEBtime', 'qEBchi2', 'qEBiEta', 'qEBiPhi', 'qEEenergy', 'qEEtime', 'qEEchi2', 'qEEix', 'qEEiy', 'qESenergy', 'qEStime', 'qESix', 'qESiy', 'qHBHEenergy', 'qHBHEtime', 'qHBHEauxe', 'qHBHEieta', 'qHBHEiphi', 'qHFenergy', 'qHFtime', 'qHFieta', 'qHFiphi', 'qPreShEn', 'qPreShEta', 'qPreShPhi', 'qPreShYEn', 'qPreShYEta', 'qPreShYPhi', 'crossSection', 'pathRates', 'pathNames', 'subsystemQuality', 'subsystemNames']\n",
    "var_names_reduced5 = ['qPFJetPt', 'qPFJetEta', 'qPFJetPhi', 'qPFJet0Pt', 'qPFJet1Pt', 'qPFJet2Pt', 'qPFJet3Pt', 'qPFJet4Pt', 'qPFJet5Pt', 'qPFJet0Eta', 'qPFJet1Eta', 'qPFJet2Eta', 'qPFJet3Eta', 'qPFJet4Eta', 'qPFJet5Eta', 'qPFJet0Phi', 'qPFJet1Phi', 'qPFJet2Phi', 'qPFJet3Phi', 'qPFJet4Phi', 'qPFJet5Phi', 'qPFJet4CHS0Pt', 'qPFJet4CHS1Pt', 'qPFJet4CHS2Pt', 'qPFJet4CHS3Pt', 'qPFJet4CHS4Pt', 'qPFJet4CHS5Pt', 'qPFJet4CHS0Eta', 'qPFJet4CHS1Eta', 'qPFJet4CHS2Eta', 'qPFJet4CHS3Eta', 'qPFJet4CHS4Eta', 'qPFJet4CHS5Eta', 'qPFJet4CHS0Phi', 'qPFJet4CHS1Phi', 'qPFJet4CHS2Phi', 'qPFJet4CHS3Phi', 'qPFJet4CHS4Phi', 'qPFJet4CHS5Phi', 'qPFJet8CHS0Pt', 'qPFJet8CHS1Pt', 'qPFJet8CHS2Pt', 'qPFJet8CHS3Pt', 'qPFJet8CHS4Pt', 'qPFJet8CHS5Pt', 'qPFJet8CHS0Eta', 'qPFJet8CHS1Eta', 'qPFJet8CHS2Eta', 'qPFJet8CHS3Eta', 'qPFJet8CHS4Eta', 'qPFJet8CHS5Eta', 'qPFJet8CHS0Phi', 'qPFJet8CHS1Phi', 'qPFJet8CHS2Phi', 'qPFJet8CHS3Phi', 'qPFJet8CHS4Phi', 'qPFJet8CHS5Phi', 'qPFJetEI0Pt', 'qPFJetEI1Pt', 'qPFJetEI2Pt', 'qPFJetEI3Pt', 'qPFJetEI4Pt', 'qPFJetEI5Pt', 'qPFJetEI0Eta', 'qPFJetEI1Eta', 'qPFJetEI2Eta', 'qPFJetEI3Eta', 'qPFJetEI4Eta', 'qPFJetEI5Eta', 'qPFJetEI0Phi', 'qPFJetEI1Phi', 'qPFJetEI2Phi', 'qPFJetEI3Phi', 'qPFJetEI4Phi', 'qPFJetEI5Phi', 'qPFJet8CHSSD0Pt', 'qPFJet8CHSSD1Pt', 'qPFJet8CHSSD2Pt', 'qPFJet8CHSSD3Pt', 'qPFJet8CHSSD4Pt', 'qPFJet8CHSSD5Pt', 'qPFJet8CHSSD0Eta', 'qPFJet8CHSSD1Eta', 'qPFJet8CHSSD2Eta', 'qPFJet8CHSSD3Eta', 'qPFJet8CHSSD4Eta', 'qPFJet8CHSSD5Eta', 'qPFJet8CHSSD0Phi', 'qPFJet8CHSSD1Phi', 'qPFJet8CHSSD2Phi', 'qPFJet8CHSSD3Phi', 'qPFJet8CHSSD4Phi', 'qPFJet8CHSSD5Phi', 'qPFJetTopCHS0Pt', 'qPFJetTopCHS1Pt', 'qPFJetTopCHS2Pt', 'qPFJetTopCHS3Pt', 'qPFJetTopCHS4Pt', 'qPFJetTopCHS5Pt', 'qPFJetTopCHS0Eta', 'qPFJetTopCHS1Eta', 'qPFJetTopCHS2Eta', 'qPFJetTopCHS3Eta', 'qPFJetTopCHS4Eta', 'qPFJetTopCHS5Eta', 'qPFJetTopCHS0Phi', 'qPFJetTopCHS1Phi', 'qPFJetTopCHS2Phi', 'qPFJetTopCHS3Phi', 'qPFJetTopCHS4Phi', 'qPFJetTopCHS5Phi', 'qCalJet0Pt', 'qCalJet1Pt', 'qCalJet2Pt', 'qCalJet3Pt', 'qCalJet4Pt', 'qCalJet5Pt', 'qCalJet0Eta', 'qCalJet1Eta', 'qCalJet2Eta', 'qCalJet3Eta', 'qCalJet4Eta', 'qCalJet5Eta', 'qCalJet0Phi', 'qCalJet1Phi', 'qCalJet2Phi', 'qCalJet3Phi', 'qCalJet4Phi', 'qCalJet5Phi', 'qCalJet0En', 'qCalJet1En', 'qCalJet2En', 'qCalJet3En', 'qCalJet4En', 'qCalJet5En', 'qPho0Pt', 'qPho1Pt', 'qPho2Pt', 'qPho3Pt', 'qPho4Pt', 'qPho5Pt', 'qPho0Eta', 'qPho1Eta', 'qPho2Eta', 'qPho3Eta', 'qPho4Eta', 'qPho5Eta', 'qPho0Phi', 'qPho1Phi', 'qPho2Phi', 'qPho3Phi', 'qPho4Phi', 'qPho5Phi', 'qPho0En', 'qPho1En', 'qPho2En', 'qPho3En', 'qPho4En', 'qPho5En', 'qgedPho0Pt', 'qgedPho1Pt', 'qgedPho2Pt', 'qgedPho3Pt', 'qgedPho4Pt', 'qgedPho5Pt', 'qgedPho0Eta', 'qgedPho1Eta', 'qgedPho2Eta', 'qgedPho3Eta', 'qgedPho4Eta', 'qgedPho5Eta', 'qgedPho0Phi', 'qgedPho1Phi', 'qgedPho2Phi', 'qgedPho3Phi', 'qgedPho4Phi', 'qgedPho5Phi', 'qgedPho0En', 'qgedPho1En', 'qgedPho2En', 'qgedPho3En', 'qgedPho4En', 'qgedPho5En', 'qMu0Pt', 'qMu1Pt', 'qMu2Pt', 'qMu3Pt', 'qMu4Pt', 'qMu5Pt', 'qMu0Eta', 'qMu1Eta', 'qMu2Eta', 'qMu3Eta', 'qMu4Eta', 'qMu5Eta', 'qMu0Phi', 'qMu1Phi', 'qMu2Phi', 'qMu3Phi', 'qMu4Phi', 'qMu5Phi', 'qMu0En', 'qMu1En', 'qMu2En', 'qMu3En', 'qMu4En', 'qMu5En', 'qMuCosm0Pt', 'qMuCosm1Pt', 'qMuCosm2Pt', 'qMuCosm3Pt', 'qMuCosm4Pt', 'qMuCosm5Pt', 'qMuCosm0Eta', 'qMuCosm1Eta', 'qMuCosm2Eta', 'qMuCosm3Eta', 'qMuCosm4Eta', 'qMuCosm5Eta', 'qMuCosm0Phi', 'qMuCosm1Phi', 'qMuCosm2Phi', 'qMuCosm3Phi', 'qMuCosm4Phi', 'qMuCosm5Phi', 'qMuCosm0En', 'qMuCosm1En', 'qMuCosm2En', 'qMuCosm3En', 'qMuCosm4En', 'qMuCosm5En', 'qMuCosmLeg0Pt', 'qMuCosmLeg1Pt', 'qMuCosmLeg2Pt', 'qMuCosmLeg3Pt', 'qMuCosmLeg4Pt', 'qMuCosmLeg5Pt', 'qMuCosmLeg0Eta', 'qMuCosmLeg1Eta', 'qMuCosmLeg2Eta', 'qMuCosmLeg3Eta', 'qMuCosmLeg4Eta', 'qMuCosmLeg5Eta', 'qMuCosmLeg0Phi', 'qMuCosmLeg1Phi', 'qMuCosmLeg2Phi', 'qMuCosmLeg3Phi', 'qMuCosmLeg4Phi', 'qMuCosmLeg5Phi', 'qMuCosmLeg0En', 'qMuCosmLeg1En', 'qMuCosmLeg2En', 'qMuCosmLeg3En', 'qMuCosmLeg4En', 'qMuCosmLeg5En', 'qPFJet4CHSPt', 'qPFJet4CHSEta', 'qPFJet4CHSPhi', 'qPFJet8CHSPt', 'qPFJet8CHSEta', 'qPFJet8CHSPhi', 'qPFJetEIPt', 'qPFJetEIEta', 'qPFJetEIPhi', 'qPFJet8CHSSDPt', 'qPFJet8CHSSDEta', 'qPFJet8CHSSDPhi', 'qPFJetTopCHSPt', 'qPFJetTopCHSEta', 'qPFJetTopCHSPhi', 'qPFChMetPt', 'qPFChMetPhi', 'qPFMetPt', 'qPFMetPhi', 'qNVtx', 'qCalJetPt', 'qCalJetEta', 'qCalJetPhi', 'qCalJetEn', 'qCalMETPt', 'qCalMETPhi', 'qCalMETEn', 'qCalMETBEPt', 'qCalMETBEPhi', 'qCalMETBEEn', 'qCalMETBEFOPt', 'qCalMETBEFOPhi', 'qCalMETBEFOEn', 'qCalMETMPt', 'qCalMETMPhi', 'qCalMETMEn', 'qSCEn', 'qSCEta', 'qSCPhi', 'qSCEtaWidth', 'qSCPhiWidth', 'qSCEtahfEM', 'qSCPhihfEM', 'qSCEn5x5', 'qSCEta5x5', 'qSCPhi5x5', 'qSCEtaWidth5x5', 'qSCPhiWidth5x5', 'qCCEn', 'qCCEta', 'qCCPhi', 'qCCEn5x5', 'qCCEta5x5', 'qCCPhi5x5', 'qPhoPt', 'qPhoEta', 'qPhoPhi', 'qPhoEn_', 'qPhoe1x5_', 'qPhoe2x5_', 'qPhoe3x3_', 'qPhoe5x5_', 'qPhomaxenxtal_', 'qPhosigmaeta_', 'qPhosigmaIeta_', 'qPhor1x5_', 'qPhor2x5_', 'qPhor9_', 'qgedPhoPt', 'qgedPhoEta', 'qgedPhoPhi', 'qgedPhoEn_', 'qgedPhoe1x5_', 'qgedPhoe2x5_', 'qgedPhoe3x3_', 'qgedPhoe5x5_', 'qgedPhomaxenxtal_', 'qgedPhosigmaeta_', 'qgedPhosigmaIeta_', 'qgedPhor1x5_', 'qgedPhor2x5_', 'qgedPhor9_', 'qMuPt', 'qMuEta', 'qMuPhi', 'qMuEn_', 'qMuCh_', 'qMuChi2_', 'qMuCosmPt', 'qMuCosmEta', 'qMuCosmPhi', 'qMuCosmEn_', 'qMuCosmCh_', 'qMuCosmChi2_', 'qMuCosmLegPt', 'qMuCosmLegEta', 'qMuCosmLegPhi', 'qMuCosmLegEn_', 'qMuCosmLegCh_', 'qMuCosmLegChi2_', 'qSigmaIEta', 'qSigmaIPhi', 'qr9', 'qHadOEm', 'qdrSumPt', 'qdrSumEt', 'qeSCOP', 'qecEn', 'qUNSigmaIEta', 'qUNSigmaIPhi', 'qUNr9', 'qUNHadOEm', 'qUNdrSumPt', 'qUNdrSumEt', 'qUNeSCOP', 'qUNecEn', 'qEBenergy', 'qEBtime', 'qEBchi2', 'qEBiEta', 'qEBiPhi', 'qEEenergy', 'qEEtime', 'qEEchi2', 'qEEix', 'qEEiy', 'qESenergy', 'qEStime', 'qESix', 'qESiy', 'qHBHEenergy', 'qHBHEtime', 'qHBHEauxe', 'qHBHEieta', 'qHBHEiphi', 'qHFenergy', 'qHFtime', 'qHFieta', 'qHFiphi', 'qPreShEn', 'qPreShEta', 'qPreShPhi', 'qPreShYEn', 'qPreShYEta', 'qPreShYPhi']\n",
    "print(set(var_names_reduced5) == set(var_names5) - (set(var_names)-set(var_names_reduced)))\n",
    "\n",
    "\n",
    "# print(len(var_names5))\n",
    "# print(len(var_names_reduced5))\n",
    "# del var_names\n",
    "# del var_names_reduced\n"
   ]
  },
  {
   "cell_type": "code",
   "execution_count": 8,
   "metadata": {
    "collapsed": false
   },
   "outputs": [],
   "source": [
    "def get_npy_paths_all(path):\n",
    "    if os.path.isdir(path):\n",
    "        npy_paths = []\n",
    "        for e in os.listdir(path):\n",
    "            npy_paths += get_npy_paths_all(path+'/'+e)\n",
    "        return npy_paths\n",
    "#         return [ get_npy_paths_all(path+'/'+e) for e in os.listdir(path) ] \n",
    "    else:\n",
    "        if \".npy\" in path:\n",
    "            return [path]\n",
    "\n",
    "def get_npy_paths(root_dir, chosen_vars=None):\n",
    "    npy_paths = []\n",
    "    print(root_dir)\n",
    "    if chosen_vars is None:\n",
    "        chosen_vars = os.listdir(root_dir)\n",
    "    print(chosen_vars)\n",
    "    \n",
    "    for chosen_var in chosen_vars:\n",
    "        npy_paths += get_npy_paths_all(root_dir+'/'+chosen_var)\n",
    "    \n",
    "    return npy_paths\n",
    "\n",
    "def array_generator(paths):\n",
    "    for path in paths:\n",
    "        try:\n",
    "            yield np.load(path, encoding='latin1')\n",
    "        except Exception as e:\n",
    "            print(e)\n",
    "            print(path)\n",
    "    \n",
    "        \n",
    "def get_filtered_events(array, var_list, verbose=False):\n",
    "    n_vars = len(var_list)\n",
    "    if verbose:\n",
    "        print(\"Number of variables received: \", n_vars)\n",
    "    n_good_events_per_var = np.empty(n_vars)\n",
    "    mask = array['lumi'] != 0  #np.bool_(np.ones(len(array)))\n",
    "    for i in range(n_vars):\n",
    "        var_mask = np.array(list(map(lambda x: len(x)==7, array[var_list[i]]))) # accept only events which has length 7\n",
    "        n_good_events_per_var[i] = np.sum(var_mask)\n",
    "        mask = np.logical_and(mask,var_mask)\n",
    "        \n",
    "    if verbose:\n",
    "        tuples_of_n_events = list(zip(var_list, n_good_events_per_var))\n",
    "        tuples_of_n_events_sorted = sorted(tuples_of_n_events, key=lambda tup: tup[1])\n",
    "        print(\"Number of good events for each variable: \", tuples_of_n_events_sorted)\n",
    "    \n",
    "    goodEvents = array[mask]\n",
    "#     ind = np.lexsort((goodEvents['lumiId'],goodEvents['runId']))\n",
    "#     goodEvents = goodEvents[ind]  # now sorted, is it necessary?\n",
    "\n",
    "\n",
    "\n",
    "    n_good_events = len(goodEvents)\n",
    "    matrix = np.empty([n_good_events,n_vars*7+2])\n",
    "    \n",
    "    for j in range(n_good_events):\n",
    "        for i in range(n_vars):\n",
    "            matrix[j,i*7:(i+1)*7] = goodEvents[var_list[i]][j]\n",
    "        matrix[j,-2] = goodEvents['crossSection'][j][0]\n",
    "        matrix[j,-1] = goodEvents['pathRates'][j][0]\n",
    "    \n",
    "    target = goodEvents['isSig'] \n",
    "\n",
    "    sigInd = np.where(target==1)\n",
    "    backInd = np.where(target==0)\n",
    "    sigVals = matrix[sigInd]\n",
    "    backVals = matrix[backInd]\n",
    "    \n",
    "    if verbose:\n",
    "        print(\"Out of %s events, are %s valid. %s have signal and %s are background.\" % \n",
    "              (len(array), n_good_events, sigVals.shape[0], backVals.shape[0]))\n",
    "    \n",
    "    return sigVals, backVals\n",
    "    \n",
    "# base_path = '/eos/cms/store/group/comm_dqm/cmsml4dc/2016-v1/data2016_v2/'\n",
    "# # paths = get_npy_paths('/eos/user/l/ldanev/fifthrun/BTagCSV/crab_BTagCSVRun_2016C-18Apr2017-v1')\n",
    "# paths = get_npy_paths('/eos/cms/store/group/comm_dqm/cmsml4dc/2016-v1/data2016_v2/BTagCSV/crab_BTagCSVRun_2016C-18Apr2017-v1')\n",
    "# arr_gen = array_generator(paths)\n",
    "# print(len(paths))"
   ]
  },
  {
   "cell_type": "code",
   "execution_count": null,
   "metadata": {
    "collapsed": false
   },
   "outputs": [],
   "source": [
    "%%time\n",
    "arr_gen = array_generator(paths)\n",
    "# n_sig = 0\n",
    "# n_back = 0\n",
    "# break_after = 1000\n",
    "# minimum = np.zeros(len(var_names_reduced5)*7+2)+np.inf\n",
    "# maximum = np.zeros(len(var_names_reduced5)*7+2)-np.inf\n",
    "arr = next(arr_gen)\n",
    "sigVals, backVals = get_filtered_events(arr, var_names_reduced5)\n",
    "# f = h5py.File('JetHC_C.h5', 'w')\n",
    "f = h5py.File('/eos/cms/store/user/fsiroky/hdf5_data/BTagCSV_C_signal.h5', 'w')\n",
    "g = h5py.File('/eos/cms/store/user/fsiroky/hdf5_data/BTagCSV_C_background.h5', 'w')\n",
    "list_of_hdf5_signal_files=['BTagCSV_C_signal.h5',]\n",
    "list_of_hdf5_background_files=['BTagCSV_C_background.h5',]\n",
    "\n",
    "for (i,arr) in enumerate(arr_gen):\n",
    "    if i%30==0:\n",
    "        print(str(i)+' ', end=\"\")\n",
    "    if i>break_after:\n",
    "        break\n",
    "        \n",
    "    sigVals_new, backVals_new = get_filtered_events(arr, var_names_reduced5)\n",
    "    sigVals  = np.concatenate((sigVals, sigVals_new), axis=0)\n",
    "    backVals = np.concatenate((backVals, backVals_new), axis=0)\n",
    "    \n",
    "# dset = f.create_dataset(\"jet_C_signal\", chunks=True, dtype='float64', data=sigVals)\n",
    "dset = f.create_dataset(\"BTagCSV_C_signal\", chunks=True, dtype='float64', data=sigVals)\n",
    "# Name is list_of_hdf5... minus the .h5\n",
    "# dset = f.create_dataset(\"jet_C_background\", chunks=True, dtype='float64', data=backVals)\n",
    "f.close()\n",
    "dset = g.create_dataset(\"BTagCSV_C_background\", chunks=True, dtype='float64', data=backVals)\n",
    "g.close()\n",
    "\n",
    "#     n_sig += len(sigVals)\n",
    "#     n_back += len(backVals)\n",
    "    #print(\"n_sig is\",n_sig)\n",
    "    #print(\"n_back is\", n_back)"
   ]
  },
  {
   "cell_type": "code",
   "execution_count": 11,
   "metadata": {
    "collapsed": false
   },
   "outputs": [
    {
     "name": "stdout",
     "output_type": "stream",
     "text": [
      "DoubleMuon/crab_DoubleMuonRun_2016D-18Apr2017-v1\n",
      "81\n",
      "81\n",
      "81\n",
      "81\n",
      "/eos/cms/store/group/comm_dqm/cmsml4dc/2016-v1/data2016_v2/DoubleMuon/crab_DoubleMuonRun_2016D-18Apr2017-v1\n",
      "/eos/cms/store/group/comm_dqm/cmsml4dc/2016-v1/data2016_v2/DoubleMuon/crab_DoubleMuonRun_2016D-18Apr2017-v1\n"
     ]
    },
    {
     "ename": "OSError",
     "evalue": "[Errno 14] Bad address: '/eos/cms/store/group/comm_dqm/cmsml4dc/2016-v1/data2016_v2/DoubleMuon/crab_DoubleMuonRun_2016D-18Apr2017-v1'",
     "output_type": "error",
     "traceback": [
      "\u001b[0;31m---------------------------------------------------------------------------\u001b[0m",
      "\u001b[0;31mOSError\u001b[0m                                   Traceback (most recent call last)",
      "\u001b[0;32m<ipython-input-11-0cc73fe22b65>\u001b[0m in \u001b[0;36m<module>\u001b[0;34m()\u001b[0m\n\u001b[0;32m----> 1\u001b[0;31m \u001b[0mget_ipython\u001b[0m\u001b[0;34m(\u001b[0m\u001b[0;34m)\u001b[0m\u001b[0;34m.\u001b[0m\u001b[0mrun_cell_magic\u001b[0m\u001b[0;34m(\u001b[0m\u001b[0;34m'time'\u001b[0m\u001b[0;34m,\u001b[0m \u001b[0;34m''\u001b[0m\u001b[0;34m,\u001b[0m \u001b[0;34m'base_path_npy = \\'/eos/cms/store/group/comm_dqm/cmsml4dc/2016-v1/data2016_v2/\\'\\nbase_path_h5  = \\'/eos/cms/store/user/fsiroky/hdf5_data/\\'\\n\\n\\ndef read_paths_file( filename ):\\n    with open( os.path.join( \\'texts\\', filename ), \\'r\\' ) as f:\\n        return [ path.strip() for path in f ]\\n    \\npaths_npy_arrays   = read_paths_file( \\'paths_to_npy_arrays.txt\\'  )\\npaths_signal       = read_paths_file( \\'paths_to_signal.txt\\'      )\\npaths_signalh5     = read_paths_file( \\'paths_to_signalh5.txt\\'    )\\npaths_background   = read_paths_file( \\'paths_to_background.txt\\'  )\\npaths_backgroundh5 = read_paths_file( \\'paths_to_backgroundh5.txt\\')\\n\\nprint((paths_npy_arrays[0]))\\nprint(len(paths_signal))\\nprint(len(paths_signalh5))\\nprint(len(paths_background))\\nprint(len(paths_backgroundh5))\\n\\nfor i in range (0,len(paths_npy_arrays)):\\n    print(base_path_npy+paths_npy_arrays[i])\\n    paths = get_npy_paths(base_path_npy+paths_npy_arrays[i]) \\n    arr_gen = array_generator(paths)\\n#     n_sig = 0\\n#     n_back = 0\\n    break_after = 1300\\n#     minimum = np.zeros(len(var_names_reduced5)*7+2)+np.inf\\n#     maximum = np.zeros(len(var_names_reduced5)*7+2)-np.inf\\n    arr = next(arr_gen)\\n    sigVals, backVals = get_filtered_events(arr, var_names_reduced5)\\n    \\n    f = h5py.File(base_path_h5+paths_signalh5[i], \\'w\\')\\n    g = h5py.File(base_path_h5+paths_backgroundh5[i], \\'w\\')\\n\\n\\n    for (e,arr) in enumerate(arr_gen):\\n        if e%30==0:\\n            print(str(e)+\\' \\', end=\"\")\\n        if e>break_after:\\n            break\\n        \\n        sigVals_new, backVals_new = get_filtered_events(arr, var_names_reduced5)\\n        sigVals  = np.concatenate((sigVals, sigVals_new), axis=0)\\n        backVals = np.concatenate((backVals, backVals_new), axis=0)\\n    \\n# dset = f.create_dataset(\"jet_C_signal\", chunks=True, dtype=\\'float64\\', data=sigVals)\\n    dset = f.create_dataset(paths_signal[i], chunks=True, dtype=\\'float64\\', data=sigVals)\\n# Name is list_of_hdf5... minus the .h5\\n# dset = f.create_dataset(\"jet_C_background\", chunks=True, dtype=\\'float64\\', data=backVals)\\n    f.close()\\n    dset = g.create_dataset(paths_background[i], chunks=True, dtype=\\'float64\\', data=backVals)\\n    g.close()\\n\\n# #     n_sig += len(sigVals)\\n# #     n_back += len(backVals)\\n#     #print(\"n_sig is\",n_sig)\\n#     #print(\"n_back is\", n_back)'\u001b[0m\u001b[0;34m)\u001b[0m\u001b[0;34m\u001b[0m\u001b[0m\n\u001b[0m",
      "\u001b[0;32m/usr/anaconda3/lib/python3.6/site-packages/IPython/core/interactiveshell.py\u001b[0m in \u001b[0;36mrun_cell_magic\u001b[0;34m(self, magic_name, line, cell)\u001b[0m\n\u001b[1;32m   2113\u001b[0m             \u001b[0mmagic_arg_s\u001b[0m \u001b[0;34m=\u001b[0m \u001b[0mself\u001b[0m\u001b[0;34m.\u001b[0m\u001b[0mvar_expand\u001b[0m\u001b[0;34m(\u001b[0m\u001b[0mline\u001b[0m\u001b[0;34m,\u001b[0m \u001b[0mstack_depth\u001b[0m\u001b[0;34m)\u001b[0m\u001b[0;34m\u001b[0m\u001b[0m\n\u001b[1;32m   2114\u001b[0m             \u001b[0;32mwith\u001b[0m \u001b[0mself\u001b[0m\u001b[0;34m.\u001b[0m\u001b[0mbuiltin_trap\u001b[0m\u001b[0;34m:\u001b[0m\u001b[0;34m\u001b[0m\u001b[0m\n\u001b[0;32m-> 2115\u001b[0;31m                 \u001b[0mresult\u001b[0m \u001b[0;34m=\u001b[0m \u001b[0mfn\u001b[0m\u001b[0;34m(\u001b[0m\u001b[0mmagic_arg_s\u001b[0m\u001b[0;34m,\u001b[0m \u001b[0mcell\u001b[0m\u001b[0;34m)\u001b[0m\u001b[0;34m\u001b[0m\u001b[0m\n\u001b[0m\u001b[1;32m   2116\u001b[0m             \u001b[0;32mreturn\u001b[0m \u001b[0mresult\u001b[0m\u001b[0;34m\u001b[0m\u001b[0m\n\u001b[1;32m   2117\u001b[0m \u001b[0;34m\u001b[0m\u001b[0m\n",
      "\u001b[0;32m<decorator-gen-59>\u001b[0m in \u001b[0;36mtime\u001b[0;34m(self, line, cell, local_ns)\u001b[0m\n",
      "\u001b[0;32m/usr/anaconda3/lib/python3.6/site-packages/IPython/core/magic.py\u001b[0m in \u001b[0;36m<lambda>\u001b[0;34m(f, *a, **k)\u001b[0m\n\u001b[1;32m    186\u001b[0m     \u001b[0;31m# but it's overkill for just that one bit of state.\u001b[0m\u001b[0;34m\u001b[0m\u001b[0;34m\u001b[0m\u001b[0m\n\u001b[1;32m    187\u001b[0m     \u001b[0;32mdef\u001b[0m \u001b[0mmagic_deco\u001b[0m\u001b[0;34m(\u001b[0m\u001b[0marg\u001b[0m\u001b[0;34m)\u001b[0m\u001b[0;34m:\u001b[0m\u001b[0;34m\u001b[0m\u001b[0m\n\u001b[0;32m--> 188\u001b[0;31m         \u001b[0mcall\u001b[0m \u001b[0;34m=\u001b[0m \u001b[0;32mlambda\u001b[0m \u001b[0mf\u001b[0m\u001b[0;34m,\u001b[0m \u001b[0;34m*\u001b[0m\u001b[0ma\u001b[0m\u001b[0;34m,\u001b[0m \u001b[0;34m**\u001b[0m\u001b[0mk\u001b[0m\u001b[0;34m:\u001b[0m \u001b[0mf\u001b[0m\u001b[0;34m(\u001b[0m\u001b[0;34m*\u001b[0m\u001b[0ma\u001b[0m\u001b[0;34m,\u001b[0m \u001b[0;34m**\u001b[0m\u001b[0mk\u001b[0m\u001b[0;34m)\u001b[0m\u001b[0;34m\u001b[0m\u001b[0m\n\u001b[0m\u001b[1;32m    189\u001b[0m \u001b[0;34m\u001b[0m\u001b[0m\n\u001b[1;32m    190\u001b[0m         \u001b[0;32mif\u001b[0m \u001b[0mcallable\u001b[0m\u001b[0;34m(\u001b[0m\u001b[0marg\u001b[0m\u001b[0;34m)\u001b[0m\u001b[0;34m:\u001b[0m\u001b[0;34m\u001b[0m\u001b[0m\n",
      "\u001b[0;32m/usr/anaconda3/lib/python3.6/site-packages/IPython/core/magics/execution.py\u001b[0m in \u001b[0;36mtime\u001b[0;34m(self, line, cell, local_ns)\u001b[0m\n\u001b[1;32m   1178\u001b[0m         \u001b[0;32melse\u001b[0m\u001b[0;34m:\u001b[0m\u001b[0;34m\u001b[0m\u001b[0m\n\u001b[1;32m   1179\u001b[0m             \u001b[0mst\u001b[0m \u001b[0;34m=\u001b[0m \u001b[0mclock2\u001b[0m\u001b[0;34m(\u001b[0m\u001b[0;34m)\u001b[0m\u001b[0;34m\u001b[0m\u001b[0m\n\u001b[0;32m-> 1180\u001b[0;31m             \u001b[0mexec\u001b[0m\u001b[0;34m(\u001b[0m\u001b[0mcode\u001b[0m\u001b[0;34m,\u001b[0m \u001b[0mglob\u001b[0m\u001b[0;34m,\u001b[0m \u001b[0mlocal_ns\u001b[0m\u001b[0;34m)\u001b[0m\u001b[0;34m\u001b[0m\u001b[0m\n\u001b[0m\u001b[1;32m   1181\u001b[0m             \u001b[0mend\u001b[0m \u001b[0;34m=\u001b[0m \u001b[0mclock2\u001b[0m\u001b[0;34m(\u001b[0m\u001b[0;34m)\u001b[0m\u001b[0;34m\u001b[0m\u001b[0m\n\u001b[1;32m   1182\u001b[0m             \u001b[0mout\u001b[0m \u001b[0;34m=\u001b[0m \u001b[0;32mNone\u001b[0m\u001b[0;34m\u001b[0m\u001b[0m\n",
      "\u001b[0;32m<timed exec>\u001b[0m in \u001b[0;36m<module>\u001b[0;34m()\u001b[0m\n",
      "\u001b[0;32m<ipython-input-8-288fdf239028>\u001b[0m in \u001b[0;36mget_npy_paths\u001b[0;34m(root_dir, chosen_vars)\u001b[0m\n\u001b[1;32m     14\u001b[0m     \u001b[0mprint\u001b[0m\u001b[0;34m(\u001b[0m\u001b[0mroot_dir\u001b[0m\u001b[0;34m)\u001b[0m\u001b[0;34m\u001b[0m\u001b[0m\n\u001b[1;32m     15\u001b[0m     \u001b[0;32mif\u001b[0m \u001b[0mchosen_vars\u001b[0m \u001b[0;32mis\u001b[0m \u001b[0;32mNone\u001b[0m\u001b[0;34m:\u001b[0m\u001b[0;34m\u001b[0m\u001b[0m\n\u001b[0;32m---> 16\u001b[0;31m         \u001b[0mchosen_vars\u001b[0m \u001b[0;34m=\u001b[0m \u001b[0mos\u001b[0m\u001b[0;34m.\u001b[0m\u001b[0mlistdir\u001b[0m\u001b[0;34m(\u001b[0m\u001b[0mroot_dir\u001b[0m\u001b[0;34m)\u001b[0m\u001b[0;34m\u001b[0m\u001b[0m\n\u001b[0m\u001b[1;32m     17\u001b[0m     \u001b[0mprint\u001b[0m\u001b[0;34m(\u001b[0m\u001b[0mchosen_vars\u001b[0m\u001b[0;34m)\u001b[0m\u001b[0;34m\u001b[0m\u001b[0m\n\u001b[1;32m     18\u001b[0m \u001b[0;34m\u001b[0m\u001b[0m\n",
      "\u001b[0;31mOSError\u001b[0m: [Errno 14] Bad address: '/eos/cms/store/group/comm_dqm/cmsml4dc/2016-v1/data2016_v2/DoubleMuon/crab_DoubleMuonRun_2016D-18Apr2017-v1'"
     ]
    }
   ],
   "source": [
    "%%time\n",
    "base_path_npy = '/eos/cms/store/group/comm_dqm/cmsml4dc/2016-v1/data2016_v2/'\n",
    "base_path_h5  = '/eos/cms/store/user/fsiroky/hdf5_data/'\n",
    "\n",
    "\n",
    "def read_paths_file( filename ):\n",
    "    with open( os.path.join( 'texts', filename ), 'r' ) as f:\n",
    "        return [ path.strip() for path in f ]\n",
    "    \n",
    "paths_npy_arrays   = read_paths_file( 'paths_to_npy_arrays.txt'  )\n",
    "paths_signal       = read_paths_file( 'paths_to_signal.txt'      )\n",
    "paths_signalh5     = read_paths_file( 'paths_to_signalh5.txt'    )\n",
    "paths_background   = read_paths_file( 'paths_to_background.txt'  )\n",
    "paths_backgroundh5 = read_paths_file( 'paths_to_backgroundh5.txt')\n",
    "\n",
    "print((paths_npy_arrays[0]))\n",
    "print(len(paths_signal))\n",
    "print(len(paths_signalh5))\n",
    "print(len(paths_background))\n",
    "print(len(paths_backgroundh5))\n",
    "\n",
    "for i in range (0,len(paths_npy_arrays)):\n",
    "    print(base_path_npy+paths_npy_arrays[i])\n",
    "    paths = get_npy_paths(base_path_npy+paths_npy_arrays[i]) \n",
    "    arr_gen = array_generator(paths)\n",
    "#     n_sig = 0\n",
    "#     n_back = 0\n",
    "    break_after = 1300\n",
    "#     minimum = np.zeros(len(var_names_reduced5)*7+2)+np.inf\n",
    "#     maximum = np.zeros(len(var_names_reduced5)*7+2)-np.inf\n",
    "    arr = next(arr_gen)\n",
    "    sigVals, backVals = get_filtered_events(arr, var_names_reduced5)\n",
    "    \n",
    "    f = h5py.File(base_path_h5+paths_signalh5[i], 'w')\n",
    "    g = h5py.File(base_path_h5+paths_backgroundh5[i], 'w')\n",
    "\n",
    "\n",
    "    for (e,arr) in enumerate(arr_gen):\n",
    "        if e%30==0:\n",
    "            print(str(e)+' ', end=\"\")\n",
    "        if e>break_after:\n",
    "            break\n",
    "        \n",
    "        sigVals_new, backVals_new = get_filtered_events(arr, var_names_reduced5)\n",
    "        sigVals  = np.concatenate((sigVals, sigVals_new), axis=0)\n",
    "        backVals = np.concatenate((backVals, backVals_new), axis=0)\n",
    "    \n",
    "# dset = f.create_dataset(\"jet_C_signal\", chunks=True, dtype='float64', data=sigVals)\n",
    "    dset = f.create_dataset(paths_signal[i], chunks=True, dtype='float64', data=sigVals)\n",
    "# Name is list_of_hdf5... minus the .h5\n",
    "# dset = f.create_dataset(\"jet_C_background\", chunks=True, dtype='float64', data=backVals)\n",
    "    f.close()\n",
    "    dset = g.create_dataset(paths_background[i], chunks=True, dtype='float64', data=backVals)\n",
    "    g.close()\n",
    "\n",
    "# #     n_sig += len(sigVals)\n",
    "# #     n_back += len(backVals)\n",
    "#     #print(\"n_sig is\",n_sig)\n",
    "#     #print(\"n_back is\", n_back)"
   ]
  },
  {
   "cell_type": "code",
   "execution_count": null,
   "metadata": {
    "collapsed": true
   },
   "outputs": [],
   "source": [
    "df = pd.DataFrame(sigVals)"
   ]
  },
  {
   "cell_type": "code",
   "execution_count": 10,
   "metadata": {
    "collapsed": false
   },
   "outputs": [
    {
     "ename": "NameError",
     "evalue": "name 'paths' is not defined",
     "output_type": "error",
     "traceback": [
      "\u001b[0;31m---------------------------------------------------------------------------\u001b[0m",
      "\u001b[0;31mNameError\u001b[0m                                 Traceback (most recent call last)",
      "\u001b[0;32m<ipython-input-10-0977be5f70f1>\u001b[0m in \u001b[0;36m<module>\u001b[0;34m()\u001b[0m\n\u001b[0;32m----> 1\u001b[0;31m \u001b[0mprint\u001b[0m\u001b[0;34m(\u001b[0m\u001b[0mpaths\u001b[0m\u001b[0;34m)\u001b[0m\u001b[0;34m\u001b[0m\u001b[0m\n\u001b[0m",
      "\u001b[0;31mNameError\u001b[0m: name 'paths' is not defined"
     ]
    }
   ],
   "source": [
    "print(paths)"
   ]
  },
  {
   "cell_type": "code",
   "execution_count": null,
   "metadata": {
    "collapsed": false
   },
   "outputs": [],
   "source": [
    "print(len(backVals))"
   ]
  },
  {
   "cell_type": "code",
   "execution_count": null,
   "metadata": {
    "collapsed": false
   },
   "outputs": [],
   "source": [
    "labels = []\n",
    "for i in range(len(var_names_reduced5)):\n",
    "        for suffix in ['Mean','RMS','Q1','Q2','Q3','Q4','Q5']:\n",
    "            labels.append(var_names_reduced5[i]+'_'+suffix)\n",
    "labels +=['crossSection', 'pathRates']            "
   ]
  },
  {
   "cell_type": "code",
   "execution_count": null,
   "metadata": {
    "collapsed": false
   },
   "outputs": [],
   "source": [
    "zeros_only = []\n",
    "for i in range(len(maximum)):\n",
    "    print(labels[i], '\\t', minimum[i], maximum[i])\n",
    "    if minimum[i]==0.0 and maximum[i]==0.0:\n",
    "        zeros_only.append(labels[i])\n",
    "        \n",
    "print(len(zeros_only))\n",
    "print(len(zeros_only))"
   ]
  },
  {
   "cell_type": "code",
   "execution_count": null,
   "metadata": {
    "collapsed": false
   },
   "outputs": [],
   "source": [
    "whos"
   ]
  },
  {
   "cell_type": "code",
   "execution_count": null,
   "metadata": {
    "collapsed": false
   },
   "outputs": [],
   "source": [
    "print(sigVals)\n",
    "\n"
   ]
  },
  {
   "cell_type": "code",
   "execution_count": null,
   "metadata": {
    "collapsed": false
   },
   "outputs": [],
   "source": [
    "\n",
    "# h5f = h5py.File('data.h5', 'w')\n",
    "# h5f.create_dataset('dataset_1', data=sigVals)\n",
    "# h5f.create_dataset('dataset_2', data=backVals)\n",
    "# h5f.close()"
   ]
  },
  {
   "cell_type": "code",
   "execution_count": null,
   "metadata": {
    "collapsed": false
   },
   "outputs": [],
   "source": [
    "print(np.size(sigVals))"
   ]
  },
  {
   "cell_type": "code",
   "execution_count": null,
   "metadata": {
    "collapsed": false
   },
   "outputs": [],
   "source": [
    "# h5f = h5py.File('data.h5','r')\n",
    "# b = h5f['dataset_1'][:]\n",
    "# h5f.close()"
   ]
  },
  {
   "cell_type": "code",
   "execution_count": null,
   "metadata": {
    "collapsed": false
   },
   "outputs": [],
   "source": [
    "backVals.dtype"
   ]
  },
  {
   "cell_type": "code",
   "execution_count": null,
   "metadata": {
    "collapsed": false
   },
   "outputs": [],
   "source": [
    "# import h5py\n",
    "# f = h5py.File('test_autochunk.h5', 'w')\n",
    "# dset = f.create_dataset(\"autochunk\", (40, 2802), chunks=True, dtype='float64', data=sigVals)\n",
    "# f.close()\n",
    "# # dtype='float64'"
   ]
  },
  {
   "cell_type": "code",
   "execution_count": null,
   "metadata": {
    "collapsed": false
   },
   "outputs": [],
   "source": [
    "# g = h5py.File('JetHC_C.h5','r')\n",
    "g = h5py.File('JetHC_D.h5','r')\n",
    "# c = g[\"jet_C_background\"][:]\n",
    "c = g[\"jet_D_background\"][:]\n",
    "# d = g[\"jet_C_signal\"][:]\n",
    "d = g[\"jet_D_signal\"][:]\n",
    "\n",
    "g.close()\n",
    "print(len(c))\n",
    "print(c)\n",
    "print(len(d))\n",
    "print(d)\n",
    "\n"
   ]
  },
  {
   "cell_type": "code",
   "execution_count": null,
   "metadata": {
    "collapsed": false
   },
   "outputs": [],
   "source": [
    "jetCfile = h5py.File('../../public/JetHC_Cbackground.h5','r')\n",
    "jetC = jetCfile[\"jet_C_background\"][:]\n",
    "jetDfile = h5py.File('../../public/JetHC_D_background.h5','r')\n",
    "jetD = jetDfile[\"jet_D_background\"][:]\n",
    "jetEfile = h5py.File('../../public/JetHC_E_background.h5','r')\n",
    "jetE = jetEfile[\"jet_E_background\"][:]\n",
    "jetFfile = h5py.File('../../public/JetHC_F_background.h5','r')\n",
    "jetF = jetFfile[\"jet_F_background\"][:]\n",
    "jetGfile = h5py.File('../../public/JetHC_G_background.h5','r')\n",
    "jetG = jetGfile[\"jet_G_background\"][:]\n",
    "jetHfile = h5py.File('../../public/JetHC_H_background.h5','r')\n",
    "jetH = jetHfile[\"jet_H_background\"][:]"
   ]
  },
  {
   "cell_type": "code",
   "execution_count": null,
   "metadata": {
    "collapsed": true
   },
   "outputs": [],
   "source": [
    "bad_jets = np.concatenate((jetC,jetD,jetE,jetF,jetG,jetH), axis=0)"
   ]
  },
  {
   "cell_type": "code",
   "execution_count": null,
   "metadata": {
    "collapsed": false
   },
   "outputs": [],
   "source": [
    "good_jets=np.empty([0,2802])\n",
    "ratio=len(jetCbackground)/len(jetCsignal)\n",
    "\n",
    "jetCfile = h5py.File('../../public/JetHC_Csignal.h5','r')\n",
    "jetC = jetCfile[\"jet_C_signal\"][:]\n",
    "\n",
    "# jetDfile = h5py.File('../../public/JetHC_D_signal.h5','r')\n",
    "# jetD = jetDfile[\"jet_D_signal\"][:]\n",
    "# jetEfile = h5py.File('../../public/JetHC_E_signal.h5','r')\n",
    "# jetE = jetEfile[\"jet_E_signal\"][:]\n",
    "# jetFfile = h5py.File('../../public/JetHC_F_signal.h5','r')\n",
    "# jetF = jetFfile[\"jet_F_signal\"][:]\n",
    "# jetGfile = h5py.File('../../public/JetHC_G_signal.h5','r')\n",
    "# jetG = jetGfile[\"jet_G_signal\"][:]\n",
    "# jetHfile = h5py.File('../../public/JetHC_H_signal.h5','r')\n",
    "# jetH = jetHfile[\"jet_H_signal\"][:]"
   ]
  },
  {
   "cell_type": "code",
   "execution_count": null,
   "metadata": {
    "collapsed": false
   },
   "outputs": [],
   "source": [
    "\n",
    "mask = np.random.rand(len(jetC))<ratio\n",
    "good_jets = np.concatenate((good_jets, jetC[mask]), axis=0)\n",
    "good_jets.shape\n",
    "# mask = np.random.rand(len(jetD))<ratio\n",
    "# good_jets = np.concatenate((good_jets, jetD[mask]), axis=0)\n",
    "# good_jets.shape"
   ]
  },
  {
   "cell_type": "code",
   "execution_count": null,
   "metadata": {
    "collapsed": false
   },
   "outputs": [],
   "source": [
    "np.random.seed(25744)\n",
    "np.random.rand(8)"
   ]
  },
  {
   "cell_type": "code",
   "execution_count": null,
   "metadata": {
    "collapsed": false
   },
   "outputs": [],
   "source": [
    "bg_files = ['../../public/JetHC_Cbackground.h5', '../../public/JetHC_D_background.h5','../../public/JetHC_E_background.h5','../../public/JetHC_F_background.h5','../../public/JetHC_G_background.h5','../../public/JetHC_H_background.h5']\n",
    "bg_jets = [\"jet_C_background\", \"jet_D_background\",\"jet_E_background\",\"jet_F_background\",\"jet_G_background\",\"jet_H_background\"]\n",
    "sig_files = ['../../public/JetHC_Csignal.h5', '../../public/JetHC_D_signal.h5', '../../public/JetHC_E_signal.h5', '../../public/JetHC_F_signal.h5', '../../public/JetHC_G_signal.h5', '../../public/JetHC_H_signal.h5']\n",
    "sig_jets = [\"jet_C_signal\", \"jet_D_signal\", \"jet_E_signal\", \"jet_F_signal\", \"jet_G_signal\", \"jet_H_signal\"]\n",
    "\n",
    "good_jets=np.empty([0,2802])\n",
    "bad_jets=np.empty([0,2802])\n",
    "np.random.seed(24)\n",
    "for i in range(len(bg_files)):\n",
    "    bg_jetfile = h5py.File(bg_files[i],'r')\n",
    "    bg_jet = bg_jetfile[bg_jets[i]][:]\n",
    "    sig_jetfile = h5py.File(sig_files[i],'r')\n",
    "    sig_jet = sig_jetfile[sig_jets[i]][:]\n",
    "    \n",
    "    bad_jets = np.concatenate((bad_jets, bg_jet), axis=0)\n",
    "\n",
    "    ratio=0.2*len(bg_jet)/len(sig_jet)\n",
    "\n",
    "    mask = np.random.rand(len(sig_jet))<ratio\n",
    "    good_jets = np.concatenate((good_jets, sig_jet[mask]), axis=0)\n",
    "    #change the way of saving good_jets if we want to normalize C,D,... specifically\n",
    "    \n",
    "    \n",
    "    print(np.sum(mask), len(bg_jet))\n",
    "    "
   ]
  },
  {
   "cell_type": "code",
   "execution_count": null,
   "metadata": {
    "collapsed": false
   },
   "outputs": [],
   "source": [
    "print(len(good_jets)/len(bad_jets))"
   ]
  },
  {
   "cell_type": "code",
   "execution_count": null,
   "metadata": {
    "collapsed": false
   },
   "outputs": [],
   "source": [
    "from sklearn.model_selection import train_test_split\n",
    "from sklearn.utils import shuffle\n",
    "x_train = np.concatenate((good_jets,bad_jets), axis=0)\n",
    "y_train = np.zeros(len(x_train))\n",
    "y_train[0:len(good_jets)]=1\n",
    "# mask = np.random.shuffle(np.arange(len(x_train)))\n",
    "mask = shuffle((np.arange(len(x_train))), random_state=42)\n",
    "\n",
    "x_train = x_train[mask]\n",
    "y_train = y_train[mask]\n",
    "\n",
    "x_train, x_test, y_train, y_test = train_test_split(x_train, y_train, test_size=0.15, random_state=42)\n",
    "# y_train = y_train.reshape((-1, 1))\n",
    "print(x_train.shape, y_train.shape)\n",
    "\n",
    "data = np.random.random((1000, 100))\n",
    "labels = np.random.randint(2, size=(1000, 1))\n",
    "\n",
    "print(data.shape,labels.shape)\n"
   ]
  },
  {
   "cell_type": "code",
   "execution_count": null,
   "metadata": {
    "collapsed": false
   },
   "outputs": [],
   "source": [
    "from keras.models import Sequential\n",
    "\n",
    "model = Sequential()\n",
    "\n",
    "from keras.layers import Dense, Activation, Dropout\n",
    "\n",
    "model = Sequential()\n",
    "model.add(Dense(1000, input_dim=2802, activation='relu'))\n",
    "model.add(Dropout(0.1))\n",
    "model.add(Dense(500, activation='relu'))\n",
    "model.add(Dropout(0.1))\n",
    "model.add(Dense(1, activation='softmax'))\n",
    "\n",
    "model.compile(loss='binary_crossentropy',\n",
    "              optimizer='adam',\n",
    "              metrics=['accuracy'])\n",
    "\n",
    "model.fit(x_train, y_train,\n",
    "          epochs=10,\n",
    "          batch_size=32)\n",
    "score = model.evaluate(x_test, y_test, batch_size=32)\n",
    "\n"
   ]
  },
  {
   "cell_type": "code",
   "execution_count": null,
   "metadata": {
    "collapsed": false
   },
   "outputs": [],
   "source": [
    "print(len(x_train))\n",
    "print(len(y_train))\n",
    "print(x_train)\n",
    "print(x_test)"
   ]
  },
  {
   "cell_type": "code",
   "execution_count": null,
   "metadata": {
    "collapsed": true
   },
   "outputs": [],
   "source": [
    "def normalize(h):\n",
    "    return h / np.sum(h)\n",
    "\n",
    "def bhattacharyya(h1, h2):\n",
    "  '''Calculates the Byattacharyya distance of two histograms.'''\n",
    "\n",
    "  return 1 - np.sum(np.sqrt(np.multiply(normalize(h1), normalize(h2))))"
   ]
  },
  {
   "cell_type": "code",
   "execution_count": null,
   "metadata": {
    "collapsed": true
   },
   "outputs": [],
   "source": [
    "def plot_variables(sigVals, backVals, var_list, save_figs_path=None, var_range_to_plot=None):\n",
    "    if var_range_to_plot is None:\n",
    "        var_range_to_plot = range(len(var_list))\n",
    "    \n",
    "    labels = []\n",
    "    for i in range(len(var_list)):\n",
    "            for suffix in ['Mean','RMS','Q1','Q2','Q3','Q4','Q5']:\n",
    "                labels.append(var_list[i]+'_'+suffix)\n",
    "    \n",
    "    for var_id in var_range_to_plot: \n",
    "        print(var_list[var_id])\n",
    "        fig = plt.figure(figsize=(15, 7))\n",
    "        for i in range(7):\n",
    "            plt.subplot(2, 4, i + 1)    \n",
    "            index = var_id*7+i\n",
    "            minimum = np.min( [np.min(backVals[:,index]), np.min(sigVals[:,index])] )\n",
    "            maximum = np.max( [np.max(backVals[:,index]), np.max(sigVals[:,index])] )\n",
    "#             back_dist = plt.hist(backVals[:,index], 100, range=(minimum,maximum), facecolor='red', alpha=0.5, label=\"background\", normed = True)\n",
    "#             sig_dist = plt.hist(sigVals[:,index], 100, range=(minimum,maximum), facecolor='blue', alpha=0.5, label=\"normal\", normed = True)\n",
    "            back_dist = plt.hist(backVals[:,index], 100, range=(minimum,maximum), facecolor='red', alpha=0.5, label=\"background\", normed = False)\n",
    "            sig_dist = plt.hist(sigVals[:,index], 100, range=(minimum,maximum), facecolor='blue', alpha=0.5, label=\"normal\", normed = False)\n",
    "\n",
    "            bhat = bhattacharyya(back_dist[0], sig_dist[0])\n",
    "#             ks = ks_2samp(back_dist[0], sig_dist[0])\n",
    "#             rms = rms_dist(back_dist[0], sig_dist[0])\n",
    "#             rms2 = rms_dist2(back_dist[0], sig_dist[0])\n",
    "#             distance.\n",
    "#             plt.plot([],[], '.', label=\"Bhatta {:.6f} \\nK-S  s={:.6f} \\n      p={:.6f}\".format(bhat,ks[0],ks[1]))\n",
    "#             plt.plot([],[], '.', label=\"Bhatta {:.6f} \\nrms= {:.6f} \\nrms2={:.6f}\".format(bhat,rms,rms2))\n",
    "            \n",
    "            plt.plot([],[], '.', label=\"Bhatta {:.4f}\".format(bhat))\n",
    "\n",
    "            plt.legend(loc=\"upper right\")\n",
    "            plt.title(labels[index],fontsize=16)\n",
    "\n",
    "        ax = plt.subplot(2,4,8)\n",
    "        plt.plot([0,1],[0,1],'.')\n",
    "    #     plt.title('notes',fontsize=16)\n",
    "        plt.text(0, 0.9, 'number of events', fontsize=15)\n",
    "        plt.text(0, 0.7, 'background '+str(backVals.shape[0]), fontsize=15)\n",
    "        plt.text(0, 0.5, 'normal '+str(sigVals.shape[0]), fontsize=15)\n",
    "        plt.setp(ax.get_xticklabels(),visible=False)\n",
    "        plt.setp(ax.get_yticklabels(),visible=False)\n",
    "\n",
    "        plt.tight_layout()\n",
    "        # setting the global title and pushing the subplots down accordingly \n",
    "        st = fig.suptitle(var_list[var_id], fontsize=25)\n",
    "        st.set_y(0.95)\n",
    "        fig.subplots_adjust(top=0.85)\n",
    "        \n",
    "        if save_figs_path is not None:\n",
    "            plt.savefig(save_figs_path+'/'+var_list[var_id]+'.png', dpi=fig.dpi)\n",
    "    print('done plot_variables')"
   ]
  },
  {
   "cell_type": "code",
   "execution_count": null,
   "metadata": {
    "collapsed": false
   },
   "outputs": [],
   "source": [
    "\n",
    "plot_variables(good_jets, bad_jets, var_names_reduced5, var_range_to_plot=[44,58])"
   ]
  },
  {
   "cell_type": "code",
   "execution_count": null,
   "metadata": {
    "collapsed": false
   },
   "outputs": [],
   "source": [
    "sig_jets.shape"
   ]
  },
  {
   "cell_type": "code",
   "execution_count": null,
   "metadata": {
    "collapsed": true
   },
   "outputs": [],
   "source": []
  },
  {
   "cell_type": "code",
   "execution_count": null,
   "metadata": {
    "collapsed": true
   },
   "outputs": [],
   "source": []
  },
  {
   "cell_type": "code",
   "execution_count": null,
   "metadata": {
    "collapsed": true
   },
   "outputs": [],
   "source": []
  }
 ],
 "metadata": {
  "kernelspec": {
   "display_name": "Python 3",
   "language": "python",
   "name": "python3"
  },
  "language_info": {
   "codemirror_mode": {
    "name": "ipython",
    "version": 3
   },
   "file_extension": ".py",
   "mimetype": "text/x-python",
   "name": "python",
   "nbconvert_exporter": "python",
   "pygments_lexer": "ipython3",
   "version": "3.6.0"
  }
 },
 "nbformat": 4,
 "nbformat_minor": 2
}
