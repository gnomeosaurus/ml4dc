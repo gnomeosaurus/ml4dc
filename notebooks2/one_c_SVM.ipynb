{
 "cells": [
  {
   "cell_type": "code",
   "execution_count": 7,
   "metadata": {
    "collapsed": false
   },
   "outputs": [],
   "source": [
    "import os\n",
    "import time\n",
    "import h5py\n",
    "import numpy as np\n",
    "from sklearn.svm import *\n",
    "import matplotlib.pyplot as plt\n",
    "import matplotlib.font_manager\n",
    "\n",
    "from sklearn.model_selection import train_test_split\n",
    "from sklearn.utils import shuffle\n",
    "from sklearn.preprocessing import Normalizer\n",
    "from sklearn.metrics import roc_auc_score"
   ]
  },
  {
   "cell_type": "code",
   "execution_count": 8,
   "metadata": {
    "collapsed": false
   },
   "outputs": [
    {
     "name": "stdout",
     "output_type": "stream",
     "text": [
      "17\n"
     ]
    }
   ],
   "source": [
    "# b_h5 = '/eos/cms/store/user/fsiroky/hdf5_data/'\n",
    "# b_h5 = '/mnt/hdf5test/'\n",
    "b_h5   = '/home/test_local/'\n",
    "\n",
    "pds  = {1: 'BTagCSV', 2: 'BTagMu', 3: 'Charmonium', 4:'DisplacedJet', 5: 'DoubleEG',\n",
    "        6: 'DoubleMuon', 7: 'DoubleMuonLowMass',\n",
    "       # 8: 'FSQJets', 9: 'HighMultiplicityEOF', #NOT ENOUGH DATA, NOTEBOOK FAILES\n",
    "        10: 'HTMHT', 11: 'JetHT', 12: 'MET',\n",
    "       # 13: 'MinimumBias', #NOT ENOUGH DATA\n",
    "        14: 'MuonEG', 15: 'MuOnia',\n",
    "       # 16: 'NoBPTX',\n",
    "        17: 'SingleElectron', 18: 'SingleMuon', 19: 'SinglePhoton', 20: 'Tau', 21: 'ZeroBias'\n",
    "}\n",
    "print(len(pds))\n",
    "nbr = 1\n",
    "\n",
    "bg_files  = [b_h5+pds[nbr]+'_C_background.h5',b_h5+pds[nbr]+'_D_background.h5', b_h5+pds[nbr]+'_E_background.h5',\n",
    "             b_h5+pds[nbr]+'_F_background.h5', b_h5+pds[nbr]+'_G_background.h5', b_h5+pds[nbr]+'_H_background.h5']\n",
    "\n",
    "bg_jets   = [pds[nbr]+\"_C_background\", pds[nbr]+\"_D_background\", pds[nbr]+\"_E_background\",\n",
    "             pds[nbr]+\"_F_background\", pds[nbr]+\"_G_background\", pds[nbr]+\"_H_background\"]\n",
    "\n",
    "sig_files = [b_h5+pds[nbr]+'_C_signal.h5',b_h5+pds[nbr]+'_D_signal.h5', b_h5+pds[nbr]+'_E_signal.h5',\n",
    "             b_h5+pds[nbr]+'_F_signal.h5', b_h5+pds[nbr]+'_G_signal.h5', b_h5+pds[nbr]+'_H_signal.h5']\n",
    "\n",
    "sig_jets  = [pds[nbr]+\"_C_signal\", pds[nbr]+\"_D_signal\", pds[nbr]+\"_E_signal\",\n",
    "             pds[nbr]+\"_F_signal\", pds[nbr]+\"_G_signal\", pds[nbr]+\"_H_signal\"]\n",
    "\n",
    "\n",
    "\n",
    "      \n",
    "def get_jets(bg_files, bg_jets, sig_files, sig_jets):\n",
    "    good_jets = np.empty([0,2802])\n",
    "    bad_jets  = np.empty([0,2802])\n",
    "    np.random.seed(24)\n",
    "    for i in range(len(bg_files)-4):\n",
    "        try:\n",
    "            bg_jetfile  = h5py.File(bg_files[i],'r')\n",
    "            bg_jet      = bg_jetfile[bg_jets[i]][:]\n",
    "            sig_jetfile = h5py.File(sig_files[i],'r')\n",
    "            sig_jet     = sig_jetfile[sig_jets[i]][:]\n",
    "\n",
    "            bad_jets    = np.concatenate((bad_jets, bg_jet), axis=0)\n",
    "            good_jets = np.concatenate((good_jets, sig_jet), axis=0)\n",
    "            print(len(bg_jet),  len(sig_jet)) #FIX HERE\n",
    "\n",
    "        except OSError:\n",
    "            print(\"This Primary Dataset doesn't have \", bg_jets[i])\n",
    "    return good_jets, bad_jets\n",
    "\n",
    "def get_train_test_split(good_jets, bad_jets, test_size_ratio):\n",
    "    x_train = np.concatenate((good_jets,bad_jets), axis=0)\n",
    "    scaler = Normalizer()\n",
    "    scaler.fit(x_train)\n",
    "    x_train = scaler.transform(x_train)\n",
    "\n",
    "    y_train = np.zeros(len(x_train))\n",
    "    y_train[0:len(good_jets)]=1\n",
    "    mask = shuffle((np.arange(len(x_train))), random_state=42)\n",
    "\n",
    "    x_train = x_train[mask]\n",
    "    y_train = y_train[mask]\n",
    "\n",
    "    x_train, x_test, y_train, y_test = train_test_split(x_train, y_train, test_size=test_size_ratio, random_state=42)\n",
    "    return x_train, x_test, y_train, y_test"
   ]
  },
  {
   "cell_type": "code",
   "execution_count": 9,
   "metadata": {
    "collapsed": false
   },
   "outputs": [
    {
     "name": "stdout",
     "output_type": "stream",
     "text": [
      "315 13568\n",
      "138 27151\n",
      "[[  8.12587693e-05   1.62688207e-04   2.72205659e-05 ...,   1.71019092e-05\n",
      "    6.89707631e-02   9.65590684e-01]\n",
      " [  9.98850415e-05   2.12585522e-04   2.99462851e-05 ...,   1.88124946e-05\n",
      "    7.63460920e-02   9.92499261e-01]\n",
      " [  8.71187095e-05   1.71776221e-04   2.92519850e-05 ...,   1.83786394e-05\n",
      "    7.07142961e-02   9.90000122e-01]\n",
      " ..., \n",
      " [  1.07564775e-04   2.19287995e-04   3.59651565e-05 ...,   2.25926536e-05\n",
      "    7.61886195e-02   9.90452082e-01]\n",
      " [  7.51688294e-05   1.57751984e-04   2.46976985e-05 ...,   1.55149653e-05\n",
      "    6.67604012e-02   9.34645607e-01]\n",
      " [  9.27216767e-05   1.87667305e-04   3.06596988e-05 ...,   1.92619551e-05\n",
      "    7.62625309e-02   9.91412896e-01]]\n",
      "[[  1.07640855e-04   2.26488437e-04   3.52367266e-05 ...,   2.21389482e-05\n",
      "    7.63458455e-02   9.92495984e-01]\n",
      " [  1.10914465e-04   2.43690981e-04   3.35233240e-05 ...,   2.10564565e-05\n",
      "    7.62490260e-02   9.91237377e-01]\n",
      " [  8.15658814e-05   1.59530510e-04   2.75447619e-05 ...,   1.73062363e-05\n",
      "    6.78182670e-02   8.81637422e-01]\n",
      " ..., \n",
      " [  1.17266258e-04   2.46115640e-04   3.29627214e-05 ...,   2.06947069e-05\n",
      "    7.35618598e-02   9.56304171e-01]\n",
      " [  1.03230026e-04   1.94219845e-04   3.47811322e-05 ...,   2.18529668e-05\n",
      "    7.63009051e-02   9.91911766e-01]\n",
      " [  5.42076496e-05   1.05950137e-04   1.81993870e-05 ...,   1.14346781e-05\n",
      "    3.53065179e-02   4.58984733e-01]]\n"
     ]
    }
   ],
   "source": [
    "\n",
    "\n",
    "good_jets, bad_jets = get_jets(bg_files, bg_jets, sig_files, sig_jets)\n",
    "x_train, x_test, y_train, y_test = get_train_test_split(good_jets, bad_jets, test_size_ratio=0.15)\n",
    "# x_train, x_val, y_train, y_val   = train_test_split(x_train, y_train, test_size=0.15, random_state=1)\n",
    "print(x_train)\n",
    "print(x_test)\n",
    "del(good_jets)\n",
    "del(bad_jets)\n",
    "\n",
    "sigInd     = np.where(y_train==1)\n",
    "backInd    = np.where(y_train==0)\n",
    "\n",
    "sigIndTest  = np.where(y_test==1)\n",
    "backIndTest = np.where(y_test==0) \n",
    "\n",
    "sigVals    = x_train[sigInd]\n",
    "backVals   = x_train[backInd]\n",
    "sigTarget  = y_train[sigInd]\n",
    "backTarget = y_train[backInd]\n",
    "del(x_train)\n",
    "del(y_train)\n",
    "\n",
    "sigValsTest    = x_test[sigIndTest]\n",
    "backValsTest   = x_test[backIndTest] \n",
    "sigTargetTest  = y_test[sigIndTest]\n",
    "backTargetTest = y_test[backIndTest]\n",
    "del(x_test)\n",
    "del(y_test)\n",
    "\n",
    "X_outliers = np.concatenate((backVals, backValsTest), axis=0)\n"
   ]
  },
  {
   "cell_type": "code",
   "execution_count": 6,
   "metadata": {
    "collapsed": false
   },
   "outputs": [
    {
     "name": "stdout",
     "output_type": "stream",
     "text": [
      "Variable               Type        Data/Info\n",
      "--------------------------------------------\n",
      "LinearSVC              type        <class 'sklearn.svm.classes.LinearSVC'>\n",
      "LinearSVR              ABCMeta     <class 'sklearn.svm.classes.LinearSVR'>\n",
      "Normalizer             type        <class 'sklearn.preprocessing.data.Normalizer'>\n",
      "NuSVC                  ABCMeta     <class 'sklearn.svm.classes.NuSVC'>\n",
      "NuSVR                  ABCMeta     <class 'sklearn.svm.classes.NuSVR'>\n",
      "OneClassSVM            ABCMeta     <class 'sklearn.svm.classes.OneClassSVM'>\n",
      "SVC                    ABCMeta     <class 'sklearn.svm.classes.SVC'>\n",
      "SVR                    ABCMeta     <class 'sklearn.svm.classes.SVR'>\n",
      "X_outliers             ndarray     453x2802: 1269306 elems, type `float64`, 10154448 bytes (9.684036254882812 Mb)\n",
      "b_h5                   str         /home/test_local/\n",
      "backInd                tuple       n=1\n",
      "backIndTest            tuple       n=1\n",
      "backTarget             ndarray     382: 382 elems, type `float64`, 3056 bytes\n",
      "backTargetTest         ndarray     71: 71 elems, type `float64`, 568 bytes\n",
      "backVals               ndarray     382x2802: 1070364 elems, type `float64`, 8562912 bytes (8.166229248046875 Mb)\n",
      "backValsTest           ndarray     71x2802: 198942 elems, type `float64`, 1591536 bytes (1.5178070068359375 Mb)\n",
      "bg_files               list        n=6\n",
      "bg_jets                list        n=6\n",
      "get_jets               function    <function get_jets at 0x7fbf7061bae8>\n",
      "get_train_test_split   function    <function get_train_test_split at 0x7fbf7061bf28>\n",
      "h5py                   module      <module 'h5py' from '/usr<...>ckages/h5py/__init__.py'>\n",
      "l1_min_c               function    <function l1_min_c at 0x7fbf7061b9d8>\n",
      "liblinear              module      <module 'sklearn.svm.libl<...>36m-x86_64-linux-gnu.so'>\n",
      "libsvm                 module      <module 'sklearn.svm.libs<...>36m-x86_64-linux-gnu.so'>\n",
      "libsvm_sparse          module      <module 'sklearn.svm.libs<...>36m-x86_64-linux-gnu.so'>\n",
      "nbr                    int         1\n",
      "np                     module      <module 'numpy' from '/us<...>kages/numpy/__init__.py'>\n",
      "os                     module      <module 'os' from '/usr/a<...>da3/lib/python3.6/os.py'>\n",
      "pds                    dict        n=17\n",
      "roc_auc_score          function    <function roc_auc_score at 0x7fbf71f62048>\n",
      "shuffle                function    <function shuffle at 0x7fbf7429f620>\n",
      "sigInd                 tuple       n=1\n",
      "sigIndTest             tuple       n=1\n",
      "sigTarget              ndarray     34614: 34614 elems, type `float64`, 276912 bytes (270.421875 kb)\n",
      "sigTargetTest          ndarray     6105: 6105 elems, type `float64`, 48840 bytes\n",
      "sigVals                ndarray     34614x2802: 96988428 elems, type `float64`, 775907424 bytes (739.9629821777344 Mb)\n",
      "sigValsTest            ndarray     6105x2802: 17106210 elems, type `float64`, 136849680 bytes (130.51002502441406 Mb)\n",
      "sig_files              list        n=6\n",
      "sig_jets               list        n=6\n",
      "time                   module      <module 'time' (built-in)>\n",
      "train_test_split       function    <function train_test_split at 0x7fbf719037b8>\n"
     ]
    }
   ],
   "source": [
    "whos"
   ]
  },
  {
   "cell_type": "code",
   "execution_count": 10,
   "metadata": {
    "collapsed": false
   },
   "outputs": [
    {
     "data": {
      "text/plain": [
       "OneClassSVM(cache_size=200, coef0=0.0, degree=3, gamma=0.06, kernel='rbf',\n",
       "      max_iter=-1, nu=0.05, random_state=None, shrinking=True, tol=0.001,\n",
       "      verbose=False)"
      ]
     },
     "execution_count": 10,
     "metadata": {},
     "output_type": "execute_result"
    }
   ],
   "source": [
    "nuVal    = 0.05\n",
    "gammaVal = 0.06\n",
    "clf  = OneClassSVM(nu=nuVal, kernel = 'rbf', gamma = gammaVal)\n",
    "clf.fit(sigVals)\n",
    "\n"
   ]
  },
  {
   "cell_type": "code",
   "execution_count": 11,
   "metadata": {
    "collapsed": false
   },
   "outputs": [],
   "source": [
    "y_pred_train = clf.predict(sigVals)\n",
    "y_pred_test = clf.predict(sigValsTest)\n",
    "y_pred_outliers = clf.predict(X_outliers)\n",
    "n_error_train = y_pred_train[y_pred_train == -1].size\n",
    "n_error_test = y_pred_test[y_pred_test == -1].size\n",
    "n_error_outliers = y_pred_outliers[y_pred_outliers == 1].size"
   ]
  },
  {
   "cell_type": "code",
   "execution_count": 13,
   "metadata": {
    "collapsed": false
   },
   "outputs": [],
   "source": [
    "\n",
    "falseNegTrain = y_pred_train[y_pred_train == -1].size\n",
    "falseNegTest = y_pred_test[y_pred_test == -1].size\n",
    "falsePos = y_pred_outliers[y_pred_outliers == 1].size\n",
    "truePosTrain = y_pred_train[y_pred_train == 1].size\n",
    "truePosTest = y_pred_test[y_pred_test == 1].size"
   ]
  },
  {
   "cell_type": "code",
   "execution_count": 16,
   "metadata": {
    "collapsed": false
   },
   "outputs": [],
   "source": [
    "#Plots classification results for signal and background\n",
    "osvmArrs = []\n",
    "osvmHists = []\n",
    "\n",
    "#Separates decision function results into signal and background\n",
    "#along with training and testing\n",
    "osvmArrs.append(clf.decision_function(sigVals).ravel())\n",
    "osvmArrs.append(clf.decision_function(sigValsTest).ravel())\n",
    "osvmArrs.append(clf.decision_function(X_outliers).ravel())\n",
    "\n"
   ]
  },
  {
   "cell_type": "code",
   "execution_count": 21,
   "metadata": {
    "collapsed": false
   },
   "outputs": [
    {
     "name": "stderr",
     "output_type": "stream",
     "text": [
      "/usr/anaconda3/lib/python3.6/site-packages/matplotlib/__init__.py:1401: UserWarning:  This call to matplotlib.use() has no effect\n",
      "because the backend has already been chosen;\n",
      "matplotlib.use() must be called *before* pylab, matplotlib.pyplot,\n",
      "or matplotlib.backends is imported for the first time.\n",
      "\n",
      "  warnings.warn(_use_error_msg)\n"
     ]
    },
    {
     "name": "stdout",
     "output_type": "stream",
     "text": [
      "Loss Rate                                           :  4.995904995904995\n",
      "Pollution Rate                                      :  6.692406692406692\n",
      "Number of errors on training set :  1731  Percentage:  5.0008667013347194\n",
      "Number of errors on test set     :  305  Percentage:  4.995904995904995\n",
      "Number of errors on outliers set :  416   Percentage:  91.83222958057395\n"
     ]
    },
    {
     "data": {
      "image/png": "[encoded data removed]",
      "text/plain": [
       "<matplotlib.figure.Figure at 0x7fbf6acf8898>"
      ]
     },
     "metadata": {},
     "output_type": "display_data"
    }
   ],
   "source": [
    "#%jsroot on9\n",
    "%matplotlib inline\n",
    "matplotlib.use('Agg')\n",
    "\n",
    "#Sets up plot boundaries\n",
    "plotMin = min(min(osvmArrs[0]), min(osvmArrs[1]), min(osvmArrs[2]))\n",
    "plotMax = max(max(osvmArrs[0]), max(osvmArrs[1]), max(osvmArrs[2]))\n",
    "binz = np.linspace(plotMin, plotMax, 200)\n",
    "\n",
    "#Creates first histogram of Un-normalized Classification\n",
    "plt.figure(figsize=(7, 10))\n",
    "plt.subplot(211)\n",
    "plt.hist(osvmArrs[0], normed = False, bins = binz, edgecolor = 'red',   \n",
    "         facecolor = 'white', alpha=1, label = \"Signal Train\", linewidth = 1.5)\n",
    "plt.hist(osvmArrs[1], normed = False, bins = binz, edgecolor = 'green', \n",
    "         facecolor = 'white', alpha=1, label = \"Signal Test\")\n",
    "plt.hist(osvmArrs[2], normed = False, bins = binz, edgecolor = 'blue',  \n",
    "         facecolor = 'white', alpha=.5, label = \"Background\")\n",
    "plt.title(\"Classification Plot, OneClassSVM, Un-normalized, Nu = %s, Gamma = %s\" % (nuVal,gammaVal))\n",
    "plt.xlabel(\"Decision Function Score\")\n",
    "plt.ylabel(\"Counts per Bin\")\n",
    "plt.legend(loc = \"upper left\")\n",
    "\n",
    "#Creates second histogram of Normalized Classification\n",
    "plt.subplot(212)\n",
    "plt.hist(osvmArrs[0], normed = True, bins = binz, edgecolor = 'red',   \n",
    "         facecolor = 'white', alpha=1, label = \"Signal Train\", linewidth = 1.5)\n",
    "plt.hist(osvmArrs[1], normed = True, bins = binz, edgecolor = 'green', \n",
    "         facecolor = 'white', alpha=1, label = \"Signal Test\")\n",
    "plt.hist(osvmArrs[2], normed = True, bins = binz, edgecolor = 'blue',  \n",
    "         facecolor = 'white', alpha=.5, label = \"Background\")\n",
    "plt.title(\"Classification Plot, OneClassSVM, Normalized, Nu = %s, Gamma = %s\" % (nuVal,gammaVal))\n",
    "plt.xlabel(\"Decision Function Score\")\n",
    "plt.ylabel(\"Counts per Bin\")\n",
    "plt.legend()\n",
    "\n",
    "#Prints relevant statistics below\n",
    "print(\"Loss Rate                                           : \", (falseNegTest/(truePosTest+falseNegTest)*100))\n",
    "print(\"Pollution Rate                                      : \", (falsePos/(truePosTest+falsePos))*100)\n",
    "print(\"Number of errors on training set : \", falseNegTrain, \" Percentage: \", (falseNegTrain/len(sigVals)*100))\n",
    "print(\"Number of errors on test set     : \", falseNegTest, \" Percentage: \", (falseNegTest/len(sigValsTest)*100))\n",
    "print(\"Number of errors on outliers set : \", falsePos, \"  Percentage: \", (falsePos/len(X_outliers)*100))"
   ]
  },
  {
   "cell_type": "code",
   "execution_count": 26,
   "metadata": {
    "collapsed": false
   },
   "outputs": [
    {
     "ename": "ValueError",
     "evalue": "Found input variables with inconsistent numbers of samples: [6487, 6558]",
     "output_type": "error",
     "traceback": [
      "\u001b[0;31m---------------------------------------------------------------------------\u001b[0m",
      "\u001b[0;31mValueError\u001b[0m                                Traceback (most recent call last)",
      "\u001b[0;32m<ipython-input-26-516e4397b7a4>\u001b[0m in \u001b[0;36m<module>\u001b[0;34m()\u001b[0m\n\u001b[1;32m      3\u001b[0m \u001b[0myTest\u001b[0m \u001b[0;34m=\u001b[0m \u001b[0mnp\u001b[0m\u001b[0;34m.\u001b[0m\u001b[0mappend\u001b[0m\u001b[0;34m(\u001b[0m\u001b[0msigTargetTest\u001b[0m\u001b[0;34m,\u001b[0m \u001b[0mbackTarget\u001b[0m\u001b[0;34m)\u001b[0m\u001b[0;34m\u001b[0m\u001b[0m\n\u001b[1;32m      4\u001b[0m \u001b[0mosvmScore\u001b[0m \u001b[0;34m=\u001b[0m \u001b[0mnp\u001b[0m\u001b[0;34m.\u001b[0m\u001b[0mappend\u001b[0m\u001b[0;34m(\u001b[0m\u001b[0mosvmArrs\u001b[0m\u001b[0;34m[\u001b[0m\u001b[0;36m1\u001b[0m\u001b[0;34m]\u001b[0m\u001b[0;34m,\u001b[0m \u001b[0mosvmArrs\u001b[0m\u001b[0;34m[\u001b[0m\u001b[0;36m2\u001b[0m\u001b[0;34m]\u001b[0m\u001b[0;34m)\u001b[0m\u001b[0;34m\u001b[0m\u001b[0m\n\u001b[0;32m----> 5\u001b[0;31m \u001b[0mfpr\u001b[0m\u001b[0;34m,\u001b[0m \u001b[0mtpr\u001b[0m\u001b[0;34m,\u001b[0m \u001b[0m_\u001b[0m \u001b[0;34m=\u001b[0m \u001b[0mroc_curve\u001b[0m\u001b[0;34m(\u001b[0m\u001b[0myTest\u001b[0m\u001b[0;34m,\u001b[0m \u001b[0mosvmScore\u001b[0m\u001b[0;34m)\u001b[0m\u001b[0;34m\u001b[0m\u001b[0m\n\u001b[0m\u001b[1;32m      6\u001b[0m \u001b[0mroc_auc\u001b[0m \u001b[0;34m=\u001b[0m \u001b[0mauc\u001b[0m\u001b[0;34m(\u001b[0m\u001b[0mfpr\u001b[0m\u001b[0;34m,\u001b[0m \u001b[0mtpr\u001b[0m\u001b[0;34m)\u001b[0m\u001b[0;34m\u001b[0m\u001b[0m\n\u001b[1;32m      7\u001b[0m \u001b[0;34m\u001b[0m\u001b[0m\n",
      "\u001b[0;32m/usr/anaconda3/lib/python3.6/site-packages/sklearn/metrics/ranking.py\u001b[0m in \u001b[0;36mroc_curve\u001b[0;34m(y_true, y_score, pos_label, sample_weight, drop_intermediate)\u001b[0m\n\u001b[1;32m    503\u001b[0m     \"\"\"\n\u001b[1;32m    504\u001b[0m     fps, tps, thresholds = _binary_clf_curve(\n\u001b[0;32m--> 505\u001b[0;31m         y_true, y_score, pos_label=pos_label, sample_weight=sample_weight)\n\u001b[0m\u001b[1;32m    506\u001b[0m \u001b[0;34m\u001b[0m\u001b[0m\n\u001b[1;32m    507\u001b[0m     \u001b[0;31m# Attempt to drop thresholds corresponding to points in between and\u001b[0m\u001b[0;34m\u001b[0m\u001b[0;34m\u001b[0m\u001b[0m\n",
      "\u001b[0;32m/usr/anaconda3/lib/python3.6/site-packages/sklearn/metrics/ranking.py\u001b[0m in \u001b[0;36m_binary_clf_curve\u001b[0;34m(y_true, y_score, pos_label, sample_weight)\u001b[0m\n\u001b[1;32m    295\u001b[0m         \u001b[0mDecreasing\u001b[0m \u001b[0mscore\u001b[0m \u001b[0mvalues\u001b[0m\u001b[0;34m.\u001b[0m\u001b[0;34m\u001b[0m\u001b[0m\n\u001b[1;32m    296\u001b[0m     \"\"\"\n\u001b[0;32m--> 297\u001b[0;31m     \u001b[0mcheck_consistent_length\u001b[0m\u001b[0;34m(\u001b[0m\u001b[0my_true\u001b[0m\u001b[0;34m,\u001b[0m \u001b[0my_score\u001b[0m\u001b[0;34m)\u001b[0m\u001b[0;34m\u001b[0m\u001b[0m\n\u001b[0m\u001b[1;32m    298\u001b[0m     \u001b[0my_true\u001b[0m \u001b[0;34m=\u001b[0m \u001b[0mcolumn_or_1d\u001b[0m\u001b[0;34m(\u001b[0m\u001b[0my_true\u001b[0m\u001b[0;34m)\u001b[0m\u001b[0;34m\u001b[0m\u001b[0m\n\u001b[1;32m    299\u001b[0m     \u001b[0my_score\u001b[0m \u001b[0;34m=\u001b[0m \u001b[0mcolumn_or_1d\u001b[0m\u001b[0;34m(\u001b[0m\u001b[0my_score\u001b[0m\u001b[0;34m)\u001b[0m\u001b[0;34m\u001b[0m\u001b[0m\n",
      "\u001b[0;32m/usr/anaconda3/lib/python3.6/site-packages/sklearn/utils/validation.py\u001b[0m in \u001b[0;36mcheck_consistent_length\u001b[0;34m(*arrays)\u001b[0m\n\u001b[1;32m    179\u001b[0m     \u001b[0;32mif\u001b[0m \u001b[0mlen\u001b[0m\u001b[0;34m(\u001b[0m\u001b[0muniques\u001b[0m\u001b[0;34m)\u001b[0m \u001b[0;34m>\u001b[0m \u001b[0;36m1\u001b[0m\u001b[0;34m:\u001b[0m\u001b[0;34m\u001b[0m\u001b[0m\n\u001b[1;32m    180\u001b[0m         raise ValueError(\"Found input variables with inconsistent numbers of\"\n\u001b[0;32m--> 181\u001b[0;31m                          \" samples: %r\" % [int(l) for l in lengths])\n\u001b[0m\u001b[1;32m    182\u001b[0m \u001b[0;34m\u001b[0m\u001b[0m\n\u001b[1;32m    183\u001b[0m \u001b[0;34m\u001b[0m\u001b[0m\n",
      "\u001b[0;31mValueError\u001b[0m: Found input variables with inconsistent numbers of samples: [6487, 6558]"
     ]
    }
   ],
   "source": [
    "# #Creates ROC curve\n",
    "# from sklearn.metrics import roc_curve\n",
    "# yTest = np.append(sigTargetTest, backTarget)\n",
    "# osvmScore = np.append(osvmArrs[1], osvmArrs[2])\n",
    "# fpr, tpr, _ = roc_curve(yTest, osvmScore)\n",
    "# roc_auc = auc(fpr, tpr)\n",
    "\n",
    "# plt.figure()\n",
    "# lw = 2;\n",
    "# plt.plot(fpr, tpr, color='darkorange',\n",
    "#         lw = lw, label='ROC curve (area = %0.2f)' % roc_auc)\n",
    "# plt.plot([0, 1], [0, 1], color='navy', lw = lw, linestyle='--')\n",
    "# plt.xlim([0.0, 1.0])\n",
    "# plt.ylim([0.0, 1.05])\n",
    "# plt.xlabel('False Positive Rate')\n",
    "# plt.ylabel('True Positive Rate')\n",
    "# plt.title('ROC OSVM, Tuned, Nu = %s, Gamma = %s' % (nuVal,gammaVal))\n",
    "# plt.legend(loc=\"lower right\")\n",
    "# plt.show()"
   ]
  },
  {
   "cell_type": "code",
   "execution_count": null,
   "metadata": {
    "collapsed": true
   },
   "outputs": [],
   "source": [
    "# plot the line, the points, and the nearest vectors to the plane\n",
    "xx, yy = np.meshgrid(np.linspace(-100, 100, 500), np.linspace(-100, 100, 500))\n",
    "Z = clf.decision_function(np.c_[xx.ravel(), yy.ravel()])\n",
    "Z = Z.reshape(xx.shape)\n",
    "\n",
    "plt.title(\"Novelty Detection\")\n",
    "plt.contourf(xx, yy, Z, levels=np.linspace(Z.min(), 0, 7), cmap=plt.cm.PuBu)\n",
    "a = plt.contour(xx, yy, Z, levels=[0], linewidths=2, colors='darkred')\n",
    "plt.contourf(xx, yy, Z, levels=[0, Z.max()], colors='palevioletred')\n",
    "\n",
    "s = 40\n",
    "b1 = plt.scatter(X_train[:, 0], X_train[:, 1], c='white', s=s, edgecolors='k')\n",
    "b2 = plt.scatter(X_test[:, 0], X_test[:, 1], c='blueviolet', s=s,\n",
    "                 edgecolors='k')\n",
    "c = plt.scatter(X_outliers[:, 0], X_outliers[:, 1], c='gold', s=s,\n",
    "                edgecolors='k')\n",
    "plt.axis('tight')\n",
    "plt.xlim((-5, 5))\n",
    "plt.ylim((-5, 5))\n",
    "plt.legend([a.collections[0], b1, b2, c],\n",
    "           [\"learned frontier\", \"training observations\",\n",
    "            \"new regular observations\", \"new abnormal observations\"],\n",
    "           loc=\"upper left\",\n",
    "           prop=matplotlib.font_manager.FontProperties(size=11))\n",
    "plt.xlabel(\n",
    "    \"error train: %d/200 ; errors novel regular: %d/40 ; \"\n",
    "    \"errors novel abnormal: %d/40\"\n",
    "    % (n_error_train, n_error_test, n_error_outliers))\n",
    "plt.show()"
   ]
  },
  {
   "cell_type": "code",
   "execution_count": null,
   "metadata": {
    "collapsed": false
   },
   "outputs": [],
   "source": [
    "whos"
   ]
  },
  {
   "cell_type": "code",
   "execution_count": null,
   "metadata": {
    "collapsed": true
   },
   "outputs": [],
   "source": [
    "clf = svm.OneClassSVM(nu=0.1, kernel=\"rbf\", gamma=0.1)\n",
    "clf.fit(X_train)\n",
    "y_pred_train = clf.predict(X_train)\n",
    "y_pred_test = clf.predict(X_test)\n",
    "y_pred_outliers = clf.predict(X_outliers)\n",
    "n_error_train = y_pred_train[y_pred_train == -1].size\n",
    "n_error_test = y_pred_test[y_pred_test == -1].size\n",
    "n_error_outliers = y_pred_outliers[y_pred_outliers == 1].size"
   ]
  }
 ],
 "metadata": {
  "kernelspec": {
   "display_name": "Python 3",
   "language": "python",
   "name": "python3"
  },
  "language_info": {
   "codemirror_mode": {
    "name": "ipython",
    "version": 3
   },
   "file_extension": ".py",
   "mimetype": "text/x-python",
   "name": "python",
   "nbconvert_exporter": "python",
   "pygments_lexer": "ipython3",
   "version": "3.6.0"
  }
 },
 "nbformat": 4,
 "nbformat_minor": 2
}
