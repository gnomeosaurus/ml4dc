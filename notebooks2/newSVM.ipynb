{
 "cells": [
  {
   "cell_type": "code",
   "execution_count": 1,
   "metadata": {
    "collapsed": true
   },
   "outputs": [],
   "source": [
    "import os\n",
    "import time\n",
    "import h5py\n",
    "import numpy as np\n",
    "from sklearn.svm import *\n",
    "import matplotlib.pyplot as plt\n",
    "import matplotlib.font_manager\n",
    "\n",
    "from sklearn.model_selection import train_test_split\n",
    "from sklearn.utils import shuffle\n",
    "from sklearn.preprocessing import Normalizer\n",
    "from sklearn.metrics import roc_auc_score\n",
    "\n",
    "import pandas as pd"
   ]
  },
  {
   "cell_type": "code",
   "execution_count": null,
   "metadata": {
    "collapsed": true
   },
   "outputs": [],
   "source": []
  },
  {
   "cell_type": "code",
   "execution_count": 2,
   "metadata": {
    "collapsed": false
   },
   "outputs": [
    {
     "name": "stdout",
     "output_type": "stream",
     "text": [
      "XXXXXX\n"
     ]
    }
   ],
   "source": [
    "good_arr = '/mnt/hdf5test/BTagCSV_C_background.h5'\n",
    "bad_arr  = '/mnt/hdf5test/BTagCSV_D_background.h5'\n",
    "\n",
    "# data = np.load(arr, encoding = 'latin1')\n",
    "sig_jetfile = h5py.File(good_arr,'r')\n",
    "sig_jet     = sig_jetfile['BTagCSV_C_background'[:]]\n",
    "\n",
    "bg_jetfile = h5py.File(bad_arr,'r')\n",
    "bg_jet     = bg_jetfile['BTagCSV_D_background'[:]]\n",
    "\n",
    "good_jets = np.empty([0,2802])\n",
    "bad_jets  = np.empty([0,2802])\n",
    "# print(bad_jets)\n",
    "print(\"XXXXXX\")\n",
    "good_jets = np.concatenate((good_jets, sig_jet), axis=0)\n",
    "bad_jets  = np.concatenate((bad_jets,  bg_jet ), axis=0)\n",
    "# print(bad_jets)\n",
    "X_outliers = bad_jets\n",
    "# df1 = pd.DataFrame(good_jets)\n",
    "# print(df1)\n",
    "# df1['class'] = 1\n",
    "# print(df1)\n",
    "# df2 = pd.DataFrame(bad_jets)\n",
    "# df2['class'] = 0"
   ]
  },
  {
   "cell_type": "code",
   "execution_count": 10,
   "metadata": {
    "collapsed": false
   },
   "outputs": [
    {
     "name": "stdout",
     "output_type": "stream",
     "text": [
      "315\n",
      "252\n",
      "63\n",
      "138\n"
     ]
    }
   ],
   "source": [
    "print(len(good_jets))\n",
    "sigTrain, sigTest = train_test_split(good_jets,test_size = 0.2)\n",
    "print(len(sigTrain))\n",
    "print(len(sigTest))\n",
    "print(len(X_outliers))"
   ]
  },
  {
   "cell_type": "code",
   "execution_count": 14,
   "metadata": {
    "collapsed": false
   },
   "outputs": [
    {
     "name": "stdout",
     "output_type": "stream",
     "text": [
      "CPU times: user 229 ms, sys: 1.1 ms, total: 230 ms\n",
      "Wall time: 225 ms\n"
     ]
    }
   ],
   "source": [
    "%%time\n",
    "nuVal    = 0.1\n",
    "gammaVal = 0.01\n",
    "clf  = OneClassSVM(nu=nuVal, kernel = 'rbf', gamma = gammaVal)\n",
    "clf.fit(sigTrain)\n"
   ]
  },
  {
   "cell_type": "code",
   "execution_count": 15,
   "metadata": {
    "collapsed": false
   },
   "outputs": [
    {
     "name": "stdout",
     "output_type": "stream",
     "text": [
      "CPU times: user 383 ms, sys: 1.91 ms, total: 385 ms\n",
      "Wall time: 382 ms\n"
     ]
    }
   ],
   "source": [
    "%%time\n",
    "y_pred_train = clf.predict(sigTrain)\n",
    "y_pred_test = clf.predict(sigTest)\n",
    "y_pred_outliers = clf.predict(X_outliers)\n",
    "n_error_train = y_pred_train[y_pred_train == -1].size\n",
    "n_error_test = y_pred_test[y_pred_test == -1].size\n",
    "n_error_outliers = y_pred_outliers[y_pred_outliers == 1].size\n",
    "\n"
   ]
  },
  {
   "cell_type": "code",
   "execution_count": 16,
   "metadata": {
    "collapsed": false
   },
   "outputs": [
    {
     "name": "stdout",
     "output_type": "stream",
     "text": [
      "0.5952380952380952\n"
     ]
    }
   ],
   "source": [
    "print(n_error_train/len(sigTrain))\n"
   ]
  },
  {
   "cell_type": "code",
   "execution_count": 7,
   "metadata": {
    "collapsed": true
   },
   "outputs": [],
   "source": [
    "falseNegTrain = y_pred_train[y_pred_train == -1].size\n",
    "falseNegTest = y_pred_test[y_pred_test == -1].size\n",
    "falsePos = y_pred_outliers[y_pred_outliers == 1].size\n",
    "truePosTrain = y_pred_train[y_pred_train == 1].size\n",
    "truePosTest = y_pred_test[y_pred_test == 1].size"
   ]
  },
  {
   "cell_type": "code",
   "execution_count": 8,
   "metadata": {
    "collapsed": false
   },
   "outputs": [
    {
     "name": "stdout",
     "output_type": "stream",
     "text": [
      "CPU times: user 238 ms, sys: 2.52 ms, total: 240 ms\n",
      "Wall time: 237 ms\n"
     ]
    }
   ],
   "source": [
    "%%time\n",
    "#Plots classification results for signal and background\n",
    "osvmArrs = []\n",
    "osvmHists = []\n",
    "\n",
    "#Separates decision function results into signal and background\n",
    "#along with training and testing\n",
    "osvmArrs.append(clf.decision_function(sigTrain).ravel())\n",
    "osvmArrs.append(clf.decision_function(sigTest).ravel())\n",
    "osvmArrs.append(clf.decision_function(X_outliers).ravel())\n"
   ]
  },
  {
   "cell_type": "code",
   "execution_count": 9,
   "metadata": {
    "collapsed": false
   },
   "outputs": [
    {
     "name": "stderr",
     "output_type": "stream",
     "text": [
      "/usr/anaconda3/lib/python3.6/site-packages/matplotlib/__init__.py:1401: UserWarning:  This call to matplotlib.use() has no effect\n",
      "because the backend has already been chosen;\n",
      "matplotlib.use() must be called *before* pylab, matplotlib.pyplot,\n",
      "or matplotlib.backends is imported for the first time.\n",
      "\n",
      "  warnings.warn(_use_error_msg)\n"
     ]
    },
    {
     "name": "stdout",
     "output_type": "stream",
     "text": [
      "Loss Rate                                           :  100.0\n"
     ]
    },
    {
     "ename": "ZeroDivisionError",
     "evalue": "division by zero",
     "output_type": "error",
     "traceback": [
      "\u001b[0;31m---------------------------------------------------------------------------\u001b[0m",
      "\u001b[0;31mZeroDivisionError\u001b[0m                         Traceback (most recent call last)",
      "\u001b[0;32m<ipython-input-9-3289a0d722a2>\u001b[0m in \u001b[0;36m<module>\u001b[0;34m()\u001b[0m\n\u001b[1;32m     37\u001b[0m \u001b[0;31m#Prints relevant statistics below\u001b[0m\u001b[0;34m\u001b[0m\u001b[0;34m\u001b[0m\u001b[0m\n\u001b[1;32m     38\u001b[0m \u001b[0mprint\u001b[0m\u001b[0;34m(\u001b[0m\u001b[0;34m\"Loss Rate                                           : \"\u001b[0m\u001b[0;34m,\u001b[0m \u001b[0;34m(\u001b[0m\u001b[0mfalseNegTest\u001b[0m\u001b[0;34m/\u001b[0m\u001b[0;34m(\u001b[0m\u001b[0mtruePosTest\u001b[0m\u001b[0;34m+\u001b[0m\u001b[0mfalseNegTest\u001b[0m\u001b[0;34m)\u001b[0m\u001b[0;34m*\u001b[0m\u001b[0;36m100\u001b[0m\u001b[0;34m)\u001b[0m\u001b[0;34m)\u001b[0m\u001b[0;34m\u001b[0m\u001b[0m\n\u001b[0;32m---> 39\u001b[0;31m \u001b[0mprint\u001b[0m\u001b[0;34m(\u001b[0m\u001b[0;34m\"Pollution Rate                                      : \"\u001b[0m\u001b[0;34m,\u001b[0m \u001b[0;34m(\u001b[0m\u001b[0mfalsePos\u001b[0m\u001b[0;34m/\u001b[0m\u001b[0;34m(\u001b[0m\u001b[0mtruePosTest\u001b[0m\u001b[0;34m+\u001b[0m\u001b[0mfalsePos\u001b[0m\u001b[0;34m)\u001b[0m\u001b[0;34m)\u001b[0m\u001b[0;34m*\u001b[0m\u001b[0;36m100\u001b[0m\u001b[0;34m)\u001b[0m\u001b[0;34m\u001b[0m\u001b[0m\n\u001b[0m\u001b[1;32m     40\u001b[0m \u001b[0mprint\u001b[0m\u001b[0;34m(\u001b[0m\u001b[0;34m\"Number of errors on training set : \"\u001b[0m\u001b[0;34m,\u001b[0m \u001b[0mfalseNegTrain\u001b[0m\u001b[0;34m,\u001b[0m \u001b[0;34m\" Percentage: \"\u001b[0m\u001b[0;34m,\u001b[0m \u001b[0;34m(\u001b[0m\u001b[0mfalseNegTrain\u001b[0m\u001b[0;34m/\u001b[0m\u001b[0mlen\u001b[0m\u001b[0;34m(\u001b[0m\u001b[0msigTrain\u001b[0m\u001b[0;34m)\u001b[0m\u001b[0;34m*\u001b[0m\u001b[0;36m100\u001b[0m\u001b[0;34m)\u001b[0m\u001b[0;34m)\u001b[0m\u001b[0;34m\u001b[0m\u001b[0m\n\u001b[1;32m     41\u001b[0m \u001b[0mprint\u001b[0m\u001b[0;34m(\u001b[0m\u001b[0;34m\"Number of errors on test set     : \"\u001b[0m\u001b[0;34m,\u001b[0m \u001b[0mfalseNegTest\u001b[0m\u001b[0;34m,\u001b[0m \u001b[0;34m\" Percentage: \"\u001b[0m\u001b[0;34m,\u001b[0m \u001b[0;34m(\u001b[0m\u001b[0mfalseNegTest\u001b[0m\u001b[0;34m/\u001b[0m\u001b[0mlen\u001b[0m\u001b[0;34m(\u001b[0m\u001b[0msigTest\u001b[0m\u001b[0;34m)\u001b[0m\u001b[0;34m*\u001b[0m\u001b[0;36m100\u001b[0m\u001b[0;34m)\u001b[0m\u001b[0;34m)\u001b[0m\u001b[0;34m\u001b[0m\u001b[0m\n",
      "\u001b[0;31mZeroDivisionError\u001b[0m: division by zero"
     ]
    },
    {
     "data": {
      "image/png": "[encoded data removed]",
      "text/plain": [
       "<matplotlib.figure.Figure at 0x7f2d191e5f60>"
      ]
     },
     "metadata": {},
     "output_type": "display_data"
    }
   ],
   "source": [
    "#%jsroot on9\n",
    "%matplotlib inline\n",
    "matplotlib.use('Agg')\n",
    "\n",
    "#Sets up plot boundaries\n",
    "plotMin = min(min(osvmArrs[0]), min(osvmArrs[1]), min(osvmArrs[2]))\n",
    "plotMax = max(max(osvmArrs[0]), max(osvmArrs[1]), max(osvmArrs[2]))\n",
    "binz = np.linspace(plotMin, plotMax, 200)\n",
    "\n",
    "#Creates first histogram of Un-normalized Classification\n",
    "plt.figure(figsize=(7, 10))\n",
    "plt.subplot(211)\n",
    "plt.hist(osvmArrs[0], normed = False, bins = binz, edgecolor = 'red',   \n",
    "         facecolor = 'white', alpha=1, label = \"Signal Train\", linewidth = 1.5)\n",
    "plt.hist(osvmArrs[1], normed = False, bins = binz, edgecolor = 'green', \n",
    "         facecolor = 'white', alpha=1, label = \"Signal Test\")\n",
    "plt.hist(osvmArrs[2], normed = False, bins = binz, edgecolor = 'blue',  \n",
    "         facecolor = 'white', alpha=.5, label = \"Background\")\n",
    "plt.title(\"Classification Plot, OneClassSVM, Un-normalized, Nu = %s, Gamma = %s\" % (nuVal,gammaVal))\n",
    "plt.xlabel(\"Decision Function Score\")\n",
    "plt.ylabel(\"Counts per Bin\")\n",
    "plt.legend(loc = \"upper left\")\n",
    "\n",
    "#Creates second histogram of Normalized Classification\n",
    "plt.subplot(212)\n",
    "plt.hist(osvmArrs[0], normed = True, bins = binz, edgecolor = 'red',   \n",
    "         facecolor = 'white', alpha=1, label = \"Signal Train\", linewidth = 1.5)\n",
    "plt.hist(osvmArrs[1], normed = True, bins = binz, edgecolor = 'green', \n",
    "         facecolor = 'white', alpha=1, label = \"Signal Test\")\n",
    "plt.hist(osvmArrs[2], normed = True, bins = binz, edgecolor = 'blue',  \n",
    "         facecolor = 'white', alpha=.5, label = \"Background\")\n",
    "plt.title(\"Classification Plot, OneClassSVM, Normalized, Nu = %s, Gamma = %s\" % (nuVal,gammaVal))\n",
    "plt.xlabel(\"Decision Function Score\")\n",
    "plt.ylabel(\"Counts per Bin\")\n",
    "plt.legend()\n",
    "\n",
    "#Prints relevant statistics below\n",
    "print(\"Loss Rate                                           : \", (falseNegTest/(truePosTest+falseNegTest)*100))\n",
    "print(\"Pollution Rate                                      : \", (falsePos/(truePosTest+falsePos))*100)\n",
    "print(\"Number of errors on training set : \", falseNegTrain, \" Percentage: \", (falseNegTrain/len(sigTrain)*100))\n",
    "print(\"Number of errors on test set     : \", falseNegTest, \" Percentage: \", (falseNegTest/len(sigTest)*100))\n",
    "print(\"Number of errors on outliers set : \", falsePos, \"  Percentage: \", (falsePos/len(X_outliers)*100))"
   ]
  },
  {
   "cell_type": "code",
   "execution_count": null,
   "metadata": {
    "collapsed": true
   },
   "outputs": [],
   "source": []
  }
 ],
 "metadata": {
  "kernelspec": {
   "display_name": "Python 3",
   "language": "python",
   "name": "python3"
  },
  "language_info": {
   "codemirror_mode": {
    "name": "ipython",
    "version": 3
   },
   "file_extension": ".py",
   "mimetype": "text/x-python",
   "name": "python",
   "nbconvert_exporter": "python",
   "pygments_lexer": "ipython3",
   "version": "3.6.0"
  }
 },
 "nbformat": 4,
 "nbformat_minor": 2
}
