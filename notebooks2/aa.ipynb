{
 "cells": [
  {
   "cell_type": "code",
   "execution_count": null,
   "metadata": {
    "collapsed": false
   },
   "outputs": [],
   "source": [
    "import matplotlib.pyplot as plt\n",
    "plt.style.use('ggplot')\n",
    "from scipy.io import arff\n",
    "import pandas as pd\n",
    "from scipy import stats\n",
    "import itertools\n",
    "import random\n",
    "import numpy as np\n",
    "from sklearn.neighbors import NearestNeighbors\n",
    "from sklearn.preprocessing import MinMaxScaler\n",
    "from sklearn import metrics\n",
    "import h5py\n",
    "import os\n",
    "import time\n",
    "from sklearn.svm import *\n",
    "import matplotlib.font_manager\n",
    "from sklearn.model_selection import train_test_split\n",
    "from sklearn.utils import shuffle\n",
    "from sklearn.preprocessing import Normalizer\n",
    "from sklearn.metrics import roc_auc_score\n",
    "import my_metrics"
   ]
  },
  {
   "cell_type": "code",
   "execution_count": null,
   "metadata": {
    "collapsed": false
   },
   "outputs": [],
   "source": [
    "# arr = ('/eos/cms/store/group/comm_dqm/cmsml4dc/2016-v1/data2016_v2/'+\n",
    "#       'BTagCSV/crab_BTagCSVRun_2016C-18Apr2017-v1/170808_213346/0000/AODTree_102.npy')\n",
    "# good_arr = '/mnt/hdf5test/BTagCSV_C_signal.h5'\n",
    "# bad_arr  = '/mnt/hdf5test/BTagCSV_C_background.h5'\n",
    "\n",
    "good_arr = '/mnt/hdf5test/JetHT_C_signal.h5'\n",
    "bad_arr  = '/mnt/hdf5test/JetHT_C_background.h5'\n",
    "\n",
    "# data = np.load(arr, encoding = 'latin1')\n",
    "sig_jetfile = h5py.File(good_arr,'r')\n",
    "sig_jet     = sig_jetfile['JetHT_C_signal'[:]]\n",
    "\n",
    "bg_jetfile = h5py.File(bad_arr,'r')\n",
    "bg_jet     = bg_jetfile['JetHT_C_background'[:]]\n",
    "\n",
    "good_jets = np.empty([0,2802])\n",
    "bad_jets  = np.empty([0,2802])\n",
    "# print(bad_jets)\n",
    "print(\"XXXXXX\")\n",
    "good_jets = np.concatenate((good_jets, sig_jet), axis=0)\n",
    "bad_jets  = np.concatenate((bad_jets,  bg_jet),  axis=0)\n",
    "# print(bad_jets)\n",
    "\n",
    "df1 = pd.DataFrame(good_jets)\n",
    "# cutted_df = df1.iloc[:, 0:100]\n",
    "# df1 = cutted_df\n",
    "df1['class'] = 0\n",
    "print(df1)\n",
    "df2 = pd.DataFrame(bad_jets)\n",
    "# cutted_df = df2.iloc[:, 0:100]\n",
    "# df2 = cutted_df\n",
    "df2['class'] = 1\n",
    "\n",
    "frames = [df1,df2]\n",
    "df     = pd.concat(frames)\n",
    "print(df)\n",
    "# # arr = np.random.rand(10, 5)\n",
    "# df = pd.DataFrame(data)\n",
    "# print(df)"
   ]
  },
  {
   "cell_type": "code",
   "execution_count": null,
   "metadata": {
    "collapsed": false
   },
   "outputs": [],
   "source": [
    "# cutted_df = df.iloc[:, 0:100]\n",
    "# df = cutted_df\n",
    "df = shuffle(df)\n",
    "print(df)"
   ]
  },
  {
   "cell_type": "code",
   "execution_count": null,
   "metadata": {
    "collapsed": false
   },
   "outputs": [],
   "source": [
    "df = df.reset_index(drop=True)\n",
    "print(df)"
   ]
  },
  {
   "cell_type": "code",
   "execution_count": null,
   "metadata": {
    "collapsed": false
   },
   "outputs": [],
   "source": [
    "labels = df['class'].astype(int)\n",
    "# labels[labels != 0] = 1\n",
    "del df['class']"
   ]
  },
  {
   "cell_type": "code",
   "execution_count": null,
   "metadata": {
    "collapsed": false
   },
   "outputs": [],
   "source": [
    "print(df)"
   ]
  },
  {
   "cell_type": "code",
   "execution_count": null,
   "metadata": {
    "collapsed": false
   },
   "outputs": [],
   "source": [
    "print(labels[40:200])\n"
   ]
  },
  {
   "cell_type": "code",
   "execution_count": null,
   "metadata": {
    "collapsed": true
   },
   "outputs": [],
   "source": [
    "data = df "
   ]
  },
  {
   "cell_type": "code",
   "execution_count": null,
   "metadata": {
    "collapsed": true
   },
   "outputs": [],
   "source": [
    "from sklearn import preprocessing\n",
    "\n",
    "min_max_scaler = preprocessing.MinMaxScaler()\n",
    "np_scaled = min_max_scaler.fit_transform(data)\n",
    "data_n = pd.DataFrame(np_scaled)\n",
    "data_n = data_n.astype('float32')"
   ]
  },
  {
   "cell_type": "code",
   "execution_count": null,
   "metadata": {
    "collapsed": false
   },
   "outputs": [],
   "source": [
    "print(data_n)"
   ]
  },
  {
   "cell_type": "code",
   "execution_count": null,
   "metadata": {
    "collapsed": false
   },
   "outputs": [],
   "source": [
    "from keras.layers import Input, Dense\n",
    "from keras.models import Model\n",
    "\n",
    "encoding_dim = 2000\n",
    "input = Input(shape=(2802,))\n",
    "encoded = Dense(encoding_dim, activation='relu')(input)\n",
    "decoded = Dense(2802, activation='sigmoid')(encoded)\n",
    "autoencoder = Model(inputs=input, outputs=decoded)\n",
    "\n",
    "encoder = Model(inputs=input, outputs=encoded)\n",
    "\n",
    "encoded_input = Input(shape=(encoding_dim,))\n",
    "decoder_layer = autoencoder.layers[-1]\n",
    "decoder = Model(inputs=encoded_input, outputs=decoder_layer(encoded_input))\n",
    "\n",
    "autoencoder.compile(optimizer='adam',\n",
    "                    loss='binary_crossentropy',\n",
    "                    metrics=['accuracy', my_metrics.f1, my_metrics.mcor])\n",
    "\n",
    "\n",
    "autoencoder.fit(data_n.values, data_n.values,\n",
    "                epochs=2500,\n",
    "                batch_size=1700,\n",
    "                shuffle=True,\n",
    "#                 verbose=0\n",
    "               )\n",
    "\n"
   ]
  },
  {
   "cell_type": "code",
   "execution_count": null,
   "metadata": {
    "collapsed": true
   },
   "outputs": [],
   "source": [
    "autoencoder.save('my_model.h5')\n",
    "autoencoder.save_weights('my_model_weights.h5')"
   ]
  },
  {
   "cell_type": "code",
   "execution_count": null,
   "metadata": {
    "collapsed": true
   },
   "outputs": [],
   "source": [
    "encoded = encoder.predict(data_n.values)\n",
    "decoded = decoder.predict(encoded)\n"
   ]
  },
  {
   "cell_type": "code",
   "execution_count": null,
   "metadata": {
    "collapsed": false
   },
   "outputs": [],
   "source": [
    "print(encoded.shape)\n",
    "print(\"XXXX\")\n",
    "print(decoded)\n",
    "print(\"XXXX\")\n",
    "print()"
   ]
  },
  {
   "cell_type": "code",
   "execution_count": null,
   "metadata": {
    "collapsed": true
   },
   "outputs": [],
   "source": [
    "dist = np.zeros(len(data_n.values))\n",
    "for i, x in enumerate(data_n.values):\n",
    "    dist[i] = np.linalg.norm(x-decoded[i])"
   ]
  },
  {
   "cell_type": "code",
   "execution_count": null,
   "metadata": {
    "collapsed": false
   },
   "outputs": [],
   "source": [
    "from sklearn.metrics import roc_curve, auc\n",
    "\n",
    "fpr, tpr, thresholds = roc_curve(labels, dist)\n",
    "roc_auc = auc(fpr, tpr)\n",
    "\n",
    "plt.figure(figsize=(10,6))\n",
    "plt.plot(fpr, tpr, color='red', label='AUC = %0.2f)' % roc_auc)\n",
    "plt.xlim((0,1))\n",
    "plt.ylim((0,1))\n",
    "plt.plot([0, 1], [0, 1], color='navy', linestyle='--')\n",
    "plt.xlabel('False Positive rate')\n",
    "plt.ylabel('True Positive rate')\n",
    "plt.title('ROC Autoencoder 100-80-100 ReLU/Sigmoid synth\\_multidim\\_100\\_000')\n",
    "plt.legend(loc=\"lower right\")\n",
    "plt.show()"
   ]
  },
  {
   "cell_type": "code",
   "execution_count": null,
   "metadata": {
    "collapsed": true
   },
   "outputs": [],
   "source": []
  },
  {
   "cell_type": "code",
   "execution_count": null,
   "metadata": {
    "collapsed": true
   },
   "outputs": [],
   "source": []
  },
  {
   "cell_type": "code",
   "execution_count": null,
   "metadata": {
    "collapsed": false
   },
   "outputs": [],
   "source": [
    "data['labels'] = labels\n",
    "data['dist'] = dist\n",
    "\n",
    "plt.figure(figsize=(40,28))\n",
    "plt.scatter(data.index, data['dist'], c=data['labels'], edgecolor='black', s=30)\n",
    "plt.xlabel('Index')\n",
    "plt.ylabel('Score')\n",
    "plt.xlim((0,17730))\n",
    "plt.title(\"Outlier Score\")\n",
    "plt.show()\n",
    "plt.show()"
   ]
  },
  {
   "cell_type": "code",
   "execution_count": null,
   "metadata": {
    "collapsed": false
   },
   "outputs": [],
   "source": [
    "def compute_error_per_dim(point):\n",
    "    p = np.array(data_n.iloc[point,:]).reshape(1,2802)\n",
    "    encoded = encoder.predict(p)\n",
    "    decoded = decoder.predict(encoded)\n",
    "    return np.array(p - decoded)[0]\n",
    "\n",
    "plt.figure(figsize=(12,7))\n",
    "plt.plot(compute_error_per_dim(17000))\n",
    "plt.xlim((0,2802))\n",
    "plt.xlabel('Index')\n",
    "plt.ylabel('Reconstruction error')\n",
    "plt.title(\"Reconstruction error in each dimension of point 350\")\n",
    "plt.show()"
   ]
  },
  {
   "cell_type": "code",
   "execution_count": null,
   "metadata": {
    "collapsed": true
   },
   "outputs": [],
   "source": []
  }
 ],
 "metadata": {
  "kernelspec": {
   "display_name": "Python 3",
   "language": "python",
   "name": "python3"
  },
  "language_info": {
   "codemirror_mode": {
    "name": "ipython",
    "version": 3
   },
   "file_extension": ".py",
   "mimetype": "text/x-python",
   "name": "python",
   "nbconvert_exporter": "python",
   "pygments_lexer": "ipython3",
   "version": "3.6.0"
  }
 },
 "nbformat": 4,
 "nbformat_minor": 2
}
